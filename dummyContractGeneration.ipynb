{
  "cells": [
    {
      "cell_type": "code",
      "execution_count": 1,
      "metadata": {
        "id": "gvP-1C0y4MoW"
      },
      "outputs": [],
      "source": [
        "import openai\n",
        "import os"
      ]
    },
    {
      "cell_type": "code",
      "execution_count": 2,
      "metadata": {
        "id": "7iiGBf7w4Tz2"
      },
      "outputs": [],
      "source": [
        "from openai import AzureOpenAI\n",
        "client = AzureOpenAI(\n",
        "  api_key=\"\",\n",
        "  api_version = \"2024-02-01\",\n",
        "  azure_endpoint = \"https://embe.openai.azure.com/\"\n",
        ")"
      ]
    },
    {
      "cell_type": "code",
      "execution_count": 15,
      "metadata": {
        "id": "45wIa30u4-Ku"
      },
      "outputs": [],
      "source": [
        "messages = [\n",
        "    {\"role\": \"system\", \"content\": \"You are a helpful assistant that generates legal contracts.\"},\n",
        "    {\"role\": \"user\", \"content\": \"\"\"\n",
        "        Create a sample supplier contract with the following clauses:\n",
        "        1. **Rebates/Volume Discounts**: This clause outlines the conditions under which the buyer will receive rebates or volume discounts based on the quantity of goods or services purchased.\n",
        "        2. **SLAs/Service Credits**: This clause defines the Service Level Agreements (SLAs) between the parties, including performance expectations such as response times, uptime, and support availability, and specifies any service credits.\n",
        "        3. **Price Protection**: The price protection clause ensures that the buyer is protected from price increases during the contract term.\n",
        "        4. **Forex (Foreign Exchange)**: This clause addresses the management of foreign exchange risks, particularly when payments are made in different currencies.\n",
        "        5. **COLA/Inflation Adjustment**: This clause provides for periodic adjustments to the contract price based on changes in the inflation rate, usually as measured by the Consumer Price Index (CPI).\n",
        "        6. **Payment Terms**: The payment terms clause specifies the agreed-upon conditions for payment, such as the timing of payments and acceptable methods of payment.\n",
        "        7. **Early Payment Discounts**: This clause allows the buyer to receive a discount if payment is made before the due date.\n",
        "        8. **Late Payment Penalties**: This clause outlines the penalties or interest charges that will apply if payment is not made on time.\n",
        "        9. **Termination Provisions**: This clause defines the conditions under which either party can terminate the contract early.\n",
        "        10. **Committal/Non-Committal Contracts**: This clause specifies whether the contract is a committal or non-committal agreement.\n",
        "        11. **FOREX**: This clause governs the treatment of foreign exchange transactions within the contract.\n",
        "\n",
        "        The contract should read like a professional legal document.\n",
        "    \"\"\"}\n",
        "]\n"
      ]
    },
    {
      "cell_type": "code",
      "execution_count": 17,
      "metadata": {
        "colab": {
          "base_uri": "https://localhost:8080/"
        },
        "id": "f5BnAjYy5EwR",
        "outputId": "00faf74f-9789-4213-9f3c-4e44d842cdea"
      },
      "outputs": [
        {
          "name": "stdout",
          "output_type": "stream",
          "text": [
            "**SUPPLIER AGREEMENT**\n",
            "\n",
            "**This Supplier Agreement (\"Agreement\")** is entered into by and between [Buyer Company Name], a [State/Country] Corporation, with its principal office located at [Address] (“Buyer”), and [Supplier Company Name], a [State/Country] Corporation, with its principal office located at [Address] (\"Supplier\"), collectively referred to as the \"Parties\" or individually as a \"Party.\"\n",
            "\n",
            "### ARTICLE 1 - REBATES/VOLUME DISCOUNTS\n",
            "1.1 **Eligibility for Rebates/Volume Discounts:** The Supplier agrees to provide the Buyer with rebates or volume discounts on the total quantity of goods or services purchased as per the following schedule:\n",
            "   - **Tier 1:** Purchases of $[Amount] - [Discount%] discount.\n",
            "   - **Tier 2:** Purchases exceeding $[Amount] - [Higher Discount%] discount.\n",
            "   - Discounts will be applied on the next purchase invoice following the achievement of the above thresholds.\n",
            "\n",
            "### ARTICLE 2 - SLAs/SERVICE CREDITS\n",
            "2.1 **Service Level Agreements:** The Supplier guarantees the following service levels:\n",
            "   - **Response Time:** Response to inquiries must be within [X] hours.\n",
            "   - **Uptime:** Minimum uptime of [X]% during any calendar month.\n",
            "   - **Support Availability:** Support available from [time] to [time] [timezone], Monday through Friday.\n",
            "2.2 **Service Credits:** For each 1% of uptime below the agreed level, the Buyer shall receive service credits worth [X]% of that month’s service billing.\n",
            "\n",
            "### ARTICLE 3 - PRICE PROTECTION\n",
            "3.1 **Protection from Price Increases:** Prices quoted in this Agreement shall be fixed and not subject to increases, except as mutually agreed upon in writing by both Parties.\n",
            "\n",
            "### ARTICLE 4 - FOREX (FOREIGN EXCHANGE)\n",
            "4.1 **Exchange Rate Risk Management:** All payments made under\n"
          ]
        }
      ],
      "source": [
        "response = client.chat.completions.create(\n",
        "    model=\"gpt-4\",\n",
        "    messages=messages,\n",
        "    max_tokens=400\n",
        ")\n",
        "\n",
        "contract_text = response.choices[0].message.content.strip()\n",
        "print(contract_text)"
      ]
    },
    {
      "cell_type": "code",
      "execution_count": 19,
      "metadata": {
        "colab": {
          "base_uri": "https://localhost:8080/"
        },
        "id": "X_alI7Sf_2zo",
        "outputId": "e5d89787-70b8-4694-9fc2-c209d668ddb4"
      },
      "outputs": [
        {
          "name": "stdout",
          "output_type": "stream",
          "text": [
            "Collecting python-docx\n",
            "  Downloading python_docx-1.1.2-py3-none-any.whl.metadata (2.0 kB)\n",
            "Requirement already satisfied: lxml>=3.1.0 in /usr/local/lib/python3.10/dist-packages (from python-docx) (5.3.0)\n",
            "Requirement already satisfied: typing-extensions>=4.9.0 in /usr/local/lib/python3.10/dist-packages (from python-docx) (4.12.2)\n",
            "Downloading python_docx-1.1.2-py3-none-any.whl (244 kB)\n",
            "\u001b[?25l   \u001b[90m━━━━━━━━━━━━━━━━━━━━━━━━━━━━━━━━━━━━━━━━\u001b[0m \u001b[32m0.0/244.3 kB\u001b[0m \u001b[31m?\u001b[0m eta \u001b[36m-:--:--\u001b[0m\r\u001b[2K   \u001b[90m━━━━━━━━━━━━━━━━━━━━━━━━━━━━━━━━━━━━━━━━\u001b[0m \u001b[32m244.3/244.3 kB\u001b[0m \u001b[31m8.2 MB/s\u001b[0m eta \u001b[36m0:00:00\u001b[0m\n",
            "\u001b[?25hInstalling collected packages: python-docx\n",
            "Successfully installed python-docx-1.1.2\n"
          ]
        }
      ],
      "source": [
        "!pip install python-docx"
      ]
    },
    {
      "cell_type": "code",
      "execution_count": 20,
      "metadata": {
        "id": "cZ_q-9he_ny5"
      },
      "outputs": [],
      "source": [
        "from docx import Document\n",
        "\n",
        "# Create a new Word document\n",
        "document = Document()\n",
        "\n",
        "# Add title\n",
        "document.add_heading('Sample Supplier Contract', level=1)\n",
        "\n",
        "# Add each clause as a section in the Word document\n",
        "clauses = contract_text.split('\\n')  # assuming each clause is separated by a newline\n",
        "for clause in clauses:\n",
        "    document.add_paragraph(clause)\n",
        "\n",
        "# Save the document\n",
        "document.save('dummy_contract.docx')"
      ]
    },
    {
      "cell_type": "code",
      "execution_count": 21,
      "metadata": {
        "id": "lFiGh2ADANKj"
      },
      "outputs": [],
      "source": [
        "from google.colab import files"
      ]
    },
    {
      "cell_type": "code",
      "execution_count": 22,
      "metadata": {
        "colab": {
          "base_uri": "https://localhost:8080/",
          "height": 17
        },
        "id": "KnIKT6XgATdy",
        "outputId": "e63279be-4a0f-45cc-c31e-fdf8b0960c01"
      },
      "outputs": [
        {
          "data": {
            "application/javascript": "\n    async function download(id, filename, size) {\n      if (!google.colab.kernel.accessAllowed) {\n        return;\n      }\n      const div = document.createElement('div');\n      const label = document.createElement('label');\n      label.textContent = `Downloading \"${filename}\": `;\n      div.appendChild(label);\n      const progress = document.createElement('progress');\n      progress.max = size;\n      div.appendChild(progress);\n      document.body.appendChild(div);\n\n      const buffers = [];\n      let downloaded = 0;\n\n      const channel = await google.colab.kernel.comms.open(id);\n      // Send a message to notify the kernel that we're ready.\n      channel.send({})\n\n      for await (const message of channel.messages) {\n        // Send a message to notify the kernel that we're ready.\n        channel.send({})\n        if (message.buffers) {\n          for (const buffer of message.buffers) {\n            buffers.push(buffer);\n            downloaded += buffer.byteLength;\n            progress.value = downloaded;\n          }\n        }\n      }\n      const blob = new Blob(buffers, {type: 'application/binary'});\n      const a = document.createElement('a');\n      a.href = window.URL.createObjectURL(blob);\n      a.download = filename;\n      div.appendChild(a);\n      a.click();\n      div.remove();\n    }\n  ",
            "text/plain": [
              "<IPython.core.display.Javascript object>"
            ]
          },
          "metadata": {},
          "output_type": "display_data"
        },
        {
          "data": {
            "application/javascript": "download(\"download_01f0f192-74ea-43e4-8e52-59d795bc4da8\", \"dummy_contract.docx\", 37566)",
            "text/plain": [
              "<IPython.core.display.Javascript object>"
            ]
          },
          "metadata": {},
          "output_type": "display_data"
        }
      ],
      "source": [
        "\n",
        "files.download('dummy_contract.docx')"
      ]
    }
  ],
  "metadata": {
    "colab": {
      "provenance": []
    },
    "kernelspec": {
      "display_name": "Python 3",
      "name": "python3"
    },
    "language_info": {
      "name": "python"
    }
  },
  "nbformat": 4,
  "nbformat_minor": 0
}
