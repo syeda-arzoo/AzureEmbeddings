{
  "nbformat": 4,
  "nbformat_minor": 0,
  "metadata": {
    "colab": {
      "provenance": []
    },
    "kernelspec": {
      "name": "python3",
      "display_name": "Python 3"
    },
    "language_info": {
      "name": "python"
    },
    "widgets": {
      "application/vnd.jupyter.widget-state+json": {
        "7da6c8c167a74d9bab5d05012b6cfca1": {
          "model_module": "@jupyter-widgets/controls",
          "model_name": "HBoxModel",
          "model_module_version": "1.5.0",
          "state": {
            "_dom_classes": [],
            "_model_module": "@jupyter-widgets/controls",
            "_model_module_version": "1.5.0",
            "_model_name": "HBoxModel",
            "_view_count": null,
            "_view_module": "@jupyter-widgets/controls",
            "_view_module_version": "1.5.0",
            "_view_name": "HBoxView",
            "box_style": "",
            "children": [
              "IPY_MODEL_fc6bc599d3f74f678e9a8142a27cc4af",
              "IPY_MODEL_2dd46d2d260d4a08a624301593e5a88a",
              "IPY_MODEL_0640d88ffb29425690d9e61d4b3b6394"
            ],
            "layout": "IPY_MODEL_d49f5c851c6245e299d1fbb8fe184be1"
          }
        },
        "fc6bc599d3f74f678e9a8142a27cc4af": {
          "model_module": "@jupyter-widgets/controls",
          "model_name": "HTMLModel",
          "model_module_version": "1.5.0",
          "state": {
            "_dom_classes": [],
            "_model_module": "@jupyter-widgets/controls",
            "_model_module_version": "1.5.0",
            "_model_name": "HTMLModel",
            "_view_count": null,
            "_view_module": "@jupyter-widgets/controls",
            "_view_module_version": "1.5.0",
            "_view_name": "HTMLView",
            "description": "",
            "description_tooltip": null,
            "layout": "IPY_MODEL_745104068da24eb19915b6f1a53b73fd",
            "placeholder": "​",
            "style": "IPY_MODEL_fe65c67040dd4e1ea44ebb89d0524a3f",
            "value": "tokenizer_config.json: 100%"
          }
        },
        "2dd46d2d260d4a08a624301593e5a88a": {
          "model_module": "@jupyter-widgets/controls",
          "model_name": "FloatProgressModel",
          "model_module_version": "1.5.0",
          "state": {
            "_dom_classes": [],
            "_model_module": "@jupyter-widgets/controls",
            "_model_module_version": "1.5.0",
            "_model_name": "FloatProgressModel",
            "_view_count": null,
            "_view_module": "@jupyter-widgets/controls",
            "_view_module_version": "1.5.0",
            "_view_name": "ProgressView",
            "bar_style": "success",
            "description": "",
            "description_tooltip": null,
            "layout": "IPY_MODEL_f6bada7ca07b44bb97e65ec5b847a4cf",
            "max": 48,
            "min": 0,
            "orientation": "horizontal",
            "style": "IPY_MODEL_edd6f3d437e4426eb4d916c9f2035bb8",
            "value": 48
          }
        },
        "0640d88ffb29425690d9e61d4b3b6394": {
          "model_module": "@jupyter-widgets/controls",
          "model_name": "HTMLModel",
          "model_module_version": "1.5.0",
          "state": {
            "_dom_classes": [],
            "_model_module": "@jupyter-widgets/controls",
            "_model_module_version": "1.5.0",
            "_model_name": "HTMLModel",
            "_view_count": null,
            "_view_module": "@jupyter-widgets/controls",
            "_view_module_version": "1.5.0",
            "_view_name": "HTMLView",
            "description": "",
            "description_tooltip": null,
            "layout": "IPY_MODEL_072c6e4203df4ee2bea9ff7c25be57e5",
            "placeholder": "​",
            "style": "IPY_MODEL_6b2a6d12f5fd4d63b889451295a02be4",
            "value": " 48.0/48.0 [00:00&lt;00:00, 1.14kB/s]"
          }
        },
        "d49f5c851c6245e299d1fbb8fe184be1": {
          "model_module": "@jupyter-widgets/base",
          "model_name": "LayoutModel",
          "model_module_version": "1.2.0",
          "state": {
            "_model_module": "@jupyter-widgets/base",
            "_model_module_version": "1.2.0",
            "_model_name": "LayoutModel",
            "_view_count": null,
            "_view_module": "@jupyter-widgets/base",
            "_view_module_version": "1.2.0",
            "_view_name": "LayoutView",
            "align_content": null,
            "align_items": null,
            "align_self": null,
            "border": null,
            "bottom": null,
            "display": null,
            "flex": null,
            "flex_flow": null,
            "grid_area": null,
            "grid_auto_columns": null,
            "grid_auto_flow": null,
            "grid_auto_rows": null,
            "grid_column": null,
            "grid_gap": null,
            "grid_row": null,
            "grid_template_areas": null,
            "grid_template_columns": null,
            "grid_template_rows": null,
            "height": null,
            "justify_content": null,
            "justify_items": null,
            "left": null,
            "margin": null,
            "max_height": null,
            "max_width": null,
            "min_height": null,
            "min_width": null,
            "object_fit": null,
            "object_position": null,
            "order": null,
            "overflow": null,
            "overflow_x": null,
            "overflow_y": null,
            "padding": null,
            "right": null,
            "top": null,
            "visibility": null,
            "width": null
          }
        },
        "745104068da24eb19915b6f1a53b73fd": {
          "model_module": "@jupyter-widgets/base",
          "model_name": "LayoutModel",
          "model_module_version": "1.2.0",
          "state": {
            "_model_module": "@jupyter-widgets/base",
            "_model_module_version": "1.2.0",
            "_model_name": "LayoutModel",
            "_view_count": null,
            "_view_module": "@jupyter-widgets/base",
            "_view_module_version": "1.2.0",
            "_view_name": "LayoutView",
            "align_content": null,
            "align_items": null,
            "align_self": null,
            "border": null,
            "bottom": null,
            "display": null,
            "flex": null,
            "flex_flow": null,
            "grid_area": null,
            "grid_auto_columns": null,
            "grid_auto_flow": null,
            "grid_auto_rows": null,
            "grid_column": null,
            "grid_gap": null,
            "grid_row": null,
            "grid_template_areas": null,
            "grid_template_columns": null,
            "grid_template_rows": null,
            "height": null,
            "justify_content": null,
            "justify_items": null,
            "left": null,
            "margin": null,
            "max_height": null,
            "max_width": null,
            "min_height": null,
            "min_width": null,
            "object_fit": null,
            "object_position": null,
            "order": null,
            "overflow": null,
            "overflow_x": null,
            "overflow_y": null,
            "padding": null,
            "right": null,
            "top": null,
            "visibility": null,
            "width": null
          }
        },
        "fe65c67040dd4e1ea44ebb89d0524a3f": {
          "model_module": "@jupyter-widgets/controls",
          "model_name": "DescriptionStyleModel",
          "model_module_version": "1.5.0",
          "state": {
            "_model_module": "@jupyter-widgets/controls",
            "_model_module_version": "1.5.0",
            "_model_name": "DescriptionStyleModel",
            "_view_count": null,
            "_view_module": "@jupyter-widgets/base",
            "_view_module_version": "1.2.0",
            "_view_name": "StyleView",
            "description_width": ""
          }
        },
        "f6bada7ca07b44bb97e65ec5b847a4cf": {
          "model_module": "@jupyter-widgets/base",
          "model_name": "LayoutModel",
          "model_module_version": "1.2.0",
          "state": {
            "_model_module": "@jupyter-widgets/base",
            "_model_module_version": "1.2.0",
            "_model_name": "LayoutModel",
            "_view_count": null,
            "_view_module": "@jupyter-widgets/base",
            "_view_module_version": "1.2.0",
            "_view_name": "LayoutView",
            "align_content": null,
            "align_items": null,
            "align_self": null,
            "border": null,
            "bottom": null,
            "display": null,
            "flex": null,
            "flex_flow": null,
            "grid_area": null,
            "grid_auto_columns": null,
            "grid_auto_flow": null,
            "grid_auto_rows": null,
            "grid_column": null,
            "grid_gap": null,
            "grid_row": null,
            "grid_template_areas": null,
            "grid_template_columns": null,
            "grid_template_rows": null,
            "height": null,
            "justify_content": null,
            "justify_items": null,
            "left": null,
            "margin": null,
            "max_height": null,
            "max_width": null,
            "min_height": null,
            "min_width": null,
            "object_fit": null,
            "object_position": null,
            "order": null,
            "overflow": null,
            "overflow_x": null,
            "overflow_y": null,
            "padding": null,
            "right": null,
            "top": null,
            "visibility": null,
            "width": null
          }
        },
        "edd6f3d437e4426eb4d916c9f2035bb8": {
          "model_module": "@jupyter-widgets/controls",
          "model_name": "ProgressStyleModel",
          "model_module_version": "1.5.0",
          "state": {
            "_model_module": "@jupyter-widgets/controls",
            "_model_module_version": "1.5.0",
            "_model_name": "ProgressStyleModel",
            "_view_count": null,
            "_view_module": "@jupyter-widgets/base",
            "_view_module_version": "1.2.0",
            "_view_name": "StyleView",
            "bar_color": null,
            "description_width": ""
          }
        },
        "072c6e4203df4ee2bea9ff7c25be57e5": {
          "model_module": "@jupyter-widgets/base",
          "model_name": "LayoutModel",
          "model_module_version": "1.2.0",
          "state": {
            "_model_module": "@jupyter-widgets/base",
            "_model_module_version": "1.2.0",
            "_model_name": "LayoutModel",
            "_view_count": null,
            "_view_module": "@jupyter-widgets/base",
            "_view_module_version": "1.2.0",
            "_view_name": "LayoutView",
            "align_content": null,
            "align_items": null,
            "align_self": null,
            "border": null,
            "bottom": null,
            "display": null,
            "flex": null,
            "flex_flow": null,
            "grid_area": null,
            "grid_auto_columns": null,
            "grid_auto_flow": null,
            "grid_auto_rows": null,
            "grid_column": null,
            "grid_gap": null,
            "grid_row": null,
            "grid_template_areas": null,
            "grid_template_columns": null,
            "grid_template_rows": null,
            "height": null,
            "justify_content": null,
            "justify_items": null,
            "left": null,
            "margin": null,
            "max_height": null,
            "max_width": null,
            "min_height": null,
            "min_width": null,
            "object_fit": null,
            "object_position": null,
            "order": null,
            "overflow": null,
            "overflow_x": null,
            "overflow_y": null,
            "padding": null,
            "right": null,
            "top": null,
            "visibility": null,
            "width": null
          }
        },
        "6b2a6d12f5fd4d63b889451295a02be4": {
          "model_module": "@jupyter-widgets/controls",
          "model_name": "DescriptionStyleModel",
          "model_module_version": "1.5.0",
          "state": {
            "_model_module": "@jupyter-widgets/controls",
            "_model_module_version": "1.5.0",
            "_model_name": "DescriptionStyleModel",
            "_view_count": null,
            "_view_module": "@jupyter-widgets/base",
            "_view_module_version": "1.2.0",
            "_view_name": "StyleView",
            "description_width": ""
          }
        },
        "680ab763303a4813812c1c92d6771e83": {
          "model_module": "@jupyter-widgets/controls",
          "model_name": "HBoxModel",
          "model_module_version": "1.5.0",
          "state": {
            "_dom_classes": [],
            "_model_module": "@jupyter-widgets/controls",
            "_model_module_version": "1.5.0",
            "_model_name": "HBoxModel",
            "_view_count": null,
            "_view_module": "@jupyter-widgets/controls",
            "_view_module_version": "1.5.0",
            "_view_name": "HBoxView",
            "box_style": "",
            "children": [
              "IPY_MODEL_a68a849015aa4e75928456f4f352ae10",
              "IPY_MODEL_a7e2274f9518406ba51510a21b087fa1",
              "IPY_MODEL_10a26d47ca1448eba3e2280735fb0f1e"
            ],
            "layout": "IPY_MODEL_0b285b5568d341c0a4916f4d38107ba9"
          }
        },
        "a68a849015aa4e75928456f4f352ae10": {
          "model_module": "@jupyter-widgets/controls",
          "model_name": "HTMLModel",
          "model_module_version": "1.5.0",
          "state": {
            "_dom_classes": [],
            "_model_module": "@jupyter-widgets/controls",
            "_model_module_version": "1.5.0",
            "_model_name": "HTMLModel",
            "_view_count": null,
            "_view_module": "@jupyter-widgets/controls",
            "_view_module_version": "1.5.0",
            "_view_name": "HTMLView",
            "description": "",
            "description_tooltip": null,
            "layout": "IPY_MODEL_2c59fea284e646d9ad33330d68ae6755",
            "placeholder": "​",
            "style": "IPY_MODEL_6002f995804a41d1a291d702fb88a48b",
            "value": "vocab.txt: 100%"
          }
        },
        "a7e2274f9518406ba51510a21b087fa1": {
          "model_module": "@jupyter-widgets/controls",
          "model_name": "FloatProgressModel",
          "model_module_version": "1.5.0",
          "state": {
            "_dom_classes": [],
            "_model_module": "@jupyter-widgets/controls",
            "_model_module_version": "1.5.0",
            "_model_name": "FloatProgressModel",
            "_view_count": null,
            "_view_module": "@jupyter-widgets/controls",
            "_view_module_version": "1.5.0",
            "_view_name": "ProgressView",
            "bar_style": "success",
            "description": "",
            "description_tooltip": null,
            "layout": "IPY_MODEL_bc2feb8232914ab7b03d2801476b779a",
            "max": 231508,
            "min": 0,
            "orientation": "horizontal",
            "style": "IPY_MODEL_8f25b697a7454178991a68bda1412e51",
            "value": 231508
          }
        },
        "10a26d47ca1448eba3e2280735fb0f1e": {
          "model_module": "@jupyter-widgets/controls",
          "model_name": "HTMLModel",
          "model_module_version": "1.5.0",
          "state": {
            "_dom_classes": [],
            "_model_module": "@jupyter-widgets/controls",
            "_model_module_version": "1.5.0",
            "_model_name": "HTMLModel",
            "_view_count": null,
            "_view_module": "@jupyter-widgets/controls",
            "_view_module_version": "1.5.0",
            "_view_name": "HTMLView",
            "description": "",
            "description_tooltip": null,
            "layout": "IPY_MODEL_0c17f2f7962546e5822d9918ee7ee61a",
            "placeholder": "​",
            "style": "IPY_MODEL_fb017ca3453648b9bc9609a90161e780",
            "value": " 232k/232k [00:00&lt;00:00, 2.89MB/s]"
          }
        },
        "0b285b5568d341c0a4916f4d38107ba9": {
          "model_module": "@jupyter-widgets/base",
          "model_name": "LayoutModel",
          "model_module_version": "1.2.0",
          "state": {
            "_model_module": "@jupyter-widgets/base",
            "_model_module_version": "1.2.0",
            "_model_name": "LayoutModel",
            "_view_count": null,
            "_view_module": "@jupyter-widgets/base",
            "_view_module_version": "1.2.0",
            "_view_name": "LayoutView",
            "align_content": null,
            "align_items": null,
            "align_self": null,
            "border": null,
            "bottom": null,
            "display": null,
            "flex": null,
            "flex_flow": null,
            "grid_area": null,
            "grid_auto_columns": null,
            "grid_auto_flow": null,
            "grid_auto_rows": null,
            "grid_column": null,
            "grid_gap": null,
            "grid_row": null,
            "grid_template_areas": null,
            "grid_template_columns": null,
            "grid_template_rows": null,
            "height": null,
            "justify_content": null,
            "justify_items": null,
            "left": null,
            "margin": null,
            "max_height": null,
            "max_width": null,
            "min_height": null,
            "min_width": null,
            "object_fit": null,
            "object_position": null,
            "order": null,
            "overflow": null,
            "overflow_x": null,
            "overflow_y": null,
            "padding": null,
            "right": null,
            "top": null,
            "visibility": null,
            "width": null
          }
        },
        "2c59fea284e646d9ad33330d68ae6755": {
          "model_module": "@jupyter-widgets/base",
          "model_name": "LayoutModel",
          "model_module_version": "1.2.0",
          "state": {
            "_model_module": "@jupyter-widgets/base",
            "_model_module_version": "1.2.0",
            "_model_name": "LayoutModel",
            "_view_count": null,
            "_view_module": "@jupyter-widgets/base",
            "_view_module_version": "1.2.0",
            "_view_name": "LayoutView",
            "align_content": null,
            "align_items": null,
            "align_self": null,
            "border": null,
            "bottom": null,
            "display": null,
            "flex": null,
            "flex_flow": null,
            "grid_area": null,
            "grid_auto_columns": null,
            "grid_auto_flow": null,
            "grid_auto_rows": null,
            "grid_column": null,
            "grid_gap": null,
            "grid_row": null,
            "grid_template_areas": null,
            "grid_template_columns": null,
            "grid_template_rows": null,
            "height": null,
            "justify_content": null,
            "justify_items": null,
            "left": null,
            "margin": null,
            "max_height": null,
            "max_width": null,
            "min_height": null,
            "min_width": null,
            "object_fit": null,
            "object_position": null,
            "order": null,
            "overflow": null,
            "overflow_x": null,
            "overflow_y": null,
            "padding": null,
            "right": null,
            "top": null,
            "visibility": null,
            "width": null
          }
        },
        "6002f995804a41d1a291d702fb88a48b": {
          "model_module": "@jupyter-widgets/controls",
          "model_name": "DescriptionStyleModel",
          "model_module_version": "1.5.0",
          "state": {
            "_model_module": "@jupyter-widgets/controls",
            "_model_module_version": "1.5.0",
            "_model_name": "DescriptionStyleModel",
            "_view_count": null,
            "_view_module": "@jupyter-widgets/base",
            "_view_module_version": "1.2.0",
            "_view_name": "StyleView",
            "description_width": ""
          }
        },
        "bc2feb8232914ab7b03d2801476b779a": {
          "model_module": "@jupyter-widgets/base",
          "model_name": "LayoutModel",
          "model_module_version": "1.2.0",
          "state": {
            "_model_module": "@jupyter-widgets/base",
            "_model_module_version": "1.2.0",
            "_model_name": "LayoutModel",
            "_view_count": null,
            "_view_module": "@jupyter-widgets/base",
            "_view_module_version": "1.2.0",
            "_view_name": "LayoutView",
            "align_content": null,
            "align_items": null,
            "align_self": null,
            "border": null,
            "bottom": null,
            "display": null,
            "flex": null,
            "flex_flow": null,
            "grid_area": null,
            "grid_auto_columns": null,
            "grid_auto_flow": null,
            "grid_auto_rows": null,
            "grid_column": null,
            "grid_gap": null,
            "grid_row": null,
            "grid_template_areas": null,
            "grid_template_columns": null,
            "grid_template_rows": null,
            "height": null,
            "justify_content": null,
            "justify_items": null,
            "left": null,
            "margin": null,
            "max_height": null,
            "max_width": null,
            "min_height": null,
            "min_width": null,
            "object_fit": null,
            "object_position": null,
            "order": null,
            "overflow": null,
            "overflow_x": null,
            "overflow_y": null,
            "padding": null,
            "right": null,
            "top": null,
            "visibility": null,
            "width": null
          }
        },
        "8f25b697a7454178991a68bda1412e51": {
          "model_module": "@jupyter-widgets/controls",
          "model_name": "ProgressStyleModel",
          "model_module_version": "1.5.0",
          "state": {
            "_model_module": "@jupyter-widgets/controls",
            "_model_module_version": "1.5.0",
            "_model_name": "ProgressStyleModel",
            "_view_count": null,
            "_view_module": "@jupyter-widgets/base",
            "_view_module_version": "1.2.0",
            "_view_name": "StyleView",
            "bar_color": null,
            "description_width": ""
          }
        },
        "0c17f2f7962546e5822d9918ee7ee61a": {
          "model_module": "@jupyter-widgets/base",
          "model_name": "LayoutModel",
          "model_module_version": "1.2.0",
          "state": {
            "_model_module": "@jupyter-widgets/base",
            "_model_module_version": "1.2.0",
            "_model_name": "LayoutModel",
            "_view_count": null,
            "_view_module": "@jupyter-widgets/base",
            "_view_module_version": "1.2.0",
            "_view_name": "LayoutView",
            "align_content": null,
            "align_items": null,
            "align_self": null,
            "border": null,
            "bottom": null,
            "display": null,
            "flex": null,
            "flex_flow": null,
            "grid_area": null,
            "grid_auto_columns": null,
            "grid_auto_flow": null,
            "grid_auto_rows": null,
            "grid_column": null,
            "grid_gap": null,
            "grid_row": null,
            "grid_template_areas": null,
            "grid_template_columns": null,
            "grid_template_rows": null,
            "height": null,
            "justify_content": null,
            "justify_items": null,
            "left": null,
            "margin": null,
            "max_height": null,
            "max_width": null,
            "min_height": null,
            "min_width": null,
            "object_fit": null,
            "object_position": null,
            "order": null,
            "overflow": null,
            "overflow_x": null,
            "overflow_y": null,
            "padding": null,
            "right": null,
            "top": null,
            "visibility": null,
            "width": null
          }
        },
        "fb017ca3453648b9bc9609a90161e780": {
          "model_module": "@jupyter-widgets/controls",
          "model_name": "DescriptionStyleModel",
          "model_module_version": "1.5.0",
          "state": {
            "_model_module": "@jupyter-widgets/controls",
            "_model_module_version": "1.5.0",
            "_model_name": "DescriptionStyleModel",
            "_view_count": null,
            "_view_module": "@jupyter-widgets/base",
            "_view_module_version": "1.2.0",
            "_view_name": "StyleView",
            "description_width": ""
          }
        },
        "feb3316ec9764614b3f9d463b811b431": {
          "model_module": "@jupyter-widgets/controls",
          "model_name": "HBoxModel",
          "model_module_version": "1.5.0",
          "state": {
            "_dom_classes": [],
            "_model_module": "@jupyter-widgets/controls",
            "_model_module_version": "1.5.0",
            "_model_name": "HBoxModel",
            "_view_count": null,
            "_view_module": "@jupyter-widgets/controls",
            "_view_module_version": "1.5.0",
            "_view_name": "HBoxView",
            "box_style": "",
            "children": [
              "IPY_MODEL_a42c19f32ce9450aa7fc4973ab00ad67",
              "IPY_MODEL_af1a0b0e40a648e48c2c2222e7ae7bd5",
              "IPY_MODEL_e7e9e2c407f445bb90caec9425f81192"
            ],
            "layout": "IPY_MODEL_31241fa4430b471e840cac20fdf79069"
          }
        },
        "a42c19f32ce9450aa7fc4973ab00ad67": {
          "model_module": "@jupyter-widgets/controls",
          "model_name": "HTMLModel",
          "model_module_version": "1.5.0",
          "state": {
            "_dom_classes": [],
            "_model_module": "@jupyter-widgets/controls",
            "_model_module_version": "1.5.0",
            "_model_name": "HTMLModel",
            "_view_count": null,
            "_view_module": "@jupyter-widgets/controls",
            "_view_module_version": "1.5.0",
            "_view_name": "HTMLView",
            "description": "",
            "description_tooltip": null,
            "layout": "IPY_MODEL_6741024da0d0427eb086586c85dfc543",
            "placeholder": "​",
            "style": "IPY_MODEL_57f3823fc241475aa8024bed5aa68769",
            "value": "tokenizer.json: 100%"
          }
        },
        "af1a0b0e40a648e48c2c2222e7ae7bd5": {
          "model_module": "@jupyter-widgets/controls",
          "model_name": "FloatProgressModel",
          "model_module_version": "1.5.0",
          "state": {
            "_dom_classes": [],
            "_model_module": "@jupyter-widgets/controls",
            "_model_module_version": "1.5.0",
            "_model_name": "FloatProgressModel",
            "_view_count": null,
            "_view_module": "@jupyter-widgets/controls",
            "_view_module_version": "1.5.0",
            "_view_name": "ProgressView",
            "bar_style": "success",
            "description": "",
            "description_tooltip": null,
            "layout": "IPY_MODEL_f77dd2d304f845988eb6dc4e01c78031",
            "max": 466062,
            "min": 0,
            "orientation": "horizontal",
            "style": "IPY_MODEL_e24a1e5defa54efbb6464f78ef2c5cab",
            "value": 466062
          }
        },
        "e7e9e2c407f445bb90caec9425f81192": {
          "model_module": "@jupyter-widgets/controls",
          "model_name": "HTMLModel",
          "model_module_version": "1.5.0",
          "state": {
            "_dom_classes": [],
            "_model_module": "@jupyter-widgets/controls",
            "_model_module_version": "1.5.0",
            "_model_name": "HTMLModel",
            "_view_count": null,
            "_view_module": "@jupyter-widgets/controls",
            "_view_module_version": "1.5.0",
            "_view_name": "HTMLView",
            "description": "",
            "description_tooltip": null,
            "layout": "IPY_MODEL_97646723b312418bbfeaebce93a2c29c",
            "placeholder": "​",
            "style": "IPY_MODEL_51b2f3c41c344a59aa2b4f57e7f68f83",
            "value": " 466k/466k [00:00&lt;00:00, 6.30MB/s]"
          }
        },
        "31241fa4430b471e840cac20fdf79069": {
          "model_module": "@jupyter-widgets/base",
          "model_name": "LayoutModel",
          "model_module_version": "1.2.0",
          "state": {
            "_model_module": "@jupyter-widgets/base",
            "_model_module_version": "1.2.0",
            "_model_name": "LayoutModel",
            "_view_count": null,
            "_view_module": "@jupyter-widgets/base",
            "_view_module_version": "1.2.0",
            "_view_name": "LayoutView",
            "align_content": null,
            "align_items": null,
            "align_self": null,
            "border": null,
            "bottom": null,
            "display": null,
            "flex": null,
            "flex_flow": null,
            "grid_area": null,
            "grid_auto_columns": null,
            "grid_auto_flow": null,
            "grid_auto_rows": null,
            "grid_column": null,
            "grid_gap": null,
            "grid_row": null,
            "grid_template_areas": null,
            "grid_template_columns": null,
            "grid_template_rows": null,
            "height": null,
            "justify_content": null,
            "justify_items": null,
            "left": null,
            "margin": null,
            "max_height": null,
            "max_width": null,
            "min_height": null,
            "min_width": null,
            "object_fit": null,
            "object_position": null,
            "order": null,
            "overflow": null,
            "overflow_x": null,
            "overflow_y": null,
            "padding": null,
            "right": null,
            "top": null,
            "visibility": null,
            "width": null
          }
        },
        "6741024da0d0427eb086586c85dfc543": {
          "model_module": "@jupyter-widgets/base",
          "model_name": "LayoutModel",
          "model_module_version": "1.2.0",
          "state": {
            "_model_module": "@jupyter-widgets/base",
            "_model_module_version": "1.2.0",
            "_model_name": "LayoutModel",
            "_view_count": null,
            "_view_module": "@jupyter-widgets/base",
            "_view_module_version": "1.2.0",
            "_view_name": "LayoutView",
            "align_content": null,
            "align_items": null,
            "align_self": null,
            "border": null,
            "bottom": null,
            "display": null,
            "flex": null,
            "flex_flow": null,
            "grid_area": null,
            "grid_auto_columns": null,
            "grid_auto_flow": null,
            "grid_auto_rows": null,
            "grid_column": null,
            "grid_gap": null,
            "grid_row": null,
            "grid_template_areas": null,
            "grid_template_columns": null,
            "grid_template_rows": null,
            "height": null,
            "justify_content": null,
            "justify_items": null,
            "left": null,
            "margin": null,
            "max_height": null,
            "max_width": null,
            "min_height": null,
            "min_width": null,
            "object_fit": null,
            "object_position": null,
            "order": null,
            "overflow": null,
            "overflow_x": null,
            "overflow_y": null,
            "padding": null,
            "right": null,
            "top": null,
            "visibility": null,
            "width": null
          }
        },
        "57f3823fc241475aa8024bed5aa68769": {
          "model_module": "@jupyter-widgets/controls",
          "model_name": "DescriptionStyleModel",
          "model_module_version": "1.5.0",
          "state": {
            "_model_module": "@jupyter-widgets/controls",
            "_model_module_version": "1.5.0",
            "_model_name": "DescriptionStyleModel",
            "_view_count": null,
            "_view_module": "@jupyter-widgets/base",
            "_view_module_version": "1.2.0",
            "_view_name": "StyleView",
            "description_width": ""
          }
        },
        "f77dd2d304f845988eb6dc4e01c78031": {
          "model_module": "@jupyter-widgets/base",
          "model_name": "LayoutModel",
          "model_module_version": "1.2.0",
          "state": {
            "_model_module": "@jupyter-widgets/base",
            "_model_module_version": "1.2.0",
            "_model_name": "LayoutModel",
            "_view_count": null,
            "_view_module": "@jupyter-widgets/base",
            "_view_module_version": "1.2.0",
            "_view_name": "LayoutView",
            "align_content": null,
            "align_items": null,
            "align_self": null,
            "border": null,
            "bottom": null,
            "display": null,
            "flex": null,
            "flex_flow": null,
            "grid_area": null,
            "grid_auto_columns": null,
            "grid_auto_flow": null,
            "grid_auto_rows": null,
            "grid_column": null,
            "grid_gap": null,
            "grid_row": null,
            "grid_template_areas": null,
            "grid_template_columns": null,
            "grid_template_rows": null,
            "height": null,
            "justify_content": null,
            "justify_items": null,
            "left": null,
            "margin": null,
            "max_height": null,
            "max_width": null,
            "min_height": null,
            "min_width": null,
            "object_fit": null,
            "object_position": null,
            "order": null,
            "overflow": null,
            "overflow_x": null,
            "overflow_y": null,
            "padding": null,
            "right": null,
            "top": null,
            "visibility": null,
            "width": null
          }
        },
        "e24a1e5defa54efbb6464f78ef2c5cab": {
          "model_module": "@jupyter-widgets/controls",
          "model_name": "ProgressStyleModel",
          "model_module_version": "1.5.0",
          "state": {
            "_model_module": "@jupyter-widgets/controls",
            "_model_module_version": "1.5.0",
            "_model_name": "ProgressStyleModel",
            "_view_count": null,
            "_view_module": "@jupyter-widgets/base",
            "_view_module_version": "1.2.0",
            "_view_name": "StyleView",
            "bar_color": null,
            "description_width": ""
          }
        },
        "97646723b312418bbfeaebce93a2c29c": {
          "model_module": "@jupyter-widgets/base",
          "model_name": "LayoutModel",
          "model_module_version": "1.2.0",
          "state": {
            "_model_module": "@jupyter-widgets/base",
            "_model_module_version": "1.2.0",
            "_model_name": "LayoutModel",
            "_view_count": null,
            "_view_module": "@jupyter-widgets/base",
            "_view_module_version": "1.2.0",
            "_view_name": "LayoutView",
            "align_content": null,
            "align_items": null,
            "align_self": null,
            "border": null,
            "bottom": null,
            "display": null,
            "flex": null,
            "flex_flow": null,
            "grid_area": null,
            "grid_auto_columns": null,
            "grid_auto_flow": null,
            "grid_auto_rows": null,
            "grid_column": null,
            "grid_gap": null,
            "grid_row": null,
            "grid_template_areas": null,
            "grid_template_columns": null,
            "grid_template_rows": null,
            "height": null,
            "justify_content": null,
            "justify_items": null,
            "left": null,
            "margin": null,
            "max_height": null,
            "max_width": null,
            "min_height": null,
            "min_width": null,
            "object_fit": null,
            "object_position": null,
            "order": null,
            "overflow": null,
            "overflow_x": null,
            "overflow_y": null,
            "padding": null,
            "right": null,
            "top": null,
            "visibility": null,
            "width": null
          }
        },
        "51b2f3c41c344a59aa2b4f57e7f68f83": {
          "model_module": "@jupyter-widgets/controls",
          "model_name": "DescriptionStyleModel",
          "model_module_version": "1.5.0",
          "state": {
            "_model_module": "@jupyter-widgets/controls",
            "_model_module_version": "1.5.0",
            "_model_name": "DescriptionStyleModel",
            "_view_count": null,
            "_view_module": "@jupyter-widgets/base",
            "_view_module_version": "1.2.0",
            "_view_name": "StyleView",
            "description_width": ""
          }
        },
        "b075af3afb294c0dbdf57bc177db5246": {
          "model_module": "@jupyter-widgets/controls",
          "model_name": "HBoxModel",
          "model_module_version": "1.5.0",
          "state": {
            "_dom_classes": [],
            "_model_module": "@jupyter-widgets/controls",
            "_model_module_version": "1.5.0",
            "_model_name": "HBoxModel",
            "_view_count": null,
            "_view_module": "@jupyter-widgets/controls",
            "_view_module_version": "1.5.0",
            "_view_name": "HBoxView",
            "box_style": "",
            "children": [
              "IPY_MODEL_c3dca7d553fd48879e3757006fd41a36",
              "IPY_MODEL_af47463d349f42b8b3c8f714f7948825",
              "IPY_MODEL_3013bd43a44e4d02ae7b52d046e54994"
            ],
            "layout": "IPY_MODEL_c1d880d861364f8a9fff63f255201aae"
          }
        },
        "c3dca7d553fd48879e3757006fd41a36": {
          "model_module": "@jupyter-widgets/controls",
          "model_name": "HTMLModel",
          "model_module_version": "1.5.0",
          "state": {
            "_dom_classes": [],
            "_model_module": "@jupyter-widgets/controls",
            "_model_module_version": "1.5.0",
            "_model_name": "HTMLModel",
            "_view_count": null,
            "_view_module": "@jupyter-widgets/controls",
            "_view_module_version": "1.5.0",
            "_view_name": "HTMLView",
            "description": "",
            "description_tooltip": null,
            "layout": "IPY_MODEL_6b9c056c4e184b698d1f46b554e5fe55",
            "placeholder": "​",
            "style": "IPY_MODEL_879b896cc3a24d5f95eae424d8ebd966",
            "value": "config.json: 100%"
          }
        },
        "af47463d349f42b8b3c8f714f7948825": {
          "model_module": "@jupyter-widgets/controls",
          "model_name": "FloatProgressModel",
          "model_module_version": "1.5.0",
          "state": {
            "_dom_classes": [],
            "_model_module": "@jupyter-widgets/controls",
            "_model_module_version": "1.5.0",
            "_model_name": "FloatProgressModel",
            "_view_count": null,
            "_view_module": "@jupyter-widgets/controls",
            "_view_module_version": "1.5.0",
            "_view_name": "ProgressView",
            "bar_style": "success",
            "description": "",
            "description_tooltip": null,
            "layout": "IPY_MODEL_602651722a42450288a251e2aa73c23b",
            "max": 570,
            "min": 0,
            "orientation": "horizontal",
            "style": "IPY_MODEL_52d2e7c41b414fa68f7fb7b5df48c6d4",
            "value": 570
          }
        },
        "3013bd43a44e4d02ae7b52d046e54994": {
          "model_module": "@jupyter-widgets/controls",
          "model_name": "HTMLModel",
          "model_module_version": "1.5.0",
          "state": {
            "_dom_classes": [],
            "_model_module": "@jupyter-widgets/controls",
            "_model_module_version": "1.5.0",
            "_model_name": "HTMLModel",
            "_view_count": null,
            "_view_module": "@jupyter-widgets/controls",
            "_view_module_version": "1.5.0",
            "_view_name": "HTMLView",
            "description": "",
            "description_tooltip": null,
            "layout": "IPY_MODEL_bbf87f9dee9744c682372a34a5008068",
            "placeholder": "​",
            "style": "IPY_MODEL_571ba13bb75e4315bd4a2b8967992463",
            "value": " 570/570 [00:00&lt;00:00, 9.15kB/s]"
          }
        },
        "c1d880d861364f8a9fff63f255201aae": {
          "model_module": "@jupyter-widgets/base",
          "model_name": "LayoutModel",
          "model_module_version": "1.2.0",
          "state": {
            "_model_module": "@jupyter-widgets/base",
            "_model_module_version": "1.2.0",
            "_model_name": "LayoutModel",
            "_view_count": null,
            "_view_module": "@jupyter-widgets/base",
            "_view_module_version": "1.2.0",
            "_view_name": "LayoutView",
            "align_content": null,
            "align_items": null,
            "align_self": null,
            "border": null,
            "bottom": null,
            "display": null,
            "flex": null,
            "flex_flow": null,
            "grid_area": null,
            "grid_auto_columns": null,
            "grid_auto_flow": null,
            "grid_auto_rows": null,
            "grid_column": null,
            "grid_gap": null,
            "grid_row": null,
            "grid_template_areas": null,
            "grid_template_columns": null,
            "grid_template_rows": null,
            "height": null,
            "justify_content": null,
            "justify_items": null,
            "left": null,
            "margin": null,
            "max_height": null,
            "max_width": null,
            "min_height": null,
            "min_width": null,
            "object_fit": null,
            "object_position": null,
            "order": null,
            "overflow": null,
            "overflow_x": null,
            "overflow_y": null,
            "padding": null,
            "right": null,
            "top": null,
            "visibility": null,
            "width": null
          }
        },
        "6b9c056c4e184b698d1f46b554e5fe55": {
          "model_module": "@jupyter-widgets/base",
          "model_name": "LayoutModel",
          "model_module_version": "1.2.0",
          "state": {
            "_model_module": "@jupyter-widgets/base",
            "_model_module_version": "1.2.0",
            "_model_name": "LayoutModel",
            "_view_count": null,
            "_view_module": "@jupyter-widgets/base",
            "_view_module_version": "1.2.0",
            "_view_name": "LayoutView",
            "align_content": null,
            "align_items": null,
            "align_self": null,
            "border": null,
            "bottom": null,
            "display": null,
            "flex": null,
            "flex_flow": null,
            "grid_area": null,
            "grid_auto_columns": null,
            "grid_auto_flow": null,
            "grid_auto_rows": null,
            "grid_column": null,
            "grid_gap": null,
            "grid_row": null,
            "grid_template_areas": null,
            "grid_template_columns": null,
            "grid_template_rows": null,
            "height": null,
            "justify_content": null,
            "justify_items": null,
            "left": null,
            "margin": null,
            "max_height": null,
            "max_width": null,
            "min_height": null,
            "min_width": null,
            "object_fit": null,
            "object_position": null,
            "order": null,
            "overflow": null,
            "overflow_x": null,
            "overflow_y": null,
            "padding": null,
            "right": null,
            "top": null,
            "visibility": null,
            "width": null
          }
        },
        "879b896cc3a24d5f95eae424d8ebd966": {
          "model_module": "@jupyter-widgets/controls",
          "model_name": "DescriptionStyleModel",
          "model_module_version": "1.5.0",
          "state": {
            "_model_module": "@jupyter-widgets/controls",
            "_model_module_version": "1.5.0",
            "_model_name": "DescriptionStyleModel",
            "_view_count": null,
            "_view_module": "@jupyter-widgets/base",
            "_view_module_version": "1.2.0",
            "_view_name": "StyleView",
            "description_width": ""
          }
        },
        "602651722a42450288a251e2aa73c23b": {
          "model_module": "@jupyter-widgets/base",
          "model_name": "LayoutModel",
          "model_module_version": "1.2.0",
          "state": {
            "_model_module": "@jupyter-widgets/base",
            "_model_module_version": "1.2.0",
            "_model_name": "LayoutModel",
            "_view_count": null,
            "_view_module": "@jupyter-widgets/base",
            "_view_module_version": "1.2.0",
            "_view_name": "LayoutView",
            "align_content": null,
            "align_items": null,
            "align_self": null,
            "border": null,
            "bottom": null,
            "display": null,
            "flex": null,
            "flex_flow": null,
            "grid_area": null,
            "grid_auto_columns": null,
            "grid_auto_flow": null,
            "grid_auto_rows": null,
            "grid_column": null,
            "grid_gap": null,
            "grid_row": null,
            "grid_template_areas": null,
            "grid_template_columns": null,
            "grid_template_rows": null,
            "height": null,
            "justify_content": null,
            "justify_items": null,
            "left": null,
            "margin": null,
            "max_height": null,
            "max_width": null,
            "min_height": null,
            "min_width": null,
            "object_fit": null,
            "object_position": null,
            "order": null,
            "overflow": null,
            "overflow_x": null,
            "overflow_y": null,
            "padding": null,
            "right": null,
            "top": null,
            "visibility": null,
            "width": null
          }
        },
        "52d2e7c41b414fa68f7fb7b5df48c6d4": {
          "model_module": "@jupyter-widgets/controls",
          "model_name": "ProgressStyleModel",
          "model_module_version": "1.5.0",
          "state": {
            "_model_module": "@jupyter-widgets/controls",
            "_model_module_version": "1.5.0",
            "_model_name": "ProgressStyleModel",
            "_view_count": null,
            "_view_module": "@jupyter-widgets/base",
            "_view_module_version": "1.2.0",
            "_view_name": "StyleView",
            "bar_color": null,
            "description_width": ""
          }
        },
        "bbf87f9dee9744c682372a34a5008068": {
          "model_module": "@jupyter-widgets/base",
          "model_name": "LayoutModel",
          "model_module_version": "1.2.0",
          "state": {
            "_model_module": "@jupyter-widgets/base",
            "_model_module_version": "1.2.0",
            "_model_name": "LayoutModel",
            "_view_count": null,
            "_view_module": "@jupyter-widgets/base",
            "_view_module_version": "1.2.0",
            "_view_name": "LayoutView",
            "align_content": null,
            "align_items": null,
            "align_self": null,
            "border": null,
            "bottom": null,
            "display": null,
            "flex": null,
            "flex_flow": null,
            "grid_area": null,
            "grid_auto_columns": null,
            "grid_auto_flow": null,
            "grid_auto_rows": null,
            "grid_column": null,
            "grid_gap": null,
            "grid_row": null,
            "grid_template_areas": null,
            "grid_template_columns": null,
            "grid_template_rows": null,
            "height": null,
            "justify_content": null,
            "justify_items": null,
            "left": null,
            "margin": null,
            "max_height": null,
            "max_width": null,
            "min_height": null,
            "min_width": null,
            "object_fit": null,
            "object_position": null,
            "order": null,
            "overflow": null,
            "overflow_x": null,
            "overflow_y": null,
            "padding": null,
            "right": null,
            "top": null,
            "visibility": null,
            "width": null
          }
        },
        "571ba13bb75e4315bd4a2b8967992463": {
          "model_module": "@jupyter-widgets/controls",
          "model_name": "DescriptionStyleModel",
          "model_module_version": "1.5.0",
          "state": {
            "_model_module": "@jupyter-widgets/controls",
            "_model_module_version": "1.5.0",
            "_model_name": "DescriptionStyleModel",
            "_view_count": null,
            "_view_module": "@jupyter-widgets/base",
            "_view_module_version": "1.2.0",
            "_view_name": "StyleView",
            "description_width": ""
          }
        },
        "42ec79cb530147fd94b3075954ba59b7": {
          "model_module": "@jupyter-widgets/controls",
          "model_name": "HBoxModel",
          "model_module_version": "1.5.0",
          "state": {
            "_dom_classes": [],
            "_model_module": "@jupyter-widgets/controls",
            "_model_module_version": "1.5.0",
            "_model_name": "HBoxModel",
            "_view_count": null,
            "_view_module": "@jupyter-widgets/controls",
            "_view_module_version": "1.5.0",
            "_view_name": "HBoxView",
            "box_style": "",
            "children": [
              "IPY_MODEL_fcafc67453354e82b799faf892cc2cbe",
              "IPY_MODEL_c5f2354ca60e4edbb479f0c559de0694",
              "IPY_MODEL_6f4227a5aef24fc6b980dcbc9419f7cc"
            ],
            "layout": "IPY_MODEL_d6be729e735f49ed9a82ef386b99abf9"
          }
        },
        "fcafc67453354e82b799faf892cc2cbe": {
          "model_module": "@jupyter-widgets/controls",
          "model_name": "HTMLModel",
          "model_module_version": "1.5.0",
          "state": {
            "_dom_classes": [],
            "_model_module": "@jupyter-widgets/controls",
            "_model_module_version": "1.5.0",
            "_model_name": "HTMLModel",
            "_view_count": null,
            "_view_module": "@jupyter-widgets/controls",
            "_view_module_version": "1.5.0",
            "_view_name": "HTMLView",
            "description": "",
            "description_tooltip": null,
            "layout": "IPY_MODEL_d787171906c543b7851318bba542d6d5",
            "placeholder": "​",
            "style": "IPY_MODEL_7fd5bde0f9cd42029252cf1f8e49138f",
            "value": "model.safetensors: 100%"
          }
        },
        "c5f2354ca60e4edbb479f0c559de0694": {
          "model_module": "@jupyter-widgets/controls",
          "model_name": "FloatProgressModel",
          "model_module_version": "1.5.0",
          "state": {
            "_dom_classes": [],
            "_model_module": "@jupyter-widgets/controls",
            "_model_module_version": "1.5.0",
            "_model_name": "FloatProgressModel",
            "_view_count": null,
            "_view_module": "@jupyter-widgets/controls",
            "_view_module_version": "1.5.0",
            "_view_name": "ProgressView",
            "bar_style": "success",
            "description": "",
            "description_tooltip": null,
            "layout": "IPY_MODEL_d22d7c6f89f8414a89975bc2ea84f84b",
            "max": 440449768,
            "min": 0,
            "orientation": "horizontal",
            "style": "IPY_MODEL_2a0946e3bd8e465eb4e2617185797554",
            "value": 440449768
          }
        },
        "6f4227a5aef24fc6b980dcbc9419f7cc": {
          "model_module": "@jupyter-widgets/controls",
          "model_name": "HTMLModel",
          "model_module_version": "1.5.0",
          "state": {
            "_dom_classes": [],
            "_model_module": "@jupyter-widgets/controls",
            "_model_module_version": "1.5.0",
            "_model_name": "HTMLModel",
            "_view_count": null,
            "_view_module": "@jupyter-widgets/controls",
            "_view_module_version": "1.5.0",
            "_view_name": "HTMLView",
            "description": "",
            "description_tooltip": null,
            "layout": "IPY_MODEL_a5c9d764d9b349efb4a145e8ddd2db4f",
            "placeholder": "​",
            "style": "IPY_MODEL_b5f8301f48e64c4e91a2ef45bb10ad46",
            "value": " 440M/440M [00:03&lt;00:00, 147MB/s]"
          }
        },
        "d6be729e735f49ed9a82ef386b99abf9": {
          "model_module": "@jupyter-widgets/base",
          "model_name": "LayoutModel",
          "model_module_version": "1.2.0",
          "state": {
            "_model_module": "@jupyter-widgets/base",
            "_model_module_version": "1.2.0",
            "_model_name": "LayoutModel",
            "_view_count": null,
            "_view_module": "@jupyter-widgets/base",
            "_view_module_version": "1.2.0",
            "_view_name": "LayoutView",
            "align_content": null,
            "align_items": null,
            "align_self": null,
            "border": null,
            "bottom": null,
            "display": null,
            "flex": null,
            "flex_flow": null,
            "grid_area": null,
            "grid_auto_columns": null,
            "grid_auto_flow": null,
            "grid_auto_rows": null,
            "grid_column": null,
            "grid_gap": null,
            "grid_row": null,
            "grid_template_areas": null,
            "grid_template_columns": null,
            "grid_template_rows": null,
            "height": null,
            "justify_content": null,
            "justify_items": null,
            "left": null,
            "margin": null,
            "max_height": null,
            "max_width": null,
            "min_height": null,
            "min_width": null,
            "object_fit": null,
            "object_position": null,
            "order": null,
            "overflow": null,
            "overflow_x": null,
            "overflow_y": null,
            "padding": null,
            "right": null,
            "top": null,
            "visibility": null,
            "width": null
          }
        },
        "d787171906c543b7851318bba542d6d5": {
          "model_module": "@jupyter-widgets/base",
          "model_name": "LayoutModel",
          "model_module_version": "1.2.0",
          "state": {
            "_model_module": "@jupyter-widgets/base",
            "_model_module_version": "1.2.0",
            "_model_name": "LayoutModel",
            "_view_count": null,
            "_view_module": "@jupyter-widgets/base",
            "_view_module_version": "1.2.0",
            "_view_name": "LayoutView",
            "align_content": null,
            "align_items": null,
            "align_self": null,
            "border": null,
            "bottom": null,
            "display": null,
            "flex": null,
            "flex_flow": null,
            "grid_area": null,
            "grid_auto_columns": null,
            "grid_auto_flow": null,
            "grid_auto_rows": null,
            "grid_column": null,
            "grid_gap": null,
            "grid_row": null,
            "grid_template_areas": null,
            "grid_template_columns": null,
            "grid_template_rows": null,
            "height": null,
            "justify_content": null,
            "justify_items": null,
            "left": null,
            "margin": null,
            "max_height": null,
            "max_width": null,
            "min_height": null,
            "min_width": null,
            "object_fit": null,
            "object_position": null,
            "order": null,
            "overflow": null,
            "overflow_x": null,
            "overflow_y": null,
            "padding": null,
            "right": null,
            "top": null,
            "visibility": null,
            "width": null
          }
        },
        "7fd5bde0f9cd42029252cf1f8e49138f": {
          "model_module": "@jupyter-widgets/controls",
          "model_name": "DescriptionStyleModel",
          "model_module_version": "1.5.0",
          "state": {
            "_model_module": "@jupyter-widgets/controls",
            "_model_module_version": "1.5.0",
            "_model_name": "DescriptionStyleModel",
            "_view_count": null,
            "_view_module": "@jupyter-widgets/base",
            "_view_module_version": "1.2.0",
            "_view_name": "StyleView",
            "description_width": ""
          }
        },
        "d22d7c6f89f8414a89975bc2ea84f84b": {
          "model_module": "@jupyter-widgets/base",
          "model_name": "LayoutModel",
          "model_module_version": "1.2.0",
          "state": {
            "_model_module": "@jupyter-widgets/base",
            "_model_module_version": "1.2.0",
            "_model_name": "LayoutModel",
            "_view_count": null,
            "_view_module": "@jupyter-widgets/base",
            "_view_module_version": "1.2.0",
            "_view_name": "LayoutView",
            "align_content": null,
            "align_items": null,
            "align_self": null,
            "border": null,
            "bottom": null,
            "display": null,
            "flex": null,
            "flex_flow": null,
            "grid_area": null,
            "grid_auto_columns": null,
            "grid_auto_flow": null,
            "grid_auto_rows": null,
            "grid_column": null,
            "grid_gap": null,
            "grid_row": null,
            "grid_template_areas": null,
            "grid_template_columns": null,
            "grid_template_rows": null,
            "height": null,
            "justify_content": null,
            "justify_items": null,
            "left": null,
            "margin": null,
            "max_height": null,
            "max_width": null,
            "min_height": null,
            "min_width": null,
            "object_fit": null,
            "object_position": null,
            "order": null,
            "overflow": null,
            "overflow_x": null,
            "overflow_y": null,
            "padding": null,
            "right": null,
            "top": null,
            "visibility": null,
            "width": null
          }
        },
        "2a0946e3bd8e465eb4e2617185797554": {
          "model_module": "@jupyter-widgets/controls",
          "model_name": "ProgressStyleModel",
          "model_module_version": "1.5.0",
          "state": {
            "_model_module": "@jupyter-widgets/controls",
            "_model_module_version": "1.5.0",
            "_model_name": "ProgressStyleModel",
            "_view_count": null,
            "_view_module": "@jupyter-widgets/base",
            "_view_module_version": "1.2.0",
            "_view_name": "StyleView",
            "bar_color": null,
            "description_width": ""
          }
        },
        "a5c9d764d9b349efb4a145e8ddd2db4f": {
          "model_module": "@jupyter-widgets/base",
          "model_name": "LayoutModel",
          "model_module_version": "1.2.0",
          "state": {
            "_model_module": "@jupyter-widgets/base",
            "_model_module_version": "1.2.0",
            "_model_name": "LayoutModel",
            "_view_count": null,
            "_view_module": "@jupyter-widgets/base",
            "_view_module_version": "1.2.0",
            "_view_name": "LayoutView",
            "align_content": null,
            "align_items": null,
            "align_self": null,
            "border": null,
            "bottom": null,
            "display": null,
            "flex": null,
            "flex_flow": null,
            "grid_area": null,
            "grid_auto_columns": null,
            "grid_auto_flow": null,
            "grid_auto_rows": null,
            "grid_column": null,
            "grid_gap": null,
            "grid_row": null,
            "grid_template_areas": null,
            "grid_template_columns": null,
            "grid_template_rows": null,
            "height": null,
            "justify_content": null,
            "justify_items": null,
            "left": null,
            "margin": null,
            "max_height": null,
            "max_width": null,
            "min_height": null,
            "min_width": null,
            "object_fit": null,
            "object_position": null,
            "order": null,
            "overflow": null,
            "overflow_x": null,
            "overflow_y": null,
            "padding": null,
            "right": null,
            "top": null,
            "visibility": null,
            "width": null
          }
        },
        "b5f8301f48e64c4e91a2ef45bb10ad46": {
          "model_module": "@jupyter-widgets/controls",
          "model_name": "DescriptionStyleModel",
          "model_module_version": "1.5.0",
          "state": {
            "_model_module": "@jupyter-widgets/controls",
            "_model_module_version": "1.5.0",
            "_model_name": "DescriptionStyleModel",
            "_view_count": null,
            "_view_module": "@jupyter-widgets/base",
            "_view_module_version": "1.2.0",
            "_view_name": "StyleView",
            "description_width": ""
          }
        }
      }
    }
  },
  "cells": [
    {
      "cell_type": "code",
      "source": [
        "import os\n",
        "import pandas as pd\n",
        "\n",
        "# Step 1: Function to read .txt file and extract text\n",
        "def read_txt(file_path):\n",
        "    with open(file_path, 'r', encoding='utf-8') as file:\n",
        "        return file.read()\n",
        "\n",
        "# Step 2: Define your clause labels for each contract\n",
        "clauses = [\n",
        "    \"Termination Provisions\", \"Confidentiality\", \"Indemnification\", \"Data Sharing\",\n",
        "    \"Rebates/Volume Discounts\", \"SLAs/Service Credits\", \"Price Protection\",\n",
        "    \"Forex\", \"COLA/Inflation Adjustment\", \"Payment Terms\",\n",
        "    \"Early Payment Discounts\", \"Late Payment Penalties\",\n",
        "    \"Committal/Non-Committal Contracts\", \"Performance Guarantees\",\n",
        "    \"Force Majeure\", \"Dispute Resolution\", \"Governing Law\",\n",
        "    \"Insurance Requirements\", \"Intellectual Property\", \"Confidential Information\"\n",
        "]\n",
        "\n",
        "# Example contract file paths (use your actual .txt file paths)\n",
        "contract_files = [\"Contract7.txt\", \"Contract2.txt\", \"Contract3.txt\",\n",
        "                  \"Contract4.txt\", \"Contract5.txt\", \"Contract6.txt\"]\n",
        "\n",
        "# Step 3: Prepare the dataset with labels and their corresponding clause text\n",
        "labeled_data = []\n",
        "\n",
        "for file in contract_files:\n",
        "    text = read_txt(file)\n",
        "    for clause in clauses:\n",
        "        # Check if the clause is mentioned in the document (you can adjust this part as needed)\n",
        "        # Example: Using \"in\" to check if the clause is part of the document text\n",
        "        if clause in text:\n",
        "            clause_text = text.split(clause)[1]  # Get the content after the clause name\n",
        "            # If there's a next clause, split by that to isolate the clause content\n",
        "            next_clause_index = clauses.index(clause) + 1\n",
        "            if next_clause_index < len(clauses):\n",
        "                next_clause = clauses[next_clause_index]\n",
        "                clause_text = clause_text.split(next_clause)[0]\n",
        "            labeled_data.append({\"label\": clause, \"text\": clause_text.strip()})\n",
        "\n",
        "# Step 4: Convert to a DataFrame for better visualization\n",
        "labeled_df = pd.DataFrame(labeled_data)\n",
        "\n",
        "# Optionally save to a CSV for later use\n",
        "labeled_df.to_csv('labeled_contract_data.csv', index=False)\n",
        "\n",
        "# Output the final labeled data for inspection\n",
        "print(labeled_df)\n"
      ],
      "metadata": {
        "id": "_M0cG6IjZ67C"
      },
      "execution_count": 32,
      "outputs": []
    },
    {
      "cell_type": "code",
      "source": [
        "labeled_data = [\n",
        "    {\"label\": \"Termination Provisions\", \"text\": \"Either party may terminate this agreement with a 30-day notice if the other party fails to perform its obligations under this agreement.\"},\n",
        "    {\"label\": \"Confidentiality\", \"text\": \"Both parties agree to maintain the confidentiality of all proprietary and sensitive information shared during the course of the agreement.\"},\n",
        "    {\"label\": \"Indemnification\", \"text\": \"The supplier shall indemnify the buyer against any loss, liability, or damage arising from claims of third parties due to the supplier’s negligence.\"},\n",
        "    {\"label\": \"Data Sharing\", \"text\": \"Data shared under this agreement shall be used exclusively for the purposes outlined in the contract and must not be disclosed to any third parties without prior consent.\"},\n",
        "    {\"label\": \"Rebates/Volume Discounts\", \"text\": \"The supplier agrees to offer rebates based on the volume of purchases made by the buyer. The applicable discounts will be calculated quarterly based on the total volume.\"},\n",
        "    {\"label\": \"SLAs/Service Credits\", \"text\": \"The supplier must meet the agreed-upon service levels, and in the event of failure, will provide service credits equivalent to 5% of the monthly fee for every instance of non-compliance.\"},\n",
        "    {\"label\": \"Price Protection\", \"text\": \"If the supplier reduces the price for any similar product, the buyer will be entitled to the new lower price for the remaining term of the agreement.\"},\n",
        "    {\"label\": \"Forex\", \"text\": \"The parties agree to settle payments in USD, but any payments made in foreign currencies will be adjusted for the prevailing exchange rate as of the invoice date.\"},\n",
        "    {\"label\": \"COLA/Inflation Adjustment\", \"text\": \"The contract prices will be subject to a 3% annual increase to account for inflation based on the Consumer Price Index (CPI).\"},\n",
        "    {\"label\": \"Payment Terms\", \"text\": \"The buyer agrees to make payments within 30 days from the invoice date. Late payments will incur an interest charge of 2% per month.\"},\n",
        "    {\"label\": \"Early Payment Discounts\", \"text\": \"The buyer is eligible for a 5% discount on the total invoice amount if the payment is made within 10 days of receiving the invoice.\"},\n",
        "    {\"label\": \"Late Payment Penalties\", \"text\": \"If the buyer fails to pay within the specified terms, a late fee of 1.5% of the overdue amount will be charged for each 30-day period of delay.\"},\n",
        "    {\"label\": \"Committal/Non-Committal Contracts\", \"text\": \"This contract is non-committal in nature, with no obligation for either party to engage in future transactions unless specified in the terms.\"},\n",
        "    {\"label\": \"Performance Guarantees\", \"text\": \"The supplier guarantees that the performance of the product will meet the agreed specifications, and failure to meet these will result in corrective action at no extra charge.\"},\n",
        "    {\"label\": \"Force Majeure\", \"text\": \"Neither party will be held liable for failure to perform obligations under this agreement if such failure is caused by unforeseen events such as natural disasters, war, or strikes.\"},\n",
        "    {\"label\": \"Dispute Resolution\", \"text\": \"In case of a dispute, the parties will first attempt to resolve the matter through mediation. If unresolved, they may proceed to arbitration in accordance with the rules of the ICC.\"},\n",
        "    {\"label\": \"Governing Law\", \"text\": \"This contract shall be governed by and construed in accordance with the laws of the State of New York.\"},\n",
        "    {\"label\": \"Insurance Requirements\", \"text\": \"The supplier must maintain general liability insurance with coverage of at least $1 million and provide proof of insurance upon request.\"},\n",
        "    {\"label\": \"Intellectual Property\", \"text\": \"Any intellectual property created under this agreement shall be owned by the buyer, except where otherwise agreed upon in writing.\"},\n",
        "    {\"label\": \"Confidential Information\", \"text\": \"Both parties agree to keep all proprietary information, including but not limited to trade secrets, business plans, and customer lists, confidential for a period of five years after termination of the agreement.\"}\n",
        "]\n"
      ],
      "metadata": {
        "id": "qQE-vx6fpaye"
      },
      "execution_count": 34,
      "outputs": []
    },
    {
      "cell_type": "code",
      "source": [
        "import pandas as pd\n",
        "import csv  # Impor\n",
        "from sklearn.feature_extraction.text import TfidfVectorizer\n",
        "from sklearn.linear_model import LogisticRegression\n",
        "from sklearn.model_selection import train_test_split\n",
        "\n",
        "labeled_df = pd.DataFrame(labeled_data)\n",
        "\n",
        "# Save to CSV with quoting enabled\n",
        "labeled_df.to_csv('labeled_contract_data.csv', index=False, quoting=csv.QUOTE_MINIMAL)"
      ],
      "metadata": {
        "id": "EGiu1PbEoUFk"
      },
      "execution_count": 37,
      "outputs": []
    },
    {
      "cell_type": "code",
      "source": [
        "df = pd.read_csv('labeled_contract_data.csv', quotechar='\"')\n"
      ],
      "metadata": {
        "id": "XICtAo5RqJF9"
      },
      "execution_count": 38,
      "outputs": []
    },
    {
      "cell_type": "code",
      "source": [
        "pip install transformers torch scikit-learn\n"
      ],
      "metadata": {
        "colab": {
          "base_uri": "https://localhost:8080/"
        },
        "id": "w7werJxfqR3W",
        "outputId": "67ad4dca-1c7a-4482-de74-5c244398510f"
      },
      "execution_count": 41,
      "outputs": [
        {
          "output_type": "stream",
          "name": "stdout",
          "text": [
            "Requirement already satisfied: transformers in /usr/local/lib/python3.10/dist-packages (4.44.2)\n",
            "Requirement already satisfied: torch in /usr/local/lib/python3.10/dist-packages (2.5.0+cu121)\n",
            "Requirement already satisfied: scikit-learn in /usr/local/lib/python3.10/dist-packages (1.5.2)\n",
            "Requirement already satisfied: filelock in /usr/local/lib/python3.10/dist-packages (from transformers) (3.16.1)\n",
            "Requirement already satisfied: huggingface-hub<1.0,>=0.23.2 in /usr/local/lib/python3.10/dist-packages (from transformers) (0.24.7)\n",
            "Requirement already satisfied: numpy>=1.17 in /usr/local/lib/python3.10/dist-packages (from transformers) (1.26.4)\n",
            "Requirement already satisfied: packaging>=20.0 in /usr/local/lib/python3.10/dist-packages (from transformers) (24.1)\n",
            "Requirement already satisfied: pyyaml>=5.1 in /usr/local/lib/python3.10/dist-packages (from transformers) (6.0.2)\n",
            "Requirement already satisfied: regex!=2019.12.17 in /usr/local/lib/python3.10/dist-packages (from transformers) (2024.9.11)\n",
            "Requirement already satisfied: requests in /usr/local/lib/python3.10/dist-packages (from transformers) (2.32.3)\n",
            "Requirement already satisfied: safetensors>=0.4.1 in /usr/local/lib/python3.10/dist-packages (from transformers) (0.4.5)\n",
            "Requirement already satisfied: tokenizers<0.20,>=0.19 in /usr/local/lib/python3.10/dist-packages (from transformers) (0.19.1)\n",
            "Requirement already satisfied: tqdm>=4.27 in /usr/local/lib/python3.10/dist-packages (from transformers) (4.66.6)\n",
            "Requirement already satisfied: typing-extensions>=4.8.0 in /usr/local/lib/python3.10/dist-packages (from torch) (4.12.2)\n",
            "Requirement already satisfied: networkx in /usr/local/lib/python3.10/dist-packages (from torch) (3.4.2)\n",
            "Requirement already satisfied: jinja2 in /usr/local/lib/python3.10/dist-packages (from torch) (3.1.4)\n",
            "Requirement already satisfied: fsspec in /usr/local/lib/python3.10/dist-packages (from torch) (2024.10.0)\n",
            "Requirement already satisfied: sympy==1.13.1 in /usr/local/lib/python3.10/dist-packages (from torch) (1.13.1)\n",
            "Requirement already satisfied: mpmath<1.4,>=1.1.0 in /usr/local/lib/python3.10/dist-packages (from sympy==1.13.1->torch) (1.3.0)\n",
            "Requirement already satisfied: scipy>=1.6.0 in /usr/local/lib/python3.10/dist-packages (from scikit-learn) (1.13.1)\n",
            "Requirement already satisfied: joblib>=1.2.0 in /usr/local/lib/python3.10/dist-packages (from scikit-learn) (1.4.2)\n",
            "Requirement already satisfied: threadpoolctl>=3.1.0 in /usr/local/lib/python3.10/dist-packages (from scikit-learn) (3.5.0)\n",
            "Requirement already satisfied: MarkupSafe>=2.0 in /usr/local/lib/python3.10/dist-packages (from jinja2->torch) (3.0.2)\n",
            "Requirement already satisfied: charset-normalizer<4,>=2 in /usr/local/lib/python3.10/dist-packages (from requests->transformers) (3.4.0)\n",
            "Requirement already satisfied: idna<4,>=2.5 in /usr/local/lib/python3.10/dist-packages (from requests->transformers) (3.10)\n",
            "Requirement already satisfied: urllib3<3,>=1.21.1 in /usr/local/lib/python3.10/dist-packages (from requests->transformers) (2.2.3)\n",
            "Requirement already satisfied: certifi>=2017.4.17 in /usr/local/lib/python3.10/dist-packages (from requests->transformers) (2024.8.30)\n"
          ]
        }
      ]
    },
    {
      "cell_type": "code",
      "source": [
        "import torch\n",
        "from transformers import BertTokenizer, BertForSequenceClassification, Trainer, TrainingArguments\n",
        "from sklearn.model_selection import train_test_split\n",
        "from sklearn.preprocessing import LabelEncoder\n",
        "from torch.utils.data import Dataset, DataLoader\n",
        "import pandas as pd\n",
        "import numpy as np\n"
      ],
      "metadata": {
        "id": "Sdnb2M6tqYQO"
      },
      "execution_count": 42,
      "outputs": []
    },
    {
      "cell_type": "code",
      "source": [
        "labeled_data = [\n",
        "    {\"label\": \"Termination Provisions\", \"text\": \"Either party may terminate this agreement with a 30-day notice if the other party fails to perform its obligations under this agreement.\"},\n",
        "    {\"label\": \"Confidentiality\", \"text\": \"Both parties agree to maintain the confidentiality of all proprietary and sensitive information shared during the course of the agreement.\"},\n",
        "    {\"label\": \"Indemnification\", \"text\": \"The supplier shall indemnify the buyer against any loss, liability, or damage arising from claims of third parties due to the supplier’s negligence.\"},\n",
        "    {\"label\": \"Data Sharing\", \"text\": \"Data shared under this agreement shall be used exclusively for the purposes outlined in the contract and must not be disclosed to any third parties without prior consent.\"},\n",
        "    {\"label\": \"Rebates/Volume Discounts\", \"text\": \"The supplier agrees to offer rebates based on the volume of purchases made by the buyer. The applicable discounts will be calculated quarterly based on the total volume.\"},\n",
        "    {\"label\": \"SLAs/Service Credits\", \"text\": \"The supplier must meet the agreed-upon service levels, and in the event of failure, will provide service credits equivalent to 5% of the monthly fee for every instance of non-compliance.\"},\n",
        "    {\"label\": \"Price Protection\", \"text\": \"If the supplier reduces the price for any similar product, the buyer will be entitled to the new lower price for the remaining term of the agreement.\"},\n",
        "    {\"label\": \"Forex\", \"text\": \"The parties agree to settle payments in USD, but any payments made in foreign currencies will be adjusted for the prevailing exchange rate as of the invoice date.\"},\n",
        "    {\"label\": \"COLA/Inflation Adjustment\", \"text\": \"The contract prices will be subject to a 3% annual increase to account for inflation based on the Consumer Price Index (CPI).\"},\n",
        "    {\"label\": \"Payment Terms\", \"text\": \"The buyer agrees to make payments within 30 days from the invoice date. Late payments will incur an interest charge of 2% per month.\"},\n",
        "    {\"label\": \"Early Payment Discounts\", \"text\": \"The buyer is eligible for a 5% discount on the total invoice amount if the payment is made within 10 days of receiving the invoice.\"},\n",
        "    {\"label\": \"Late Payment Penalties\", \"text\": \"If the buyer fails to pay within the specified terms, a late fee of 1.5% of the overdue amount will be charged for each 30-day period of delay.\"},\n",
        "    {\"label\": \"Committal/Non-Committal Contracts\", \"text\": \"This contract is non-committal in nature, with no obligation for either party to engage in future transactions unless specified in the terms.\"},\n",
        "    {\"label\": \"Performance Guarantees\", \"text\": \"The supplier guarantees that the performance of the product will meet the agreed specifications, and failure to meet these will result in corrective action at no extra charge.\"},\n",
        "    {\"label\": \"Force Majeure\", \"text\": \"Neither party will be held liable for failure to perform obligations under this agreement if such failure is caused by unforeseen events such as natural disasters, war, or strikes.\"},\n",
        "    {\"label\": \"Dispute Resolution\", \"text\": \"In case of a dispute, the parties will first attempt to resolve the matter through mediation. If unresolved, they may proceed to arbitration in accordance with the rules of the ICC.\"},\n",
        "    {\"label\": \"Governing Law\", \"text\": \"This contract shall be governed by and construed in accordance with the laws of the State of New York.\"},\n",
        "    {\"label\": \"Insurance Requirements\", \"text\": \"The supplier must maintain general liability insurance with coverage of at least $1 million and provide proof of insurance upon request.\"},\n",
        "    {\"label\": \"Intellectual Property\", \"text\": \"Any intellectual property created under this agreement shall be owned by the buyer, except where otherwise agreed upon in writing.\"},\n",
        "    {\"label\": \"Confidential Information\", \"text\": \"Both parties agree to keep all proprietary information, including but not limited to trade secrets, business plans, and customer lists, confidential for a period of five years after termination of the agreement.\"}\n",
        "]\n"
      ],
      "metadata": {
        "id": "WEbBVPMAwDkd"
      },
      "execution_count": 43,
      "outputs": []
    },
    {
      "cell_type": "code",
      "source": [
        "df = pd.DataFrame(labeled_data)\n",
        "label_encoder = LabelEncoder()\n",
        "df['label_encoded'] = label_encoder.fit_transform(df['label'])"
      ],
      "metadata": {
        "id": "GGzJqBFMwE4C"
      },
      "execution_count": 44,
      "outputs": []
    },
    {
      "cell_type": "code",
      "source": [
        "train_texts, val_texts, train_labels, val_labels = train_test_split(\n",
        "    df['text'], df['label_encoded'], test_size=0.2, random_state=42\n",
        ")"
      ],
      "metadata": {
        "id": "2T5NYfNCwMxc"
      },
      "execution_count": 45,
      "outputs": []
    },
    {
      "cell_type": "code",
      "source": [
        "tokenizer = BertTokenizer.from_pretrained(\"bert-base-uncased\")\n",
        "\n",
        "train_encodings = tokenizer(list(train_texts), truncation=True, padding=True, max_length=128)\n",
        "val_encodings = tokenizer(list(val_texts), truncation=True, padding=True, max_length=128)\n"
      ],
      "metadata": {
        "colab": {
          "base_uri": "https://localhost:8080/",
          "height": 304,
          "referenced_widgets": [
            "7da6c8c167a74d9bab5d05012b6cfca1",
            "fc6bc599d3f74f678e9a8142a27cc4af",
            "2dd46d2d260d4a08a624301593e5a88a",
            "0640d88ffb29425690d9e61d4b3b6394",
            "d49f5c851c6245e299d1fbb8fe184be1",
            "745104068da24eb19915b6f1a53b73fd",
            "fe65c67040dd4e1ea44ebb89d0524a3f",
            "f6bada7ca07b44bb97e65ec5b847a4cf",
            "edd6f3d437e4426eb4d916c9f2035bb8",
            "072c6e4203df4ee2bea9ff7c25be57e5",
            "6b2a6d12f5fd4d63b889451295a02be4",
            "680ab763303a4813812c1c92d6771e83",
            "a68a849015aa4e75928456f4f352ae10",
            "a7e2274f9518406ba51510a21b087fa1",
            "10a26d47ca1448eba3e2280735fb0f1e",
            "0b285b5568d341c0a4916f4d38107ba9",
            "2c59fea284e646d9ad33330d68ae6755",
            "6002f995804a41d1a291d702fb88a48b",
            "bc2feb8232914ab7b03d2801476b779a",
            "8f25b697a7454178991a68bda1412e51",
            "0c17f2f7962546e5822d9918ee7ee61a",
            "fb017ca3453648b9bc9609a90161e780",
            "feb3316ec9764614b3f9d463b811b431",
            "a42c19f32ce9450aa7fc4973ab00ad67",
            "af1a0b0e40a648e48c2c2222e7ae7bd5",
            "e7e9e2c407f445bb90caec9425f81192",
            "31241fa4430b471e840cac20fdf79069",
            "6741024da0d0427eb086586c85dfc543",
            "57f3823fc241475aa8024bed5aa68769",
            "f77dd2d304f845988eb6dc4e01c78031",
            "e24a1e5defa54efbb6464f78ef2c5cab",
            "97646723b312418bbfeaebce93a2c29c",
            "51b2f3c41c344a59aa2b4f57e7f68f83",
            "b075af3afb294c0dbdf57bc177db5246",
            "c3dca7d553fd48879e3757006fd41a36",
            "af47463d349f42b8b3c8f714f7948825",
            "3013bd43a44e4d02ae7b52d046e54994",
            "c1d880d861364f8a9fff63f255201aae",
            "6b9c056c4e184b698d1f46b554e5fe55",
            "879b896cc3a24d5f95eae424d8ebd966",
            "602651722a42450288a251e2aa73c23b",
            "52d2e7c41b414fa68f7fb7b5df48c6d4",
            "bbf87f9dee9744c682372a34a5008068",
            "571ba13bb75e4315bd4a2b8967992463"
          ]
        },
        "id": "8-st335BwPw_",
        "outputId": "76e4b419-199a-493f-a783-265a90872717"
      },
      "execution_count": 46,
      "outputs": [
        {
          "output_type": "stream",
          "name": "stderr",
          "text": [
            "/usr/local/lib/python3.10/dist-packages/huggingface_hub/utils/_token.py:89: UserWarning: \n",
            "The secret `HF_TOKEN` does not exist in your Colab secrets.\n",
            "To authenticate with the Hugging Face Hub, create a token in your settings tab (https://huggingface.co/settings/tokens), set it as secret in your Google Colab and restart your session.\n",
            "You will be able to reuse this secret in all of your notebooks.\n",
            "Please note that authentication is recommended but still optional to access public models or datasets.\n",
            "  warnings.warn(\n"
          ]
        },
        {
          "output_type": "display_data",
          "data": {
            "text/plain": [
              "tokenizer_config.json:   0%|          | 0.00/48.0 [00:00<?, ?B/s]"
            ],
            "application/vnd.jupyter.widget-view+json": {
              "version_major": 2,
              "version_minor": 0,
              "model_id": "7da6c8c167a74d9bab5d05012b6cfca1"
            }
          },
          "metadata": {}
        },
        {
          "output_type": "display_data",
          "data": {
            "text/plain": [
              "vocab.txt:   0%|          | 0.00/232k [00:00<?, ?B/s]"
            ],
            "application/vnd.jupyter.widget-view+json": {
              "version_major": 2,
              "version_minor": 0,
              "model_id": "680ab763303a4813812c1c92d6771e83"
            }
          },
          "metadata": {}
        },
        {
          "output_type": "display_data",
          "data": {
            "text/plain": [
              "tokenizer.json:   0%|          | 0.00/466k [00:00<?, ?B/s]"
            ],
            "application/vnd.jupyter.widget-view+json": {
              "version_major": 2,
              "version_minor": 0,
              "model_id": "feb3316ec9764614b3f9d463b811b431"
            }
          },
          "metadata": {}
        },
        {
          "output_type": "display_data",
          "data": {
            "text/plain": [
              "config.json:   0%|          | 0.00/570 [00:00<?, ?B/s]"
            ],
            "application/vnd.jupyter.widget-view+json": {
              "version_major": 2,
              "version_minor": 0,
              "model_id": "b075af3afb294c0dbdf57bc177db5246"
            }
          },
          "metadata": {}
        },
        {
          "output_type": "stream",
          "name": "stderr",
          "text": [
            "/usr/local/lib/python3.10/dist-packages/transformers/tokenization_utils_base.py:1601: FutureWarning: `clean_up_tokenization_spaces` was not set. It will be set to `True` by default. This behavior will be depracted in transformers v4.45, and will be then set to `False` by default. For more details check this issue: https://github.com/huggingface/transformers/issues/31884\n",
            "  warnings.warn(\n"
          ]
        }
      ]
    },
    {
      "cell_type": "code",
      "source": [
        "class ContractDataset(Dataset):\n",
        "    def __init__(self, encodings, labels):\n",
        "        self.encodings = encodings\n",
        "        self.labels = labels\n",
        "\n",
        "    def __getitem__(self, idx):\n",
        "        item = {key: torch.tensor(val[idx]) for key, val in self.encodings.items()}\n",
        "        item['labels'] = torch.tensor(self.labels[idx])\n",
        "        return item\n",
        "\n",
        "    def __len__(self):\n",
        "        return len(self.labels)\n",
        "\n",
        "train_dataset = ContractDataset(train_encodings, list(train_labels))\n",
        "val_dataset = ContractDataset(val_encodings, list(val_labels))"
      ],
      "metadata": {
        "id": "4Plsz8uiwR7Y"
      },
      "execution_count": 47,
      "outputs": []
    },
    {
      "cell_type": "code",
      "source": [
        "model = BertForSequenceClassification.from_pretrained(\"bert-base-uncased\", num_labels=len(label_encoder.classes_))"
      ],
      "metadata": {
        "colab": {
          "base_uri": "https://localhost:8080/",
          "height": 104,
          "referenced_widgets": [
            "42ec79cb530147fd94b3075954ba59b7",
            "fcafc67453354e82b799faf892cc2cbe",
            "c5f2354ca60e4edbb479f0c559de0694",
            "6f4227a5aef24fc6b980dcbc9419f7cc",
            "d6be729e735f49ed9a82ef386b99abf9",
            "d787171906c543b7851318bba542d6d5",
            "7fd5bde0f9cd42029252cf1f8e49138f",
            "d22d7c6f89f8414a89975bc2ea84f84b",
            "2a0946e3bd8e465eb4e2617185797554",
            "a5c9d764d9b349efb4a145e8ddd2db4f",
            "b5f8301f48e64c4e91a2ef45bb10ad46"
          ]
        },
        "id": "EE1dq_ZZwXG6",
        "outputId": "356d3db3-89ed-4235-ff7f-4e71226545ec"
      },
      "execution_count": 48,
      "outputs": [
        {
          "output_type": "display_data",
          "data": {
            "text/plain": [
              "model.safetensors:   0%|          | 0.00/440M [00:00<?, ?B/s]"
            ],
            "application/vnd.jupyter.widget-view+json": {
              "version_major": 2,
              "version_minor": 0,
              "model_id": "42ec79cb530147fd94b3075954ba59b7"
            }
          },
          "metadata": {}
        },
        {
          "output_type": "stream",
          "name": "stderr",
          "text": [
            "Some weights of BertForSequenceClassification were not initialized from the model checkpoint at bert-base-uncased and are newly initialized: ['classifier.bias', 'classifier.weight']\n",
            "You should probably TRAIN this model on a down-stream task to be able to use it for predictions and inference.\n"
          ]
        }
      ]
    },
    {
      "cell_type": "code",
      "source": [
        "training_args = TrainingArguments(\n",
        "    output_dir='./results',\n",
        "    evaluation_strategy=\"epoch\",\n",
        "    per_device_train_batch_size=8,\n",
        "    per_device_eval_batch_size=8,\n",
        "    num_train_epochs=3,\n",
        "    weight_decay=0.01,\n",
        "    logging_dir='./logs',\n",
        "    report_to=\"none\"\n",
        ")\n",
        "\n",
        "trainer = Trainer(\n",
        "    model=model,\n",
        "    args=training_args,\n",
        "    train_dataset=train_dataset,\n",
        "    eval_dataset=val_dataset,\n",
        ")"
      ],
      "metadata": {
        "colab": {
          "base_uri": "https://localhost:8080/"
        },
        "id": "tXbPFivPwc-U",
        "outputId": "262d3597-2e6d-4e6a-8415-c016faf3c0fc"
      },
      "execution_count": 51,
      "outputs": [
        {
          "output_type": "stream",
          "name": "stderr",
          "text": [
            "/usr/local/lib/python3.10/dist-packages/transformers/training_args.py:1525: FutureWarning: `evaluation_strategy` is deprecated and will be removed in version 4.46 of 🤗 Transformers. Use `eval_strategy` instead\n",
            "  warnings.warn(\n"
          ]
        }
      ]
    },
    {
      "cell_type": "code",
      "source": [
        "trainer.train()\n"
      ],
      "metadata": {
        "colab": {
          "base_uri": "https://localhost:8080/",
          "height": 222
        },
        "id": "ULsJsCIEwg5Q",
        "outputId": "0fe4a818-aacc-4000-8358-6eef9b3dca74"
      },
      "execution_count": 52,
      "outputs": [
        {
          "output_type": "display_data",
          "data": {
            "text/plain": [
              "<IPython.core.display.HTML object>"
            ],
            "text/html": [
              "\n",
              "    <div>\n",
              "      \n",
              "      <progress value='6' max='6' style='width:300px; height:20px; vertical-align: middle;'></progress>\n",
              "      [6/6 00:33, Epoch 3/3]\n",
              "    </div>\n",
              "    <table border=\"1\" class=\"dataframe\">\n",
              "  <thead>\n",
              " <tr style=\"text-align: left;\">\n",
              "      <th>Epoch</th>\n",
              "      <th>Training Loss</th>\n",
              "      <th>Validation Loss</th>\n",
              "    </tr>\n",
              "  </thead>\n",
              "  <tbody>\n",
              "    <tr>\n",
              "      <td>1</td>\n",
              "      <td>No log</td>\n",
              "      <td>3.079425</td>\n",
              "    </tr>\n",
              "    <tr>\n",
              "      <td>2</td>\n",
              "      <td>No log</td>\n",
              "      <td>3.009401</td>\n",
              "    </tr>\n",
              "    <tr>\n",
              "      <td>3</td>\n",
              "      <td>No log</td>\n",
              "      <td>2.812667</td>\n",
              "    </tr>\n",
              "  </tbody>\n",
              "</table><p>"
            ]
          },
          "metadata": {}
        },
        {
          "output_type": "execute_result",
          "data": {
            "text/plain": [
              "TrainOutput(global_step=6, training_loss=2.8899784088134766, metrics={'train_runtime': 53.8568, 'train_samples_per_second': 0.891, 'train_steps_per_second': 0.111, 'total_flos': 986825917440.0, 'train_loss': 2.8899784088134766, 'epoch': 3.0})"
            ]
          },
          "metadata": {},
          "execution_count": 52
        }
      ]
    },
    {
      "cell_type": "code",
      "source": [
        "eval_results = trainer.evaluate()\n",
        "print(\"Evaluation results:\", eval_results)\n"
      ],
      "metadata": {
        "colab": {
          "base_uri": "https://localhost:8080/",
          "height": 74
        },
        "id": "ecE2Gg40xXmm",
        "outputId": "6b58bd3e-ebb1-44f6-b6ee-eca938986781"
      },
      "execution_count": 53,
      "outputs": [
        {
          "output_type": "display_data",
          "data": {
            "text/plain": [
              "<IPython.core.display.HTML object>"
            ],
            "text/html": [
              "\n",
              "    <div>\n",
              "      \n",
              "      <progress value='1' max='1' style='width:300px; height:20px; vertical-align: middle;'></progress>\n",
              "      [1/1 : < :]\n",
              "    </div>\n",
              "    "
            ]
          },
          "metadata": {}
        },
        {
          "output_type": "stream",
          "name": "stdout",
          "text": [
            "Evaluation results: {'eval_loss': 2.812666893005371, 'eval_runtime': 0.7957, 'eval_samples_per_second': 5.027, 'eval_steps_per_second': 1.257, 'epoch': 3.0}\n"
          ]
        }
      ]
    },
    {
      "cell_type": "code",
      "source": [
        "def predict(text):\n",
        "    inputs = tokenizer(text, return_tensors=\"pt\", truncation=True, padding=True, max_length=128)\n",
        "    outputs = model(**inputs)\n",
        "    logits = outputs.logits\n",
        "    predicted_class_id = logits.argmax().item()\n",
        "    predicted_label = label_encoder.inverse_transform([predicted_class_id])[0]\n",
        "    return predicted_label\n",
        "\n",
        "# Example usage\n",
        "print(predict(\"Confidentiality must be maintained by both parties.\"))"
      ],
      "metadata": {
        "colab": {
          "base_uri": "https://localhost:8080/"
        },
        "id": "6HQLnHBfxacr",
        "outputId": "476d561b-da78-43c9-fdc5-73f5c1e9385c"
      },
      "execution_count": 55,
      "outputs": [
        {
          "output_type": "stream",
          "name": "stdout",
          "text": [
            "Performance Guarantees\n"
          ]
        }
      ]
    },
    {
      "cell_type": "code",
      "source": [
        "clauses = [\n",
        "    \"Termination Provisions\", \"Confidentiality\", \"Indemnification\", \"Data Sharing\",\n",
        "    \"Rebates/Volume Discounts\", \"SLAs/Service Credits\", \"Price Protection\",\n",
        "    \"Forex\", \"COLA/Inflation Adjustment\", \"Payment Terms\",\n",
        "    \"Early Payment Discounts\", \"Late Payment Penalties\",\n",
        "    \"Committal/Non-Committal Contracts\", \"Performance Guarantees\",\n",
        "    \"Force Majeure\", \"Dispute Resolution\", \"Governing Law\",\n",
        "    \"Insurance Requirements\", \"Intellectual Property\", \"Confidential Information\"\n",
        "]"
      ],
      "metadata": {
        "id": "6Eof8bwGxkpk"
      },
      "execution_count": 56,
      "outputs": []
    },
    {
      "cell_type": "code",
      "source": [
        "import re\n",
        "\n",
        "def load_and_split_contract(file_path, clauses):\n",
        "    with open(file_path, 'r') as file:\n",
        "        contract_text = file.read()\n",
        "\n",
        "    # Split text based on each clause heading\n",
        "    split_text = re.split(r'|'.join([re.escape(clause) for clause in clauses]), contract_text)\n",
        "\n",
        "    # Extract clause sections and their labels\n",
        "    clause_sections = []\n",
        "    for i, section in enumerate(split_text[1:], start=1):\n",
        "        label = clauses[i - 1]  # Label each section with the corresponding clause\n",
        "        clause_sections.append({\"label\": label, \"text\": section.strip()})\n",
        "\n",
        "    return clause_sections"
      ],
      "metadata": {
        "id": "3o-Rk_OZxnp3"
      },
      "execution_count": 57,
      "outputs": []
    },
    {
      "cell_type": "code",
      "source": [
        "def classify_sections(clause_sections, model, tokenizer, label_encoder):\n",
        "    labeled_data = []\n",
        "    for section in clause_sections:\n",
        "        inputs = tokenizer(section[\"text\"], return_tensors=\"pt\", truncation=True, padding=True, max_length=128)\n",
        "        outputs = model(**inputs)\n",
        "        logits = outputs.logits\n",
        "        predicted_class_id = logits.argmax().item()\n",
        "        predicted_label = label_encoder.inverse_transform([predicted_class_id])[0]\n",
        "\n",
        "        # Append labeled data in the expected format\n",
        "        labeled_data.append({\"label\": predicted_label, \"text\": section[\"text\"]})\n",
        "\n",
        "    return labeled_data"
      ],
      "metadata": {
        "id": "4qTb-vVsxo8a"
      },
      "execution_count": 58,
      "outputs": []
    },
    {
      "cell_type": "code",
      "source": [
        "file_path = \"Contract1.txt\"\n",
        "\n",
        "# Step 1: Load and split the document\n",
        "clause_sections = load_and_split_contract(file_path, clauses)\n",
        "\n",
        "# Step 2: Classify each section\n",
        "labeled_data = classify_sections(clause_sections, model, tokenizer, label_encoder)\n",
        "\n",
        "# Output the final labeled data\n",
        "print(labeled_data)"
      ],
      "metadata": {
        "colab": {
          "base_uri": "https://localhost:8080/"
        },
        "id": "-OezJLl0xwq8",
        "outputId": "1e5fb546-65bd-446e-f40b-72b834c925a9"
      },
      "execution_count": 59,
      "outputs": [
        {
          "output_type": "stream",
          "name": "stdout",
          "text": [
            "[{'label': 'Rebates/Volume Discounts', 'text': 'The Supplier agrees to provide volume-based discounts to the Buyer, incentivizing higher purchase volumes with proportional rebates. For each calendar quarter, the Supplier will assess the total purchase volume made by the Buyer and apply tiered discounts once certain thresholds are met. Volume thresholds and their associated rebate percentages are detailed in Appendix A of this contract. Should the Buyer’s purchases meet or exceed a specified threshold within the quarter, a corresponding rebate will be issued in the form of a credit note, applied to the following quarter’s orders.\\n\\nIf the Buyer reaches multiple thresholds within the same quarter, the Supplier will apply the highest qualifying rebate for that period. The Buyer is eligible to apply the credit note within six months of issuance, and unused credits beyond this period will be forfeited. Rebates do not apply to items returned or otherwise refunded, and only net purchase volumes (after returns or adjustments) will be eligible for rebate calculations. Both parties agree that adjustments to the rebate structure can be negotiated annually to reflect changing demand and market conditions.\\n\\n2.'}, {'label': 'Rebates/Volume Discounts', 'text': 'The Supplier commits to maintaining a minimum service level, as outlined in the Service Level Agreement (SLA) Schedule of this contract. This includes an uptime percentage of no less than 99.5% monthly. In the event of any service interruptions or downtimes exceeding the allowable limit, the Supplier will provide service credits to the Buyer based on the duration and impact of the downtime.\\n\\nService credits will be calculated as a percentage of the monthly service fee, with specific percentages detailed in the SLA Schedule. Credits will be applied to the Buyer’s next billing cycle. If the Supplier fails to meet the SLA for three consecutive months, the Buyer reserves the right to review the agreement and, if necessary, terminate the contract without penalty. Both parties agree that the Supplier will proactively report service performance at the end of each month, providing transparency and accountability.\\n\\n3.'}, {'label': 'Rebates/Volume Discounts', 'text': 'The prices set forth in this agreement shall remain fixed for the initial 12 months. Thereafter, pricing will be subject to an annual review based on market indices for comparable goods and services, as determined by a mutually agreed-upon benchmark. Any price adjustment shall be limited to a maximum increase of 3% per annum unless both parties agree otherwise.\\n\\nIn the event of significant market fluctuations, the Buyer reserves the right to request a formal pricing review, ensuring continued competitive rates. If the Supplier proposes any price increase exceeding the agreed limit, the Buyer may request a detailed breakdown of the cost factors justifying the increase. Both parties agree to meet and negotiate in good faith to resolve any pricing disputes, with the goal of maintaining a fair and stable pricing structure throughout the contract term.\\n\\n4.'}, {'label': 'Rebates/Volume Discounts', 'text': 'The exchange rate applied to payments under this contract shall be locked at the rate in effect at the time of signing for the first 12 months. An annual review will allow both parties to adjust the rate based on the prevailing market conditions, using the average rate from a trusted financial institution as a reference.\\n\\nIf the exchange rate fluctuates by more than 5% during the review period, an adjustment will be applied to reflect this change. This exchange rate lock minimizes currency risk for both parties and ensures predictable pricing adjustments on an annual basis.\\n\\n5.'}, {'label': 'Rebates/Volume Discounts', 'text': 'The contract pricing will be reviewed and adjusted annually based on the national Consumer Price Index (CPI). A price increase or decrease will be applied proportionally to reflect changes in the CPI over the previous year, with adjustments capped at 5% per year to prevent significant fluctuations.\\n\\nBoth parties agree to a yearly review meeting to discuss any economic changes that may impact contract pricing. This adjustment ensures fair alignment with inflation trends while capping excessive price changes.\\n\\n6.'}, {'label': 'Rebates/Volume Discounts', 'text': 'The Buyer agrees to settle all invoices within 30 days of receipt. Payments will be made via bank transfer to the Supplier’s designated account. In exchange for early payment, the Supplier offers a 2% discount if the invoice is paid within 10 days.\\n\\nThis clause incentivizes the Buyer to make early payments while offering a standard 30-day payment period. The early payment discount supports the Supplier’s cash flow while providing savings for the Buyer.\\n\\n7.'}, {'label': 'Rebates/Volume Discounts', 'text': 'The Buyer is entitled to a 2% discount on the total invoice amount if full payment is made within 10 days from the invoice issuance date. This discount will apply only to invoices paid via direct bank transfer and does not apply to partial payments.\\n\\nThis clause encourages the Buyer to settle invoices promptly, improving cash flow for the Supplier. The direct bank transfer requirement ensures lower processing fees and quicker fund availability.\\n\\n8.'}, {'label': 'Rebates/Volume Discounts', 'text': 'The Buyer agrees that any invoice not paid within 30 days of the invoice date will incur a penalty of 1.5% interest per month on the outstanding balance. The penalty will be applied monthly until the total balance is settled. The Supplier reserves the right to suspend services if payments are more than 60 days overdue.\\n\\nThis penalty structure deters late payments by adding a significant financial consequence that compounds monthly, while also providing the Supplier with the option to suspend services if the issue persists.\\n\\n9.'}, {'label': 'Rebates/Volume Discounts', 'text': 'Either party may terminate this Agreement for convenience, without penalty, by providing a written notice at least 60 days prior to the intended termination date. During this notice period, both parties agree to fulfill all existing obligations, including any outstanding orders and payment commitments. Termination under this clause does not affect any accrued rights or obligations prior to the termination date.\\n\\nThis variation allows flexibility by giving both parties a clear and reasonable timeline for ending the contract if business circumstances change, without fault or penalty.\\n\\n10.'}, {'label': 'Rebates/Volume Discounts', 'text': \"This Agreement is non-committal, meaning that neither party is obligated to purchase or sell any specific quantity of goods or services. The agreement serves as a framework for future negotiations but does not impose any binding commitment to enter into specific transactions. Either party may choose to enter into individual purchase orders under the terms set forth in this Agreement, but there is no minimum purchase requirement. The agreement may be terminated by either party with 30 days' notice.\\n\\nThis non-committal clause provides flexibility by ensuring that there are no specific purchase obligations while still maintaining a formal framework for negotiations.\\n\\n11.\"}, {'label': 'Performance Guarantees', 'text': 'Neither party shall be held responsible for failure to perform any obligation under the contract due to unforeseen circumstances or events beyond their control, such as natural disasters, war, or government intervention.\\n\\n12.'}, {'label': 'Performance Guarantees', 'text': 'Both parties agree to maintain the confidentiality of sensitive information exchanged during the contract and will not disclose it to third parties without prior consent.\\n\\n13.'}, {'label': 'Committal/Non-Committal Contracts', 'text': 'Any intellectual property created during the contract period, including patents, trademarks, and copyrights, shall remain the exclusive property of the creator, unless otherwise specified.\\n\\n14.'}, {'label': 'Rebates/Volume Discounts', 'text': 'In the event of a dispute, both parties agree to first attempt to resolve the issue through mediation. If mediation fails, arbitration will be used to settle the dispute.\\n\\n15.'}, {'label': 'Rebates/Volume Discounts', 'text': \"This contract shall be governed by and construed in accordance with the laws of the state or country where the supplier is based.\\n\\n16. Non-Compete\\nThe supplier agrees not to engage in any business that directly competes with the buyer's business within a specified time period and geographical location after the contract ends.\\n\\n17.\"}, {'label': 'Rebates/Volume Discounts', 'text': \"The supplier agrees to indemnify and hold harmless the buyer from any legal claims or liabilities arising from the supplier's actions, negligence, or failure to fulfill contractual obligations.\\n\\n18. Audit Rights \\nThe buyer has the right to audit the supplier’s financial records and operations to ensure compliance with the terms and conditions of the contract.\\n\\n19. Performance Bonds\\nThe supplier agrees to provide a performance bond as security to ensure the fulfillment of all contractual obligations and the payment of any claims resulting from non-performance.\\n\\n20. Amendment\\nAny amendments or modifications to this contract must be in writing and signed by authorized representatives of both parties.\\n\\nSignatures:\\n\\nSupplier Representative Name\\n\\nBuyer Representative Name\\n\\nDate: ____________________\"}]\n"
          ]
        }
      ]
    },
    {
      "cell_type": "code",
      "source": [
        "def classify_and_validate_sections(clause_sections, model, tokenizer, label_encoder):\n",
        "    validated_data = []\n",
        "    for section in clause_sections:\n",
        "        # Tokenize and process with the model\n",
        "        inputs = tokenizer(section[\"text\"], return_tensors=\"pt\", truncation=True, padding=True, max_length=128)\n",
        "        outputs = model(**inputs)\n",
        "        logits = outputs.logits\n",
        "        predicted_class_id = logits.argmax().item()\n",
        "        predicted_label = label_encoder.inverse_transform([predicted_class_id])[0]\n",
        "\n",
        "        # If the predicted label from the model differs, update it\n",
        "        final_label = predicted_label if predicted_label != section[\"label\"] else section[\"label\"]\n",
        "        validated_data.append({\"label\": final_label, \"text\": section[\"text\"]})\n",
        "\n",
        "    return validated_data"
      ],
      "metadata": {
        "id": "9qGMc_ykynBT"
      },
      "execution_count": 60,
      "outputs": []
    },
    {
      "cell_type": "code",
      "source": [
        "# Step 1: Load and split document using keywords\n",
        "file_path = \"Contract1.txt\"\n",
        "clause_sections = load_and_split_contract(file_path, clauses)\n",
        "\n",
        "# Step 2: Validate clause labels using the model\n",
        "labeled_data = classify_and_validate_sections(clause_sections, model, tokenizer, label_encoder)\n",
        "\n",
        "# Output the final labeled data\n",
        "print(labeled_data)"
      ],
      "metadata": {
        "colab": {
          "base_uri": "https://localhost:8080/"
        },
        "id": "kDGllQ8vyqNW",
        "outputId": "ef0c34a6-566b-4c43-a1c0-5bbccdedfee2"
      },
      "execution_count": 61,
      "outputs": [
        {
          "output_type": "stream",
          "name": "stdout",
          "text": [
            "[{'label': 'Rebates/Volume Discounts', 'text': 'The Supplier agrees to provide volume-based discounts to the Buyer, incentivizing higher purchase volumes with proportional rebates. For each calendar quarter, the Supplier will assess the total purchase volume made by the Buyer and apply tiered discounts once certain thresholds are met. Volume thresholds and their associated rebate percentages are detailed in Appendix A of this contract. Should the Buyer’s purchases meet or exceed a specified threshold within the quarter, a corresponding rebate will be issued in the form of a credit note, applied to the following quarter’s orders.\\n\\nIf the Buyer reaches multiple thresholds within the same quarter, the Supplier will apply the highest qualifying rebate for that period. The Buyer is eligible to apply the credit note within six months of issuance, and unused credits beyond this period will be forfeited. Rebates do not apply to items returned or otherwise refunded, and only net purchase volumes (after returns or adjustments) will be eligible for rebate calculations. Both parties agree that adjustments to the rebate structure can be negotiated annually to reflect changing demand and market conditions.\\n\\n2.'}, {'label': 'Rebates/Volume Discounts', 'text': 'The Supplier commits to maintaining a minimum service level, as outlined in the Service Level Agreement (SLA) Schedule of this contract. This includes an uptime percentage of no less than 99.5% monthly. In the event of any service interruptions or downtimes exceeding the allowable limit, the Supplier will provide service credits to the Buyer based on the duration and impact of the downtime.\\n\\nService credits will be calculated as a percentage of the monthly service fee, with specific percentages detailed in the SLA Schedule. Credits will be applied to the Buyer’s next billing cycle. If the Supplier fails to meet the SLA for three consecutive months, the Buyer reserves the right to review the agreement and, if necessary, terminate the contract without penalty. Both parties agree that the Supplier will proactively report service performance at the end of each month, providing transparency and accountability.\\n\\n3.'}, {'label': 'Rebates/Volume Discounts', 'text': 'The prices set forth in this agreement shall remain fixed for the initial 12 months. Thereafter, pricing will be subject to an annual review based on market indices for comparable goods and services, as determined by a mutually agreed-upon benchmark. Any price adjustment shall be limited to a maximum increase of 3% per annum unless both parties agree otherwise.\\n\\nIn the event of significant market fluctuations, the Buyer reserves the right to request a formal pricing review, ensuring continued competitive rates. If the Supplier proposes any price increase exceeding the agreed limit, the Buyer may request a detailed breakdown of the cost factors justifying the increase. Both parties agree to meet and negotiate in good faith to resolve any pricing disputes, with the goal of maintaining a fair and stable pricing structure throughout the contract term.\\n\\n4.'}, {'label': 'Rebates/Volume Discounts', 'text': 'The exchange rate applied to payments under this contract shall be locked at the rate in effect at the time of signing for the first 12 months. An annual review will allow both parties to adjust the rate based on the prevailing market conditions, using the average rate from a trusted financial institution as a reference.\\n\\nIf the exchange rate fluctuates by more than 5% during the review period, an adjustment will be applied to reflect this change. This exchange rate lock minimizes currency risk for both parties and ensures predictable pricing adjustments on an annual basis.\\n\\n5.'}, {'label': 'Rebates/Volume Discounts', 'text': 'The contract pricing will be reviewed and adjusted annually based on the national Consumer Price Index (CPI). A price increase or decrease will be applied proportionally to reflect changes in the CPI over the previous year, with adjustments capped at 5% per year to prevent significant fluctuations.\\n\\nBoth parties agree to a yearly review meeting to discuss any economic changes that may impact contract pricing. This adjustment ensures fair alignment with inflation trends while capping excessive price changes.\\n\\n6.'}, {'label': 'Rebates/Volume Discounts', 'text': 'The Buyer agrees to settle all invoices within 30 days of receipt. Payments will be made via bank transfer to the Supplier’s designated account. In exchange for early payment, the Supplier offers a 2% discount if the invoice is paid within 10 days.\\n\\nThis clause incentivizes the Buyer to make early payments while offering a standard 30-day payment period. The early payment discount supports the Supplier’s cash flow while providing savings for the Buyer.\\n\\n7.'}, {'label': 'Rebates/Volume Discounts', 'text': 'The Buyer is entitled to a 2% discount on the total invoice amount if full payment is made within 10 days from the invoice issuance date. This discount will apply only to invoices paid via direct bank transfer and does not apply to partial payments.\\n\\nThis clause encourages the Buyer to settle invoices promptly, improving cash flow for the Supplier. The direct bank transfer requirement ensures lower processing fees and quicker fund availability.\\n\\n8.'}, {'label': 'Rebates/Volume Discounts', 'text': 'The Buyer agrees that any invoice not paid within 30 days of the invoice date will incur a penalty of 1.5% interest per month on the outstanding balance. The penalty will be applied monthly until the total balance is settled. The Supplier reserves the right to suspend services if payments are more than 60 days overdue.\\n\\nThis penalty structure deters late payments by adding a significant financial consequence that compounds monthly, while also providing the Supplier with the option to suspend services if the issue persists.\\n\\n9.'}, {'label': 'Rebates/Volume Discounts', 'text': 'Either party may terminate this Agreement for convenience, without penalty, by providing a written notice at least 60 days prior to the intended termination date. During this notice period, both parties agree to fulfill all existing obligations, including any outstanding orders and payment commitments. Termination under this clause does not affect any accrued rights or obligations prior to the termination date.\\n\\nThis variation allows flexibility by giving both parties a clear and reasonable timeline for ending the contract if business circumstances change, without fault or penalty.\\n\\n10.'}, {'label': 'Rebates/Volume Discounts', 'text': \"This Agreement is non-committal, meaning that neither party is obligated to purchase or sell any specific quantity of goods or services. The agreement serves as a framework for future negotiations but does not impose any binding commitment to enter into specific transactions. Either party may choose to enter into individual purchase orders under the terms set forth in this Agreement, but there is no minimum purchase requirement. The agreement may be terminated by either party with 30 days' notice.\\n\\nThis non-committal clause provides flexibility by ensuring that there are no specific purchase obligations while still maintaining a formal framework for negotiations.\\n\\n11.\"}, {'label': 'Performance Guarantees', 'text': 'Neither party shall be held responsible for failure to perform any obligation under the contract due to unforeseen circumstances or events beyond their control, such as natural disasters, war, or government intervention.\\n\\n12.'}, {'label': 'Performance Guarantees', 'text': 'Both parties agree to maintain the confidentiality of sensitive information exchanged during the contract and will not disclose it to third parties without prior consent.\\n\\n13.'}, {'label': 'Committal/Non-Committal Contracts', 'text': 'Any intellectual property created during the contract period, including patents, trademarks, and copyrights, shall remain the exclusive property of the creator, unless otherwise specified.\\n\\n14.'}, {'label': 'Rebates/Volume Discounts', 'text': 'In the event of a dispute, both parties agree to first attempt to resolve the issue through mediation. If mediation fails, arbitration will be used to settle the dispute.\\n\\n15.'}, {'label': 'Rebates/Volume Discounts', 'text': \"This contract shall be governed by and construed in accordance with the laws of the state or country where the supplier is based.\\n\\n16. Non-Compete\\nThe supplier agrees not to engage in any business that directly competes with the buyer's business within a specified time period and geographical location after the contract ends.\\n\\n17.\"}, {'label': 'Rebates/Volume Discounts', 'text': \"The supplier agrees to indemnify and hold harmless the buyer from any legal claims or liabilities arising from the supplier's actions, negligence, or failure to fulfill contractual obligations.\\n\\n18. Audit Rights \\nThe buyer has the right to audit the supplier’s financial records and operations to ensure compliance with the terms and conditions of the contract.\\n\\n19. Performance Bonds\\nThe supplier agrees to provide a performance bond as security to ensure the fulfillment of all contractual obligations and the payment of any claims resulting from non-performance.\\n\\n20. Amendment\\nAny amendments or modifications to this contract must be in writing and signed by authorized representatives of both parties.\\n\\nSignatures:\\n\\nSupplier Representative Name\\n\\nBuyer Representative Name\\n\\nDate: ____________________\"}]\n"
          ]
        }
      ]
    },
    {
      "cell_type": "code",
      "source": [
        "import re\n",
        "\n",
        "def load_and_split_contract(file_path, clauses):\n",
        "    with open(file_path, 'r') as file:\n",
        "        contract_text = file.read()\n",
        "\n",
        "    # Use regular expressions to split the text based on clause headings\n",
        "    split_text = re.split(r'|'.join([re.escape(clause) for clause in clauses]), contract_text)\n",
        "\n",
        "    # Extract clause sections and their labels\n",
        "    clause_sections = []\n",
        "    for i, section in enumerate(split_text[1:], start=1):\n",
        "        if i - 1 < len(clauses):  # Ensure we don’t exceed the length of the clauses list\n",
        "            label = clauses[i - 1]\n",
        "            clause_sections.append({\"label\": label, \"text\": section.strip()})\n",
        "        else:\n",
        "            print(f\"Warning: More sections than clauses found. Extra text: {section[:50]}...\")\n",
        "\n",
        "    return clause_sections\n"
      ],
      "metadata": {
        "id": "pgqUiSS809pQ"
      },
      "execution_count": 63,
      "outputs": []
    },
    {
      "cell_type": "code",
      "source": [
        "import os\n",
        "import pandas as pd\n",
        "\n",
        "# Assume load_and_split_contract, classify_and_validate_sections, model, tokenizer, and label_encoder are already defined\n",
        "\n",
        "# Directory containing all contract.txt files\n",
        "directory_path = \"contract_files\"\n",
        "\n",
        "# List to store labeled data from all contracts\n",
        "all_labeled_data = []\n",
        "\n",
        "# Loop through each .txt file in the directory\n",
        "for file_name in os.listdir(directory_path):\n",
        "    if file_name.endswith(\".txt\"):\n",
        "        file_path = os.path.join(directory_path, file_name)\n",
        "\n",
        "        # Step 1: Load and split document using keywords\n",
        "        clause_sections = load_and_split_contract(file_path, clauses)\n",
        "\n",
        "        # Step 2: Validate clause labels using the model\n",
        "        labeled_data = classify_and_validate_sections(clause_sections, model, tokenizer, label_encoder)\n",
        "\n",
        "        # Append the labeled data with the file name for reference\n",
        "        for item in labeled_data:\n",
        "            item[\"contract_file\"] = file_name  # Add file name for each clause section\n",
        "            all_labeled_data.append(item)\n",
        "\n",
        "# Step 3: Convert to a DataFrame and save to CSV\n",
        "labeled_df = pd.DataFrame(all_labeled_data)\n",
        "output_csv_path = \"labeled_contract_files.csv\"\n",
        "labeled_df.to_csv(output_csv_path, index=False)\n",
        "\n",
        "print(f\"Labeled data has been saved to {output_csv_path}\")\n"
      ],
      "metadata": {
        "colab": {
          "base_uri": "https://localhost:8080/"
        },
        "id": "92o8r4wh0JgH",
        "outputId": "669c01fc-fbce-4d46-8db9-0800591b9d23"
      },
      "execution_count": 64,
      "outputs": [
        {
          "output_type": "stream",
          "name": "stdout",
          "text": [
            "Warning: More sections than clauses found. Extra text: </div></div></div><div class=\"react-code-text reac...\n",
            "Warning: More sections than clauses found. Extra text: </div></div></div><div class=\"react-code-text reac...\n",
            "Warning: More sections than clauses found. Extra text: </div></div></div><div class=\"react-code-text reac...\n",
            "Warning: More sections than clauses found. Extra text: </div></div></div><div class=\"react-code-text reac...\n",
            "Warning: More sections than clauses found. Extra text: </div></div></div><div class=\"react-code-text reac...\n",
            "Warning: More sections than clauses found. Extra text: </div></div></div><div class=\"react-code-text reac...\n",
            "Warning: More sections than clauses found. Extra text:  </div></div></div><div class=\"react-code-text rea...\n",
            "Warning: More sections than clauses found. Extra text:  </div></div></div><div class=\"react-code-text rea...\n",
            "Warning: More sections than clauses found. Extra text:  </div></div></div><div class=\"react-code-text rea...\n",
            "Warning: More sections than clauses found. Extra text: </div></div></div><div class=\"react-code-text reac...\n",
            "Warning: More sections than clauses found. Extra text: </div></div></div><div class=\"react-code-text reac...\n",
            "Warning: More sections than clauses found. Extra text: </div></div></div><div class=\"react-code-text reac...\n",
            "Labeled data has been saved to labeled_contract_files.csv\n"
          ]
        }
      ]
    }
  ]
}