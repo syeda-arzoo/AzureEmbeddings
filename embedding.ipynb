{
  "cells": [
    {
      "cell_type": "code",
      "execution_count": null,
      "metadata": {
        "id": "l4cJJuZD9V0k"
      },
      "outputs": [],
      "source": []
    },
    {
      "cell_type": "code",
      "execution_count": 2,
      "metadata": {
        "colab": {
          "base_uri": "https://localhost:8080/"
        },
        "id": "Wq6lq3_U9XEA",
        "outputId": "4267b5e0-e29c-4708-c892-3476d953043f"
      },
      "outputs": [
        {
          "name": "stdout",
          "output_type": "stream",
          "text": [
            "Requirement already satisfied: openai in /usr/local/lib/python3.10/dist-packages (1.52.2)\n",
            "Collecting azure-cosmos\n",
            "  Downloading azure_cosmos-4.7.0-py3-none-any.whl.metadata (70 kB)\n",
            "\u001b[?25l     \u001b[90m━━━━━━━━━━━━━━━━━━━━━━━━━━━━━━━━━━━━━━━━\u001b[0m \u001b[32m0.0/70.3 kB\u001b[0m \u001b[31m?\u001b[0m eta \u001b[36m-:--:--\u001b[0m\r\u001b[2K     \u001b[90m━━━━━━━━━━━━━━━━━━━━━━━━━━━━━━━━━━━━━━━━\u001b[0m \u001b[32m70.3/70.3 kB\u001b[0m \u001b[31m4.7 MB/s\u001b[0m eta \u001b[36m0:00:00\u001b[0m\n",
            "\u001b[?25hRequirement already satisfied: anyio<5,>=3.5.0 in /usr/local/lib/python3.10/dist-packages (from openai) (3.7.1)\n",
            "Requirement already satisfied: distro<2,>=1.7.0 in /usr/local/lib/python3.10/dist-packages (from openai) (1.9.0)\n",
            "Requirement already satisfied: httpx<1,>=0.23.0 in /usr/local/lib/python3.10/dist-packages (from openai) (0.27.2)\n",
            "Requirement already satisfied: jiter<1,>=0.4.0 in /usr/local/lib/python3.10/dist-packages (from openai) (0.6.1)\n",
            "Requirement already satisfied: pydantic<3,>=1.9.0 in /usr/local/lib/python3.10/dist-packages (from openai) (2.9.2)\n",
            "Requirement already satisfied: sniffio in /usr/local/lib/python3.10/dist-packages (from openai) (1.3.1)\n",
            "Requirement already satisfied: tqdm>4 in /usr/local/lib/python3.10/dist-packages (from openai) (4.66.6)\n",
            "Requirement already satisfied: typing-extensions<5,>=4.11 in /usr/local/lib/python3.10/dist-packages (from openai) (4.12.2)\n",
            "Collecting azure-core>=1.25.1 (from azure-cosmos)\n",
            "  Downloading azure_core-1.32.0-py3-none-any.whl.metadata (39 kB)\n",
            "Requirement already satisfied: idna>=2.8 in /usr/local/lib/python3.10/dist-packages (from anyio<5,>=3.5.0->openai) (3.10)\n",
            "Requirement already satisfied: exceptiongroup in /usr/local/lib/python3.10/dist-packages (from anyio<5,>=3.5.0->openai) (1.2.2)\n",
            "Requirement already satisfied: requests>=2.21.0 in /usr/local/lib/python3.10/dist-packages (from azure-core>=1.25.1->azure-cosmos) (2.32.3)\n",
            "Requirement already satisfied: six>=1.11.0 in /usr/local/lib/python3.10/dist-packages (from azure-core>=1.25.1->azure-cosmos) (1.16.0)\n",
            "Requirement already satisfied: certifi in /usr/local/lib/python3.10/dist-packages (from httpx<1,>=0.23.0->openai) (2024.8.30)\n",
            "Requirement already satisfied: httpcore==1.* in /usr/local/lib/python3.10/dist-packages (from httpx<1,>=0.23.0->openai) (1.0.6)\n",
            "Requirement already satisfied: h11<0.15,>=0.13 in /usr/local/lib/python3.10/dist-packages (from httpcore==1.*->httpx<1,>=0.23.0->openai) (0.14.0)\n",
            "Requirement already satisfied: annotated-types>=0.6.0 in /usr/local/lib/python3.10/dist-packages (from pydantic<3,>=1.9.0->openai) (0.7.0)\n",
            "Requirement already satisfied: pydantic-core==2.23.4 in /usr/local/lib/python3.10/dist-packages (from pydantic<3,>=1.9.0->openai) (2.23.4)\n",
            "Requirement already satisfied: charset-normalizer<4,>=2 in /usr/local/lib/python3.10/dist-packages (from requests>=2.21.0->azure-core>=1.25.1->azure-cosmos) (3.4.0)\n",
            "Requirement already satisfied: urllib3<3,>=1.21.1 in /usr/local/lib/python3.10/dist-packages (from requests>=2.21.0->azure-core>=1.25.1->azure-cosmos) (2.2.3)\n",
            "Downloading azure_cosmos-4.7.0-py3-none-any.whl (252 kB)\n",
            "\u001b[2K   \u001b[90m━━━━━━━━━━━━━━━━━━━━━━━━━━━━━━━━━━━━━━━━\u001b[0m \u001b[32m252.1/252.1 kB\u001b[0m \u001b[31m14.5 MB/s\u001b[0m eta \u001b[36m0:00:00\u001b[0m\n",
            "\u001b[?25hDownloading azure_core-1.32.0-py3-none-any.whl (198 kB)\n",
            "\u001b[2K   \u001b[90m━━━━━━━━━━━━━━━━━━━━━━━━━━━━━━━━━━━━━━━━\u001b[0m \u001b[32m198.9/198.9 kB\u001b[0m \u001b[31m12.5 MB/s\u001b[0m eta \u001b[36m0:00:00\u001b[0m\n",
            "\u001b[?25hInstalling collected packages: azure-core, azure-cosmos\n",
            "Successfully installed azure-core-1.32.0 azure-cosmos-4.7.0\n"
          ]
        }
      ],
      "source": [
        "!pip install openai azure-cosmos"
      ]
    },
    {
      "cell_type": "code",
      "execution_count": 3,
      "metadata": {
        "id": "IydbHqJq_jKk"
      },
      "outputs": [],
      "source": [
        "import openai\n",
        "import os\n",
        "from azure.cosmos import CosmosClient, PartitionKey"
      ]
    },
    {
      "cell_type": "code",
      "execution_count": 33,
      "metadata": {
        "id": "LwzbCesjDEe4"
      },
      "outputs": [],
      "source": [
        "from openai import AzureOpenAI\n",
        "client = AzureOpenAI(\n",
        "  api_key=\"L50WlsnegXXqs8HB1vtkbOTCkEXbZJP8aBbJQQJ99AKACYeBjFXJ3w3AAABACOGqLIt\",\n",
        "  api_version = \"2024-02-01\",\n",
        "  azure_endpoint = \"httpsenai.azure.com/\"\n",
        ")\n",
        "\n"
      ]
    },
    {
      "cell_type": "code",
      "execution_count": 9,
      "metadata": {
        "id": "21ZkdRtrIHjk"
      },
      "outputs": [],
      "source": [
        "cosmos_endpoint = 'https://embeddingd.com:443/'\n",
        "cosmos_key = 'bV0vf8dFeUsWQ2ySrsWkL84dlZRccMjzGF6yWHb5elrz3bGrL73qACDbhZHkqg=='"
      ]
    },
    {
      "cell_type": "code",
      "execution_count": 10,
      "metadata": {
        "id": "7hHWFOI_IamW"
      },
      "outputs": [],
      "source": [
        "client = CosmosClient(cosmos_endpoint, cosmos_key)\n"
      ]
    },
    {
      "cell_type": "code",
      "execution_count": 11,
      "metadata": {
        "id": "OqEtqP0uIW9-"
      },
      "outputs": [],
      "source": [
        "database_name = \"embedcontract\"\n",
        "container_name = \"embedcontractcontainer\""
      ]
    },
    {
      "cell_type": "code",
      "execution_count": 12,
      "metadata": {
        "id": "o-mMcdYeKKVn"
      },
      "outputs": [],
      "source": [
        "database = client.create_database_if_not_exists(id=database_name)\n",
        "container = database.create_container_if_not_exists(\n",
        "    id=container_name, partition_key=PartitionKey(path=\"/label\")\n",
        ")"
      ]
    },
    {
      "cell_type": "code",
      "execution_count": 36,
      "metadata": {
        "id": "FbQ_7lxyNuYe"
      },
      "outputs": [],
      "source": [
        "def generate_embeddings(text):\n",
        "    response = client.embeddings.create(\n",
        "        input=text, model=\"text-embedding-ada-002\"\n",
        "    )\n",
        "    embeddings = response.data[0].embedding\n",
        "    return embeddings"
      ]
    },
    {
      "cell_type": "code",
      "execution_count": 40,
      "metadata": {
        "id": "5U4aHqHJNyLh"
      },
      "outputs": [],
      "source": [
        "labeled_data = [\n",
        "    {\"label\": \"Termination\", \"text\": \"This contract may be terminated by either party.\"},\n",
        "    {\"label\": \"Confidentiality\", \"text\": \"Confidentiality must be maintained by both parties.\"},\n",
        "    {\"label\": \"Indemnification\", \"text\": \"The contract shall indemnify both parties from liability.\"},\n",
        "    {\"label\": \"Data Sharing\", \"text\": \"Data sharing must be limited to both parties only.\"},\n",
        "    {\"label\": \"Termination\", \"text\": \"Either party can cancel the agreement with notice.\"},\n",
        "    # Add more labeled data here\n",
        "\n",
        "]"
      ]
    },
    {
      "cell_type": "markdown",
      "metadata": {
        "id": "VSP-Jzxac1DJ"
      },
      "source": [
        "Text\tLabel\n",
        "\"This contract may be terminated by either party.\"\tTermination\n",
        "\"Confidentiality must be maintained by both parties.\"\tConfidentiality\n",
        "\"The contract shall indemnify both parties from liability.\"\tIndemnification\n",
        "\"Data sharing must be limited to both parties only.\"\tData Sharing\n",
        "\"Either party can cancel the agreement with notice.\"\tTermination\n",
        "\"The confidentiality of shared data is critical.\"\tConfidentiality\n",
        "\"Indemnity provisions are required for both parties.\"\tIndemnification\n",
        "\"Data must not be shared with third parties.\"\tData Sharing\n",
        "\"Termination is allowed in case of breach of contract.\"\tTermination\n",
        "\"Both parties agree to maintain confidentiality of proprietary information.\"\tConfidentiality\n",
        "\"The contract grants both parties the right to terminate under specific conditions.\"\tTermination\n",
        "\"Any breach in data sharing agreements may lead to legal consequences for both parties.\"\tData Sharing\n",
        "\"The indemnification clause protects both parties against unforeseen liabilities.\"\tIndemnification\n",
        "\"All data shared between the parties should remain confidential and secure.\"\tConfidentiality\n",
        "\"In case of contract breach, termination may be initiated by the affected party.\"\tTermination\n",
        "\"The parties shall hold each other harmless for damages arising from third-party claims.\"\tIndemnification\n",
        "\"Only relevant data should be shared to avoid unnecessary exposure.\"\tData Sharing\n",
        "\"This agreement ensures termination rights for both parties under mutual consent.\"\tTermination\n",
        "\"Confidentiality clauses are crucial for protecting sensitive information exchanged.\"\tConfidentiality"
      ]
    },
    {
      "cell_type": "code",
      "execution_count": null,
      "metadata": {
        "id": "mDmHRPbtQ_kY"
      },
      "outputs": [],
      "source": []
    },
    {
      "cell_type": "code",
      "execution_count": 41,
      "metadata": {
        "colab": {
          "base_uri": "https://localhost:8080/"
        },
        "id": "H7gtHX8fN6x0",
        "outputId": "8843dafd-edab-431c-f6fb-ff4dc91c962b"
      },
      "outputs": [
        {
          "name": "stdout",
          "output_type": "stream",
          "text": [
            "Data stored in Cosmos DB.\n"
          ]
        }
      ],
      "source": [
        "# Process and store data\n",
        "for data_item in labeled_data:\n",
        "    embeddings = generate_embeddings(data_item[\"text\"])\n",
        "    document = {\n",
        "        \"id\": str(hash(data_item['text'])),\n",
        "        \"label\": data_item[\"label\"],\n",
        "        \"text\": data_item[\"text\"],\n",
        "        \"embeddings\": embeddings,\n",
        "    }\n",
        "    container.create_item(body=document)\n",
        "\n",
        "print(\"Data stored in Cosmos DB.\")"
      ]
    },
    {
      "cell_type": "code",
      "execution_count": 43,
      "metadata": {
        "colab": {
          "base_uri": "https://localhost:8080/"
        },
        "id": "lX57rJCudIuQ",
        "outputId": "5571f94c-e9c1-443b-dd6c-352c08e6292d"
      },
      "outputs": [
        {
          "name": "stdout",
          "output_type": "stream",
          "text": [
            "Most similar clause: ('Confidentiality must be maintained by both parties.', 0.9629363670921756)\n"
          ]
        }
      ],
      "source": [
        "from scipy.spatial.distance import cosine\n",
        "import numpy as np\n",
        "\n",
        "def find_most_similar(query_text, container):\n",
        "    # Generate embedding for the query text\n",
        "    query_embedding = generate_embeddings(query_text)\n",
        "\n",
        "    # Retrieve all embeddings from Cosmos DB\n",
        "    items = list(container.read_all_items())\n",
        "\n",
        "    # Calculate cosine similarity and find the closest match\n",
        "    similarities = [(item['text'], 1 - cosine(query_embedding, item['embeddings'])) for item in items]\n",
        "    most_similar = max(similarities, key=lambda x: x[1])\n",
        "\n",
        "    return most_similar\n",
        "\n",
        "# Example usage\n",
        "query_text = \"Confidentiality must be preserved.\"\n",
        "most_similar_clause = find_most_similar(query_text, container)\n",
        "print(\"Most similar clause:\", most_similar_clause)"
      ]
    }
  ],
  "metadata": {
    "colab": {
      "provenance": []
    },
    "kernelspec": {
      "display_name": "Python 3",
      "name": "python3"
    },
    "language_info": {
      "name": "python"
    }
  },
  "nbformat": 4,
  "nbformat_minor": 0
}
