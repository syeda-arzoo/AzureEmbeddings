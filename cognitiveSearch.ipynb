{
  "cells": [
    {
      "cell_type": "code",
      "execution_count": 1,
      "metadata": {
        "colab": {
          "base_uri": "https://localhost:8080/"
        },
        "collapsed": true,
        "id": "UWYCzT0YJP7n",
        "outputId": "7e3df24e-5fcb-4010-bffb-2eb86316304c"
      },
      "outputs": [
        {
          "name": "stdout",
          "output_type": "stream",
          "text": [
            "Collecting azure-ai-formrecognizer\n",
            "  Downloading azure_ai_formrecognizer-3.3.3-py3-none-any.whl.metadata (64 kB)\n",
            "\u001b[?25l     \u001b[90m━━━━━━━━━━━━━━━━━━━━━━━━━━━━━━━━━━━━━━━━\u001b[0m \u001b[32m0.0/64.6 kB\u001b[0m \u001b[31m?\u001b[0m eta \u001b[36m-:--:--\u001b[0m\r\u001b[2K     \u001b[90m━━━━━━━━━━━━━━━━━━━━━━━━━━━━━━━━━━━━━━━━\u001b[0m \u001b[32m64.6/64.6 kB\u001b[0m \u001b[31m2.0 MB/s\u001b[0m eta \u001b[36m0:00:00\u001b[0m\n",
            "\u001b[?25hCollecting azure-search-documents\n",
            "  Downloading azure_search_documents-11.5.2-py3-none-any.whl.metadata (23 kB)\n",
            "Requirement already satisfied: openai in /usr/local/lib/python3.10/dist-packages (1.54.3)\n",
            "Collecting azure-core>=1.23.0 (from azure-ai-formrecognizer)\n",
            "  Downloading azure_core-1.32.0-py3-none-any.whl.metadata (39 kB)\n",
            "Collecting msrest>=0.6.21 (from azure-ai-formrecognizer)\n",
            "  Downloading msrest-0.7.1-py3-none-any.whl.metadata (21 kB)\n",
            "Collecting azure-common>=1.1 (from azure-ai-formrecognizer)\n",
            "  Downloading azure_common-1.1.28-py2.py3-none-any.whl.metadata (5.0 kB)\n",
            "Requirement already satisfied: typing-extensions>=4.0.1 in /usr/local/lib/python3.10/dist-packages (from azure-ai-formrecognizer) (4.12.2)\n",
            "Collecting isodate>=0.6.0 (from azure-search-documents)\n",
            "  Downloading isodate-0.7.2-py3-none-any.whl.metadata (11 kB)\n",
            "Requirement already satisfied: anyio<5,>=3.5.0 in /usr/local/lib/python3.10/dist-packages (from openai) (3.7.1)\n",
            "Requirement already satisfied: distro<2,>=1.7.0 in /usr/local/lib/python3.10/dist-packages (from openai) (1.9.0)\n",
            "Requirement already satisfied: httpx<1,>=0.23.0 in /usr/local/lib/python3.10/dist-packages (from openai) (0.27.2)\n",
            "Requirement already satisfied: jiter<1,>=0.4.0 in /usr/local/lib/python3.10/dist-packages (from openai) (0.7.0)\n",
            "Requirement already satisfied: pydantic<3,>=1.9.0 in /usr/local/lib/python3.10/dist-packages (from openai) (2.9.2)\n",
            "Requirement already satisfied: sniffio in /usr/local/lib/python3.10/dist-packages (from openai) (1.3.1)\n",
            "Requirement already satisfied: tqdm>4 in /usr/local/lib/python3.10/dist-packages (from openai) (4.66.6)\n",
            "Requirement already satisfied: idna>=2.8 in /usr/local/lib/python3.10/dist-packages (from anyio<5,>=3.5.0->openai) (3.10)\n",
            "Requirement already satisfied: exceptiongroup in /usr/local/lib/python3.10/dist-packages (from anyio<5,>=3.5.0->openai) (1.2.2)\n",
            "Requirement already satisfied: requests>=2.21.0 in /usr/local/lib/python3.10/dist-packages (from azure-core>=1.23.0->azure-ai-formrecognizer) (2.32.3)\n",
            "Requirement already satisfied: six>=1.11.0 in /usr/local/lib/python3.10/dist-packages (from azure-core>=1.23.0->azure-ai-formrecognizer) (1.16.0)\n",
            "Requirement already satisfied: certifi in /usr/local/lib/python3.10/dist-packages (from httpx<1,>=0.23.0->openai) (2024.8.30)\n",
            "Requirement already satisfied: httpcore==1.* in /usr/local/lib/python3.10/dist-packages (from httpx<1,>=0.23.0->openai) (1.0.6)\n",
            "Requirement already satisfied: h11<0.15,>=0.13 in /usr/local/lib/python3.10/dist-packages (from httpcore==1.*->httpx<1,>=0.23.0->openai) (0.14.0)\n",
            "Requirement already satisfied: requests-oauthlib>=0.5.0 in /usr/local/lib/python3.10/dist-packages (from msrest>=0.6.21->azure-ai-formrecognizer) (1.3.1)\n",
            "Requirement already satisfied: annotated-types>=0.6.0 in /usr/local/lib/python3.10/dist-packages (from pydantic<3,>=1.9.0->openai) (0.7.0)\n",
            "Requirement already satisfied: pydantic-core==2.23.4 in /usr/local/lib/python3.10/dist-packages (from pydantic<3,>=1.9.0->openai) (2.23.4)\n",
            "Requirement already satisfied: charset-normalizer<4,>=2 in /usr/local/lib/python3.10/dist-packages (from requests>=2.21.0->azure-core>=1.23.0->azure-ai-formrecognizer) (3.4.0)\n",
            "Requirement already satisfied: urllib3<3,>=1.21.1 in /usr/local/lib/python3.10/dist-packages (from requests>=2.21.0->azure-core>=1.23.0->azure-ai-formrecognizer) (2.2.3)\n",
            "Requirement already satisfied: oauthlib>=3.0.0 in /usr/local/lib/python3.10/dist-packages (from requests-oauthlib>=0.5.0->msrest>=0.6.21->azure-ai-formrecognizer) (3.2.2)\n",
            "Downloading azure_ai_formrecognizer-3.3.3-py3-none-any.whl (301 kB)\n",
            "\u001b[2K   \u001b[90m━━━━━━━━━━━━━━━━━━━━━━━━━━━━━━━━━━━━━━━━\u001b[0m \u001b[32m301.4/301.4 kB\u001b[0m \u001b[31m11.5 MB/s\u001b[0m eta \u001b[36m0:00:00\u001b[0m\n",
            "\u001b[?25hDownloading azure_search_documents-11.5.2-py3-none-any.whl (298 kB)\n",
            "\u001b[2K   \u001b[90m━━━━━━━━━━━━━━━━━━━━━━━━━━━━━━━━━━━━━━━━\u001b[0m \u001b[32m298.8/298.8 kB\u001b[0m \u001b[31m18.7 MB/s\u001b[0m eta \u001b[36m0:00:00\u001b[0m\n",
            "\u001b[?25hDownloading azure_common-1.1.28-py2.py3-none-any.whl (14 kB)\n",
            "Downloading azure_core-1.32.0-py3-none-any.whl (198 kB)\n",
            "\u001b[2K   \u001b[90m━━━━━━━━━━━━━━━━━━━━━━━━━━━━━━━━━━━━━━━━\u001b[0m \u001b[32m198.9/198.9 kB\u001b[0m \u001b[31m12.2 MB/s\u001b[0m eta \u001b[36m0:00:00\u001b[0m\n",
            "\u001b[?25hDownloading isodate-0.7.2-py3-none-any.whl (22 kB)\n",
            "Downloading msrest-0.7.1-py3-none-any.whl (85 kB)\n",
            "\u001b[2K   \u001b[90m━━━━━━━━━━━━━━━━━━━━━━━━━━━━━━━━━━━━━━━━\u001b[0m \u001b[32m85.4/85.4 kB\u001b[0m \u001b[31m5.9 MB/s\u001b[0m eta \u001b[36m0:00:00\u001b[0m\n",
            "\u001b[?25hInstalling collected packages: azure-common, isodate, azure-core, msrest, azure-search-documents, azure-ai-formrecognizer\n",
            "Successfully installed azure-ai-formrecognizer-3.3.3 azure-common-1.1.28 azure-core-1.32.0 azure-search-documents-11.5.2 isodate-0.7.2 msrest-0.7.1\n"
          ]
        }
      ],
      "source": [
        "pip install azure-ai-formrecognizer azure-search-documents openai\n"
      ]
    },
    {
      "cell_type": "code",
      "execution_count": 3,
      "metadata": {
        "colab": {
          "base_uri": "https://localhost:8080/"
        },
        "id": "ST3Ei7_84V4m",
        "outputId": "6b643673-1439-4985-b709-c0b51afa1f76"
      },
      "outputs": [
        {
          "name": "stdout",
          "output_type": "stream",
          "text": [
            "Requirement already satisfied: azure-ai-documentintelligence in /usr/local/lib/python3.10/dist-packages (1.0.0b4)\n",
            "Requirement already satisfied: isodate>=0.6.1 in /usr/local/lib/python3.10/dist-packages (from azure-ai-documentintelligence) (0.7.2)\n",
            "Requirement already satisfied: azure-core>=1.30.0 in /usr/local/lib/python3.10/dist-packages (from azure-ai-documentintelligence) (1.32.0)\n",
            "Requirement already satisfied: typing-extensions>=4.6.0 in /usr/local/lib/python3.10/dist-packages (from azure-ai-documentintelligence) (4.12.2)\n",
            "Requirement already satisfied: requests>=2.21.0 in /usr/local/lib/python3.10/dist-packages (from azure-core>=1.30.0->azure-ai-documentintelligence) (2.32.3)\n",
            "Requirement already satisfied: six>=1.11.0 in /usr/local/lib/python3.10/dist-packages (from azure-core>=1.30.0->azure-ai-documentintelligence) (1.16.0)\n",
            "Requirement already satisfied: charset-normalizer<4,>=2 in /usr/local/lib/python3.10/dist-packages (from requests>=2.21.0->azure-core>=1.30.0->azure-ai-documentintelligence) (3.4.0)\n",
            "Requirement already satisfied: idna<4,>=2.5 in /usr/local/lib/python3.10/dist-packages (from requests>=2.21.0->azure-core>=1.30.0->azure-ai-documentintelligence) (3.10)\n",
            "Requirement already satisfied: urllib3<3,>=1.21.1 in /usr/local/lib/python3.10/dist-packages (from requests>=2.21.0->azure-core>=1.30.0->azure-ai-documentintelligence) (2.2.3)\n",
            "Requirement already satisfied: certifi>=2017.4.17 in /usr/local/lib/python3.10/dist-packages (from requests>=2.21.0->azure-core>=1.30.0->azure-ai-documentintelligence) (2024.8.30)\n"
          ]
        }
      ],
      "source": [
        "pip install azure-ai-documentintelligence --pre"
      ]
    },
    {
      "cell_type": "code",
      "execution_count": 5,
      "metadata": {
        "id": "jVhjiT534rlr"
      },
      "outputs": [],
      "source": [
        "from azure.ai.documentintelligence import DocumentIntelligenceClient\n",
        "from azure.ai.documentintelligence.models import AnalyzeResult, AnalyzeDocumentRequest"
      ]
    },
    {
      "cell_type": "code",
      "execution_count": 17,
      "metadata": {
        "id": "4H2oi2-kJXw4"
      },
      "outputs": [],
      "source": [
        "from azure.ai.formrecognizer import DocumentAnalysisClient\n",
        "from azure.core.credentials import AzureKeyCredential\n",
        "import os"
      ]
    },
    {
      "cell_type": "markdown",
      "metadata": {
        "id": "GMKN-C4ljWzI"
      },
      "source": [
        "Azure AI services | Document intelligence -\n",
        "FormRecognizer resource"
      ]
    },
    {
      "cell_type": "code",
      "execution_count": 18,
      "metadata": {
        "id": "xB8tBAIEJZEq"
      },
      "outputs": [],
      "source": [
        "# Set up the Form Recognizer client\n",
        "endpoint = \"https://.cognitiveservices.azure.com/\"\n",
        "api_key = \"\"\n",
        "doc_client = DocumentAnalysisClient(endpoint=endpoint, credential=AzureKeyCredential(api_key))\n"
      ]
    },
    {
      "cell_type": "code",
      "execution_count": 9,
      "metadata": {
        "colab": {
          "base_uri": "https://localhost:8080/"
        },
        "id": "k-5z1RR7LFW0",
        "outputId": "fd4bce90-ae45-45e9-f1f8-19feef243e2e"
      },
      "outputs": [
        {
          "data": {
            "text/plain": [
              "['.config', 'contract3.pdf', 'sample_data']"
            ]
          },
          "execution_count": 9,
          "metadata": {},
          "output_type": "execute_result"
        }
      ],
      "source": [
        "import os\n",
        "os.listdir()"
      ]
    },
    {
      "cell_type": "code",
      "execution_count": 10,
      "metadata": {
        "id": "EYCoy3C_jLLw"
      },
      "outputs": [],
      "source": [
        "clause_titles = [\"Price Protection\", \"Late Payment Penalties\", \"SLAs/Service Credits\", \"Termination\", \"Confidentiality\", \"Indemnification\", \"Rebates/Volume Discounts\", \"Payment Terms\", \"Forex\", \"COLA/Inflation Adjustment\", \"Early Payment Discounts\", \"Early Payment Discounts\", \"Termination Provisions\", \"Committal/Non-Committal Contracts\"]\n"
      ]
    },
    {
      "cell_type": "code",
      "execution_count": 14,
      "metadata": {
        "id": "bA9U-GrI5Y66"
      },
      "outputs": [],
      "source": [
        "def get_words(page, line):\n",
        "    result = []\n",
        "    for word in page.words:\n",
        "        if _in_span(word, line.spans):\n",
        "            result.append(word)\n",
        "    return result"
      ]
    },
    {
      "cell_type": "code",
      "execution_count": 15,
      "metadata": {
        "id": "CV9jDdep5xin"
      },
      "outputs": [],
      "source": [
        "def _in_span(word, spans):\n",
        "    for span in spans:\n",
        "        if word.span.offset >= span.offset and (word.span.offset + word.span.length) <= (span.offset + span.length):\n",
        "            return True\n",
        "    return False"
      ]
    },
    {
      "cell_type": "code",
      "execution_count": 32,
      "metadata": {
        "colab": {
          "base_uri": "https://localhost:8080/"
        },
        "id": "dBslmwEBMlBj",
        "outputId": "14aeae49-a744-4cb4-b9bb-e9222a921858"
      },
      "outputs": [
        {
          "name": "stdout",
          "output_type": "stream",
          "text": [
            "Label: Rebates/Volume Discounts, Text: 1. Rebates/Volume Discounts The Supplier agrees to provide volume-based discounts to the Buyer, incentivizing higher pur...\n",
            "Label: SLAs/Service Credits, Text: 2. SLAs/Service Credits The Supplier commits to maintaining a minimum service level, as outlined in the Service Level Ag...\n",
            "Label: Confidentiality, Text: Confidentiality Both parties agree not to disclose confidential information without written consent. 2024-01- 01 2025- 0...\n",
            "Label: Termination, Text: Termination Either party may terminate the agreement with 30 days' written notice. 2024-01- 01 2025- 01-01 N/A $10,000 i...\n",
            "Label: Price Protection, Text: 3. Price Protection The prices set forth in this agreement shall remain fixed for the initial 12 months. Thereafter, pri...\n"
          ]
        }
      ],
      "source": [
        "def extract_clauses(pdf_path):\n",
        "    with open(pdf_path, \"rb\") as fd:\n",
        "        poller = doc_client.begin_analyze_document(\"prebuilt-layout\", fd)\n",
        "        result = poller.result()\n",
        "\n",
        "    clause_segments = []\n",
        "    current_label = None\n",
        "    current_text = []\n",
        "\n",
        "    for page in result.pages:\n",
        "        for line in page.lines:\n",
        "            line_text = line.content.strip()\n",
        "            if len(line_text) == 1:\n",
        "                continue\n",
        "            # Check if paragraph text matches any clause title\n",
        "            matched_title = next((title for title in clause_titles if title.lower() in line_text.lower()), None)\n",
        "\n",
        "            if matched_title:\n",
        "                # Save previous clause segment if there's any\n",
        "                if current_label and current_text:\n",
        "                    clause_segments.append({\n",
        "                        \"Label\": current_label,\n",
        "                        \"Text\": \" \".join(current_text)\n",
        "                    })\n",
        "\n",
        "                # Reset for new clause\n",
        "                current_label = matched_title\n",
        "                current_text = [line_text]\n",
        "            else:\n",
        "                # Continue accumulating text for the current clause\n",
        "                current_text.append(line_text)\n",
        "\n",
        "    # Add the final clause to segments if it exists\n",
        "    if current_label and current_text:\n",
        "        clause_segments.append({\n",
        "            \"Label\": current_label,\n",
        "            \"Text\": \" \".join(current_text)\n",
        "        })\n",
        "\n",
        "    return clause_segments\n",
        "\n",
        "# Call the function to process the contract and get clause segments\n",
        "file_path = \"contract3.pdf\"\n",
        "clause_segments = extract_clauses(file_path)\n",
        "\n",
        "# Check the output format\n",
        "for clause in clause_segments:\n",
        "    print(f\"Label: {clause['Label']}, Text: {clause['Text'][:120]}...\")  # Display first 100 characters of each clause\n"
      ]
    },
    {
      "cell_type": "code",
      "execution_count": 29,
      "metadata": {
        "colab": {
          "base_uri": "https://localhost:8080/"
        },
        "collapsed": true,
        "id": "Dgk8WyogP88C",
        "outputId": "c28e570c-3213-481f-d318-86a9aff9aad0"
      },
      "outputs": [
        {
          "name": "stdout",
          "output_type": "stream",
          "text": [
            "\n",
            "Extracted Tables: [[{'row': 0, 'column': 0, 'text': 'Clause'}, {'row': 0, 'column': 1, 'text': 'Description'}, {'row': 0, 'column': 2, 'text': 'Effective Date'}, {'row': 0, 'column': 3, 'text': 'Expiry Date'}, {'row': 0, 'column': 4, 'text': 'Payment Terms'}, {'row': 0, 'column': 5, 'text': 'Penalties'}, {'row': 1, 'column': 0, 'text': 'Confidentiality'}, {'row': 1, 'column': 1, 'text': 'Both parties agree not to disclose confidential information without written consent.'}, {'row': 1, 'column': 2, 'text': '2024-01- 01'}, {'row': 1, 'column': 3, 'text': '2025- 01-01'}, {'row': 1, 'column': 4, 'text': 'N/A'}, {'row': 1, 'column': 5, 'text': 'Up to $50,000'}, {'row': 2, 'column': 0, 'text': 'Termination'}, {'row': 2, 'column': 1, 'text': \"Either party may terminate the agreement with 30 days' written notice.\"}, {'row': 2, 'column': 2, 'text': '2024-01- 01'}, {'row': 2, 'column': 3, 'text': '2025- 01-01'}, {'row': 2, 'column': 4, 'text': 'N/A'}, {'row': 2, 'column': 5, 'text': '$10,000 if notice not provided'}, {'row': 3, 'column': 0, 'text': 'Payment Schedule'}, {'row': 3, 'column': 1, 'text': 'Payments to be made quarterly within 15 days of invoice receipt.'}, {'row': 3, 'column': 2, 'text': '2024-01- 01'}, {'row': 3, 'column': 3, 'text': '2025- 01-01'}, {'row': 3, 'column': 4, 'text': 'Net 15 days'}, {'row': 3, 'column': 5, 'text': '1.5% interest on late payments'}, {'row': 4, 'column': 0, 'text': 'Intellectual Property'}, {'row': 4, 'column': 1, 'text': 'All IP developed under this contract remains the property of the creator.'}, {'row': 4, 'column': 2, 'text': '2024-01- 01'}, {'row': 4, 'column': 3, 'text': '2025- 01-01'}, {'row': 4, 'column': 4, 'text': 'N/A'}, {'row': 4, 'column': 5, 'text': '$100,000 for unauthorized use'}, {'row': 5, 'column': 0, 'text': 'Limitation of Liability'}, {'row': 5, 'column': 1, 'text': 'The liability of each party shall not exceed the total contract value.'}, {'row': 5, 'column': 2, 'text': '2024-01- 01'}, {'row': 5, 'column': 3, 'text': '2025- 01-01'}, {'row': 5, 'column': 4, 'text': 'N/A'}, {'row': 5, 'column': 5, 'text': 'Limited to contract value'}, {'row': 6, 'column': 0, 'text': 'Warranties'}, {'row': 6, 'column': 1, 'text': 'The supplier warrants all goods are free from defects for one year from delivery.'}, {'row': 6, 'column': 2, 'text': '2024-01- 01'}, {'row': 6, 'column': 3, 'text': '2025- 01-01'}, {'row': 6, 'column': 4, 'text': 'N/A'}, {'row': 6, 'column': 5, 'text': 'Replacement or repair of goods'}, {'row': 7, 'column': 0, 'text': 'Dispute Resolution'}, {'row': 7, 'column': 1, 'text': 'Any disputes shall be resolved through arbitration as per applicable laws.'}, {'row': 7, 'column': 2, 'text': '2024-01- 01'}, {'row': 7, 'column': 3, 'text': '2025- 01-01'}, {'row': 7, 'column': 4, 'text': 'N/A'}, {'row': 7, 'column': 5, 'text': 'Costs split between both parties'}, {'row': 8, 'column': 0, 'text': 'Force Majeure'}, {'row': 8, 'column': 1, 'text': 'Neither party is liable for delays due to events beyond their control (e.g., natural disasters).'}, {'row': 8, 'column': 2, 'text': '2024-01- 01'}, {'row': 8, 'column': 3, 'text': '2025- 01-01'}, {'row': 8, 'column': 4, 'text': 'N/A'}, {'row': 8, 'column': 5, 'text': 'None'}]]\n"
          ]
        }
      ],
      "source": [
        "\n",
        "with open(\"contract3.pdf\", \"rb\") as f:\n",
        "    poller = doc_client.begin_analyze_document(\"prebuilt-layout\", document=f, pages=\"1-6\")\n",
        "    result = poller.result()\n",
        "\n",
        "# Extracting line content from each page\n",
        "'''\n",
        "for page in result.pages:\n",
        "\n",
        "    if page.lines:\n",
        "            for line_idx, line in enumerate(page.lines):\n",
        "                words = get_words(page, line)\n",
        "                if len(words) > 1:\n",
        "                    print(f\"...Line # {line_idx} has text '{line.content}' \")\n",
        "'''\n",
        "\n",
        "\n",
        "# Extract tables if available\n",
        "tables = []\n",
        "if hasattr(result, \"tables\"):\n",
        "    for table in result.tables:\n",
        "        table_data = []\n",
        "        for cell in table.cells:\n",
        "            table_data.append({\n",
        "                \"row\": cell.row_index,\n",
        "                \"column\": cell.column_index,\n",
        "                \"text\": cell.content\n",
        "            })\n",
        "        tables.append(table_data)\n",
        "\n",
        "# Output extracted tables\n",
        "print(\"\\nExtracted Tables:\", tables)\n",
        "\n"
      ]
    },
    {
      "cell_type": "markdown",
      "metadata": {
        "id": "RHoj1Z4HSgnP"
      },
      "source": [
        "tables = []\n",
        "for table in result.tables:\n",
        "    table_data = []\n",
        "    for cell in table.cells:\n",
        "        table_data.append({\n",
        "            \"row\": cell.row_index,\n",
        "            \"column\": cell.column_index,\n",
        "            \"text\": cell.content\n",
        "        })\n",
        "    tables.append(table_data)\n",
        "\n",
        "print(tables)"
      ]
    },
    {
      "cell_type": "code",
      "execution_count": 33,
      "metadata": {
        "id": "6UI3eUpXMu4L"
      },
      "outputs": [],
      "source": [
        "from azure.search.documents import SearchClient\n",
        "from azure.core.credentials import AzureKeyCredential\n"
      ]
    },
    {
      "cell_type": "code",
      "execution_count": 34,
      "metadata": {
        "id": "WzVb4GPeFJcQ"
      },
      "outputs": [],
      "source": [
        "import re\n",
        "import openai\n",
        "from azure.search.documents import SearchClient\n",
        "from azure.search.documents.indexes import SearchIndexClient\n",
        "from azure.search.documents.indexes.models import SearchIndex, SimpleField, SearchableField\n",
        "\n"
      ]
    },
    {
      "cell_type": "markdown",
      "metadata": {
        "id": "uoc0smTtjqyn"
      },
      "source": [
        "Cognitive Search -> Azure AI services | AI Search - Search Service resouce.\n",
        "Also manually creae an index with required fields"
      ]
    },
    {
      "cell_type": "code",
      "execution_count": 36,
      "metadata": {
        "id": "Qrrb9CV7E5my"
      },
      "outputs": [],
      "source": [
        "search_endpoint = \"https://.search.windows.net\"\n",
        "search_api_key = \"\"\n",
        "index_name = \"contindex\"\n",
        "search_client = SearchClient(endpoint=search_endpoint, index_name=index_name, credential=AzureKeyCredential(search_api_key))\n"
      ]
    },
    {
      "cell_type": "code",
      "execution_count": 39,
      "metadata": {
        "id": "841r0FbSC9As"
      },
      "outputs": [],
      "source": [
        "import json"
      ]
    },
    {
      "cell_type": "code",
      "execution_count": 41,
      "metadata": {
        "id": "HOXjY_HZft7R"
      },
      "outputs": [],
      "source": [
        "def create_or_update_index(clause_segments):\n",
        "    # Create a simple index for storing clause titles and content\n",
        "    documents = []\n",
        "    for i, clause in enumerate(clause_segments):\n",
        "        document = {\n",
        "                \"id\": f\"clause-{i}\",  # Unique ID for each clause\n",
        "                \"label\": clause[\"Label\"],\n",
        "                \"text\": clause[\"Text\"],\n",
        "                \"table\": \"\"\n",
        "        }\n",
        "        documents.append(document)\n",
        "\n",
        "\n",
        "    for table in tables:\n",
        "        for cell in table:\n",
        "            table_data = {\n",
        "                \"id\": f\"table_{cell['row']}_{cell['column']}\",  # Unique ID for the table cell\n",
        "                \"label\": \"Table\",  # Set the label appropriately\n",
        "                \"text\": \"\",  # No text content for table cells\n",
        "                \"table\": json.dumps(table)  # Store table data as JSON\n",
        "            }\n",
        "            documents.append(table_data)\n",
        "\n",
        "    # Upload the document\n",
        "    search_client.upload_documents(documents=documents)\n",
        "\n",
        "# Index the extracted contract text\n",
        "create_or_update_index(clause_segments)"
      ]
    },
    {
      "cell_type": "code",
      "execution_count": null,
      "metadata": {
        "id": "NOwNC374DUJt"
      },
      "outputs": [],
      "source": []
    },
    {
      "cell_type": "code",
      "execution_count": 42,
      "metadata": {
        "colab": {
          "base_uri": "https://localhost:8080/"
        },
        "id": "rqpkGs_ufyhM",
        "outputId": "1030cd10-077d-49fe-a525-1b5bc9d80d6e"
      },
      "outputs": [
        {
          "name": "stdout",
          "output_type": "stream",
          "text": [
            "{'id': 'clause-1', 'table': '', 'label': 'SLAs/Service Credits', 'text': \"2. SLAs/Service Credits The Supplier commits to maintaining a minimum service level, as outlined in the Service Level Agreement (SLA) Schedule of this contract. This includes an uptime percentage of no less than 99.5% monthly. In the event of any service interruptions or downtimes exceeding the allowable limit, the Supplier will provide service credits to the Buyer based on the duration and impact of the downtime. Service credits will be calculated as a percentage of the monthly service fee, with specific percentages detailed in the SLA Schedule. Credits will be applied to the Buyer's next billing cycle. If the Supplier fails to meet the SLA for three consecutive months, the Buyer reserves the right to review the agreement and, if necessary, terminate the contract without penalty. Both parties agree that the Supplier will proactively report service performance at the end of each month, providing transparency and accountability. Clause Description Effective Date Expiry Date Payment Terms Penalties\", '@search.score': 1.0, '@search.reranker_score': None, '@search.highlights': None, '@search.captions': None}\n",
            "{'id': 'table_2_0', 'table': '[{\"row\": 0, \"column\": 0, \"text\": \"Clause\"}, {\"row\": 0, \"column\": 1, \"text\": \"Description\"}, {\"row\": 0, \"column\": 2, \"text\": \"Effective Date\"}, {\"row\": 0, \"column\": 3, \"text\": \"Expiry Date\"}, {\"row\": 0, \"column\": 4, \"text\": \"Payment Terms\"}, {\"row\": 0, \"column\": 5, \"text\": \"Penalties\"}, {\"row\": 1, \"column\": 0, \"text\": \"Confidentiality\"}, {\"row\": 1, \"column\": 1, \"text\": \"Both parties agree not to disclose confidential information without written consent.\"}, {\"row\": 1, \"column\": 2, \"text\": \"2024-01- 01\"}, {\"row\": 1, \"column\": 3, \"text\": \"2025- 01-01\"}, {\"row\": 1, \"column\": 4, \"text\": \"N/A\"}, {\"row\": 1, \"column\": 5, \"text\": \"Up to $50,000\"}, {\"row\": 2, \"column\": 0, \"text\": \"Termination\"}, {\"row\": 2, \"column\": 1, \"text\": \"Either party may terminate the agreement with 30 days\\' written notice.\"}, {\"row\": 2, \"column\": 2, \"text\": \"2024-01- 01\"}, {\"row\": 2, \"column\": 3, \"text\": \"2025- 01-01\"}, {\"row\": 2, \"column\": 4, \"text\": \"N/A\"}, {\"row\": 2, \"column\": 5, \"text\": \"$10,000 if notice not provided\"}, {\"row\": 3, \"column\": 0, \"text\": \"Payment Schedule\"}, {\"row\": 3, \"column\": 1, \"text\": \"Payments to be made quarterly within 15 days of invoice receipt.\"}, {\"row\": 3, \"column\": 2, \"text\": \"2024-01- 01\"}, {\"row\": 3, \"column\": 3, \"text\": \"2025- 01-01\"}, {\"row\": 3, \"column\": 4, \"text\": \"Net 15 days\"}, {\"row\": 3, \"column\": 5, \"text\": \"1.5% interest on late payments\"}, {\"row\": 4, \"column\": 0, \"text\": \"Intellectual Property\"}, {\"row\": 4, \"column\": 1, \"text\": \"All IP developed under this contract remains the property of the creator.\"}, {\"row\": 4, \"column\": 2, \"text\": \"2024-01- 01\"}, {\"row\": 4, \"column\": 3, \"text\": \"2025- 01-01\"}, {\"row\": 4, \"column\": 4, \"text\": \"N/A\"}, {\"row\": 4, \"column\": 5, \"text\": \"$100,000 for unauthorized use\"}, {\"row\": 5, \"column\": 0, \"text\": \"Limitation of Liability\"}, {\"row\": 5, \"column\": 1, \"text\": \"The liability of each party shall not exceed the total contract value.\"}, {\"row\": 5, \"column\": 2, \"text\": \"2024-01- 01\"}, {\"row\": 5, \"column\": 3, \"text\": \"2025- 01-01\"}, {\"row\": 5, \"column\": 4, \"text\": \"N/A\"}, {\"row\": 5, \"column\": 5, \"text\": \"Limited to contract value\"}, {\"row\": 6, \"column\": 0, \"text\": \"Warranties\"}, {\"row\": 6, \"column\": 1, \"text\": \"The supplier warrants all goods are free from defects for one year from delivery.\"}, {\"row\": 6, \"column\": 2, \"text\": \"2024-01- 01\"}, {\"row\": 6, \"column\": 3, \"text\": \"2025- 01-01\"}, {\"row\": 6, \"column\": 4, \"text\": \"N/A\"}, {\"row\": 6, \"column\": 5, \"text\": \"Replacement or repair of goods\"}, {\"row\": 7, \"column\": 0, \"text\": \"Dispute Resolution\"}, {\"row\": 7, \"column\": 1, \"text\": \"Any disputes shall be resolved through arbitration as per applicable laws.\"}, {\"row\": 7, \"column\": 2, \"text\": \"2024-01- 01\"}, {\"row\": 7, \"column\": 3, \"text\": \"2025- 01-01\"}, {\"row\": 7, \"column\": 4, \"text\": \"N/A\"}, {\"row\": 7, \"column\": 5, \"text\": \"Costs split between both parties\"}, {\"row\": 8, \"column\": 0, \"text\": \"Force Majeure\"}, {\"row\": 8, \"column\": 1, \"text\": \"Neither party is liable for delays due to events beyond their control (e.g., natural disasters).\"}, {\"row\": 8, \"column\": 2, \"text\": \"2024-01- 01\"}, {\"row\": 8, \"column\": 3, \"text\": \"2025- 01-01\"}, {\"row\": 8, \"column\": 4, \"text\": \"N/A\"}, {\"row\": 8, \"column\": 5, \"text\": \"None\"}]', 'label': 'Table', 'text': '', '@search.score': 1.0, '@search.reranker_score': None, '@search.highlights': None, '@search.captions': None}\n",
            "{'id': 'table_2_1', 'table': '[{\"row\": 0, \"column\": 0, \"text\": \"Clause\"}, {\"row\": 0, \"column\": 1, \"text\": \"Description\"}, {\"row\": 0, \"column\": 2, \"text\": \"Effective Date\"}, {\"row\": 0, \"column\": 3, \"text\": \"Expiry Date\"}, {\"row\": 0, \"column\": 4, \"text\": \"Payment Terms\"}, {\"row\": 0, \"column\": 5, \"text\": \"Penalties\"}, {\"row\": 1, \"column\": 0, \"text\": \"Confidentiality\"}, {\"row\": 1, \"column\": 1, \"text\": \"Both parties agree not to disclose confidential information without written consent.\"}, {\"row\": 1, \"column\": 2, \"text\": \"2024-01- 01\"}, {\"row\": 1, \"column\": 3, \"text\": \"2025- 01-01\"}, {\"row\": 1, \"column\": 4, \"text\": \"N/A\"}, {\"row\": 1, \"column\": 5, \"text\": \"Up to $50,000\"}, {\"row\": 2, \"column\": 0, \"text\": \"Termination\"}, {\"row\": 2, \"column\": 1, \"text\": \"Either party may terminate the agreement with 30 days\\' written notice.\"}, {\"row\": 2, \"column\": 2, \"text\": \"2024-01- 01\"}, {\"row\": 2, \"column\": 3, \"text\": \"2025- 01-01\"}, {\"row\": 2, \"column\": 4, \"text\": \"N/A\"}, {\"row\": 2, \"column\": 5, \"text\": \"$10,000 if notice not provided\"}, {\"row\": 3, \"column\": 0, \"text\": \"Payment Schedule\"}, {\"row\": 3, \"column\": 1, \"text\": \"Payments to be made quarterly within 15 days of invoice receipt.\"}, {\"row\": 3, \"column\": 2, \"text\": \"2024-01- 01\"}, {\"row\": 3, \"column\": 3, \"text\": \"2025- 01-01\"}, {\"row\": 3, \"column\": 4, \"text\": \"Net 15 days\"}, {\"row\": 3, \"column\": 5, \"text\": \"1.5% interest on late payments\"}, {\"row\": 4, \"column\": 0, \"text\": \"Intellectual Property\"}, {\"row\": 4, \"column\": 1, \"text\": \"All IP developed under this contract remains the property of the creator.\"}, {\"row\": 4, \"column\": 2, \"text\": \"2024-01- 01\"}, {\"row\": 4, \"column\": 3, \"text\": \"2025- 01-01\"}, {\"row\": 4, \"column\": 4, \"text\": \"N/A\"}, {\"row\": 4, \"column\": 5, \"text\": \"$100,000 for unauthorized use\"}, {\"row\": 5, \"column\": 0, \"text\": \"Limitation of Liability\"}, {\"row\": 5, \"column\": 1, \"text\": \"The liability of each party shall not exceed the total contract value.\"}, {\"row\": 5, \"column\": 2, \"text\": \"2024-01- 01\"}, {\"row\": 5, \"column\": 3, \"text\": \"2025- 01-01\"}, {\"row\": 5, \"column\": 4, \"text\": \"N/A\"}, {\"row\": 5, \"column\": 5, \"text\": \"Limited to contract value\"}, {\"row\": 6, \"column\": 0, \"text\": \"Warranties\"}, {\"row\": 6, \"column\": 1, \"text\": \"The supplier warrants all goods are free from defects for one year from delivery.\"}, {\"row\": 6, \"column\": 2, \"text\": \"2024-01- 01\"}, {\"row\": 6, \"column\": 3, \"text\": \"2025- 01-01\"}, {\"row\": 6, \"column\": 4, \"text\": \"N/A\"}, {\"row\": 6, \"column\": 5, \"text\": \"Replacement or repair of goods\"}, {\"row\": 7, \"column\": 0, \"text\": \"Dispute Resolution\"}, {\"row\": 7, \"column\": 1, \"text\": \"Any disputes shall be resolved through arbitration as per applicable laws.\"}, {\"row\": 7, \"column\": 2, \"text\": \"2024-01- 01\"}, {\"row\": 7, \"column\": 3, \"text\": \"2025- 01-01\"}, {\"row\": 7, \"column\": 4, \"text\": \"N/A\"}, {\"row\": 7, \"column\": 5, \"text\": \"Costs split between both parties\"}, {\"row\": 8, \"column\": 0, \"text\": \"Force Majeure\"}, {\"row\": 8, \"column\": 1, \"text\": \"Neither party is liable for delays due to events beyond their control (e.g., natural disasters).\"}, {\"row\": 8, \"column\": 2, \"text\": \"2024-01- 01\"}, {\"row\": 8, \"column\": 3, \"text\": \"2025- 01-01\"}, {\"row\": 8, \"column\": 4, \"text\": \"N/A\"}, {\"row\": 8, \"column\": 5, \"text\": \"None\"}]', 'label': 'Table', 'text': '', '@search.score': 1.0, '@search.reranker_score': None, '@search.highlights': None, '@search.captions': None}\n",
            "{'id': 'table_4_5', 'table': '[{\"row\": 0, \"column\": 0, \"text\": \"Clause\"}, {\"row\": 0, \"column\": 1, \"text\": \"Description\"}, {\"row\": 0, \"column\": 2, \"text\": \"Effective Date\"}, {\"row\": 0, \"column\": 3, \"text\": \"Expiry Date\"}, {\"row\": 0, \"column\": 4, \"text\": \"Payment Terms\"}, {\"row\": 0, \"column\": 5, \"text\": \"Penalties\"}, {\"row\": 1, \"column\": 0, \"text\": \"Confidentiality\"}, {\"row\": 1, \"column\": 1, \"text\": \"Both parties agree not to disclose confidential information without written consent.\"}, {\"row\": 1, \"column\": 2, \"text\": \"2024-01- 01\"}, {\"row\": 1, \"column\": 3, \"text\": \"2025- 01-01\"}, {\"row\": 1, \"column\": 4, \"text\": \"N/A\"}, {\"row\": 1, \"column\": 5, \"text\": \"Up to $50,000\"}, {\"row\": 2, \"column\": 0, \"text\": \"Termination\"}, {\"row\": 2, \"column\": 1, \"text\": \"Either party may terminate the agreement with 30 days\\' written notice.\"}, {\"row\": 2, \"column\": 2, \"text\": \"2024-01- 01\"}, {\"row\": 2, \"column\": 3, \"text\": \"2025- 01-01\"}, {\"row\": 2, \"column\": 4, \"text\": \"N/A\"}, {\"row\": 2, \"column\": 5, \"text\": \"$10,000 if notice not provided\"}, {\"row\": 3, \"column\": 0, \"text\": \"Payment Schedule\"}, {\"row\": 3, \"column\": 1, \"text\": \"Payments to be made quarterly within 15 days of invoice receipt.\"}, {\"row\": 3, \"column\": 2, \"text\": \"2024-01- 01\"}, {\"row\": 3, \"column\": 3, \"text\": \"2025- 01-01\"}, {\"row\": 3, \"column\": 4, \"text\": \"Net 15 days\"}, {\"row\": 3, \"column\": 5, \"text\": \"1.5% interest on late payments\"}, {\"row\": 4, \"column\": 0, \"text\": \"Intellectual Property\"}, {\"row\": 4, \"column\": 1, \"text\": \"All IP developed under this contract remains the property of the creator.\"}, {\"row\": 4, \"column\": 2, \"text\": \"2024-01- 01\"}, {\"row\": 4, \"column\": 3, \"text\": \"2025- 01-01\"}, {\"row\": 4, \"column\": 4, \"text\": \"N/A\"}, {\"row\": 4, \"column\": 5, \"text\": \"$100,000 for unauthorized use\"}, {\"row\": 5, \"column\": 0, \"text\": \"Limitation of Liability\"}, {\"row\": 5, \"column\": 1, \"text\": \"The liability of each party shall not exceed the total contract value.\"}, {\"row\": 5, \"column\": 2, \"text\": \"2024-01- 01\"}, {\"row\": 5, \"column\": 3, \"text\": \"2025- 01-01\"}, {\"row\": 5, \"column\": 4, \"text\": \"N/A\"}, {\"row\": 5, \"column\": 5, \"text\": \"Limited to contract value\"}, {\"row\": 6, \"column\": 0, \"text\": \"Warranties\"}, {\"row\": 6, \"column\": 1, \"text\": \"The supplier warrants all goods are free from defects for one year from delivery.\"}, {\"row\": 6, \"column\": 2, \"text\": \"2024-01- 01\"}, {\"row\": 6, \"column\": 3, \"text\": \"2025- 01-01\"}, {\"row\": 6, \"column\": 4, \"text\": \"N/A\"}, {\"row\": 6, \"column\": 5, \"text\": \"Replacement or repair of goods\"}, {\"row\": 7, \"column\": 0, \"text\": \"Dispute Resolution\"}, {\"row\": 7, \"column\": 1, \"text\": \"Any disputes shall be resolved through arbitration as per applicable laws.\"}, {\"row\": 7, \"column\": 2, \"text\": \"2024-01- 01\"}, {\"row\": 7, \"column\": 3, \"text\": \"2025- 01-01\"}, {\"row\": 7, \"column\": 4, \"text\": \"N/A\"}, {\"row\": 7, \"column\": 5, \"text\": \"Costs split between both parties\"}, {\"row\": 8, \"column\": 0, \"text\": \"Force Majeure\"}, {\"row\": 8, \"column\": 1, \"text\": \"Neither party is liable for delays due to events beyond their control (e.g., natural disasters).\"}, {\"row\": 8, \"column\": 2, \"text\": \"2024-01- 01\"}, {\"row\": 8, \"column\": 3, \"text\": \"2025- 01-01\"}, {\"row\": 8, \"column\": 4, \"text\": \"N/A\"}, {\"row\": 8, \"column\": 5, \"text\": \"None\"}]', 'label': 'Table', 'text': '', '@search.score': 1.0, '@search.reranker_score': None, '@search.highlights': None, '@search.captions': None}\n",
            "{'id': 'table_5_0', 'table': '[{\"row\": 0, \"column\": 0, \"text\": \"Clause\"}, {\"row\": 0, \"column\": 1, \"text\": \"Description\"}, {\"row\": 0, \"column\": 2, \"text\": \"Effective Date\"}, {\"row\": 0, \"column\": 3, \"text\": \"Expiry Date\"}, {\"row\": 0, \"column\": 4, \"text\": \"Payment Terms\"}, {\"row\": 0, \"column\": 5, \"text\": \"Penalties\"}, {\"row\": 1, \"column\": 0, \"text\": \"Confidentiality\"}, {\"row\": 1, \"column\": 1, \"text\": \"Both parties agree not to disclose confidential information without written consent.\"}, {\"row\": 1, \"column\": 2, \"text\": \"2024-01- 01\"}, {\"row\": 1, \"column\": 3, \"text\": \"2025- 01-01\"}, {\"row\": 1, \"column\": 4, \"text\": \"N/A\"}, {\"row\": 1, \"column\": 5, \"text\": \"Up to $50,000\"}, {\"row\": 2, \"column\": 0, \"text\": \"Termination\"}, {\"row\": 2, \"column\": 1, \"text\": \"Either party may terminate the agreement with 30 days\\' written notice.\"}, {\"row\": 2, \"column\": 2, \"text\": \"2024-01- 01\"}, {\"row\": 2, \"column\": 3, \"text\": \"2025- 01-01\"}, {\"row\": 2, \"column\": 4, \"text\": \"N/A\"}, {\"row\": 2, \"column\": 5, \"text\": \"$10,000 if notice not provided\"}, {\"row\": 3, \"column\": 0, \"text\": \"Payment Schedule\"}, {\"row\": 3, \"column\": 1, \"text\": \"Payments to be made quarterly within 15 days of invoice receipt.\"}, {\"row\": 3, \"column\": 2, \"text\": \"2024-01- 01\"}, {\"row\": 3, \"column\": 3, \"text\": \"2025- 01-01\"}, {\"row\": 3, \"column\": 4, \"text\": \"Net 15 days\"}, {\"row\": 3, \"column\": 5, \"text\": \"1.5% interest on late payments\"}, {\"row\": 4, \"column\": 0, \"text\": \"Intellectual Property\"}, {\"row\": 4, \"column\": 1, \"text\": \"All IP developed under this contract remains the property of the creator.\"}, {\"row\": 4, \"column\": 2, \"text\": \"2024-01- 01\"}, {\"row\": 4, \"column\": 3, \"text\": \"2025- 01-01\"}, {\"row\": 4, \"column\": 4, \"text\": \"N/A\"}, {\"row\": 4, \"column\": 5, \"text\": \"$100,000 for unauthorized use\"}, {\"row\": 5, \"column\": 0, \"text\": \"Limitation of Liability\"}, {\"row\": 5, \"column\": 1, \"text\": \"The liability of each party shall not exceed the total contract value.\"}, {\"row\": 5, \"column\": 2, \"text\": \"2024-01- 01\"}, {\"row\": 5, \"column\": 3, \"text\": \"2025- 01-01\"}, {\"row\": 5, \"column\": 4, \"text\": \"N/A\"}, {\"row\": 5, \"column\": 5, \"text\": \"Limited to contract value\"}, {\"row\": 6, \"column\": 0, \"text\": \"Warranties\"}, {\"row\": 6, \"column\": 1, \"text\": \"The supplier warrants all goods are free from defects for one year from delivery.\"}, {\"row\": 6, \"column\": 2, \"text\": \"2024-01- 01\"}, {\"row\": 6, \"column\": 3, \"text\": \"2025- 01-01\"}, {\"row\": 6, \"column\": 4, \"text\": \"N/A\"}, {\"row\": 6, \"column\": 5, \"text\": \"Replacement or repair of goods\"}, {\"row\": 7, \"column\": 0, \"text\": \"Dispute Resolution\"}, {\"row\": 7, \"column\": 1, \"text\": \"Any disputes shall be resolved through arbitration as per applicable laws.\"}, {\"row\": 7, \"column\": 2, \"text\": \"2024-01- 01\"}, {\"row\": 7, \"column\": 3, \"text\": \"2025- 01-01\"}, {\"row\": 7, \"column\": 4, \"text\": \"N/A\"}, {\"row\": 7, \"column\": 5, \"text\": \"Costs split between both parties\"}, {\"row\": 8, \"column\": 0, \"text\": \"Force Majeure\"}, {\"row\": 8, \"column\": 1, \"text\": \"Neither party is liable for delays due to events beyond their control (e.g., natural disasters).\"}, {\"row\": 8, \"column\": 2, \"text\": \"2024-01- 01\"}, {\"row\": 8, \"column\": 3, \"text\": \"2025- 01-01\"}, {\"row\": 8, \"column\": 4, \"text\": \"N/A\"}, {\"row\": 8, \"column\": 5, \"text\": \"None\"}]', 'label': 'Table', 'text': '', '@search.score': 1.0, '@search.reranker_score': None, '@search.highlights': None, '@search.captions': None}\n",
            "{'id': 'table_6_2', 'table': '[{\"row\": 0, \"column\": 0, \"text\": \"Clause\"}, {\"row\": 0, \"column\": 1, \"text\": \"Description\"}, {\"row\": 0, \"column\": 2, \"text\": \"Effective Date\"}, {\"row\": 0, \"column\": 3, \"text\": \"Expiry Date\"}, {\"row\": 0, \"column\": 4, \"text\": \"Payment Terms\"}, {\"row\": 0, \"column\": 5, \"text\": \"Penalties\"}, {\"row\": 1, \"column\": 0, \"text\": \"Confidentiality\"}, {\"row\": 1, \"column\": 1, \"text\": \"Both parties agree not to disclose confidential information without written consent.\"}, {\"row\": 1, \"column\": 2, \"text\": \"2024-01- 01\"}, {\"row\": 1, \"column\": 3, \"text\": \"2025- 01-01\"}, {\"row\": 1, \"column\": 4, \"text\": \"N/A\"}, {\"row\": 1, \"column\": 5, \"text\": \"Up to $50,000\"}, {\"row\": 2, \"column\": 0, \"text\": \"Termination\"}, {\"row\": 2, \"column\": 1, \"text\": \"Either party may terminate the agreement with 30 days\\' written notice.\"}, {\"row\": 2, \"column\": 2, \"text\": \"2024-01- 01\"}, {\"row\": 2, \"column\": 3, \"text\": \"2025- 01-01\"}, {\"row\": 2, \"column\": 4, \"text\": \"N/A\"}, {\"row\": 2, \"column\": 5, \"text\": \"$10,000 if notice not provided\"}, {\"row\": 3, \"column\": 0, \"text\": \"Payment Schedule\"}, {\"row\": 3, \"column\": 1, \"text\": \"Payments to be made quarterly within 15 days of invoice receipt.\"}, {\"row\": 3, \"column\": 2, \"text\": \"2024-01- 01\"}, {\"row\": 3, \"column\": 3, \"text\": \"2025- 01-01\"}, {\"row\": 3, \"column\": 4, \"text\": \"Net 15 days\"}, {\"row\": 3, \"column\": 5, \"text\": \"1.5% interest on late payments\"}, {\"row\": 4, \"column\": 0, \"text\": \"Intellectual Property\"}, {\"row\": 4, \"column\": 1, \"text\": \"All IP developed under this contract remains the property of the creator.\"}, {\"row\": 4, \"column\": 2, \"text\": \"2024-01- 01\"}, {\"row\": 4, \"column\": 3, \"text\": \"2025- 01-01\"}, {\"row\": 4, \"column\": 4, \"text\": \"N/A\"}, {\"row\": 4, \"column\": 5, \"text\": \"$100,000 for unauthorized use\"}, {\"row\": 5, \"column\": 0, \"text\": \"Limitation of Liability\"}, {\"row\": 5, \"column\": 1, \"text\": \"The liability of each party shall not exceed the total contract value.\"}, {\"row\": 5, \"column\": 2, \"text\": \"2024-01- 01\"}, {\"row\": 5, \"column\": 3, \"text\": \"2025- 01-01\"}, {\"row\": 5, \"column\": 4, \"text\": \"N/A\"}, {\"row\": 5, \"column\": 5, \"text\": \"Limited to contract value\"}, {\"row\": 6, \"column\": 0, \"text\": \"Warranties\"}, {\"row\": 6, \"column\": 1, \"text\": \"The supplier warrants all goods are free from defects for one year from delivery.\"}, {\"row\": 6, \"column\": 2, \"text\": \"2024-01- 01\"}, {\"row\": 6, \"column\": 3, \"text\": \"2025- 01-01\"}, {\"row\": 6, \"column\": 4, \"text\": \"N/A\"}, {\"row\": 6, \"column\": 5, \"text\": \"Replacement or repair of goods\"}, {\"row\": 7, \"column\": 0, \"text\": \"Dispute Resolution\"}, {\"row\": 7, \"column\": 1, \"text\": \"Any disputes shall be resolved through arbitration as per applicable laws.\"}, {\"row\": 7, \"column\": 2, \"text\": \"2024-01- 01\"}, {\"row\": 7, \"column\": 3, \"text\": \"2025- 01-01\"}, {\"row\": 7, \"column\": 4, \"text\": \"N/A\"}, {\"row\": 7, \"column\": 5, \"text\": \"Costs split between both parties\"}, {\"row\": 8, \"column\": 0, \"text\": \"Force Majeure\"}, {\"row\": 8, \"column\": 1, \"text\": \"Neither party is liable for delays due to events beyond their control (e.g., natural disasters).\"}, {\"row\": 8, \"column\": 2, \"text\": \"2024-01- 01\"}, {\"row\": 8, \"column\": 3, \"text\": \"2025- 01-01\"}, {\"row\": 8, \"column\": 4, \"text\": \"N/A\"}, {\"row\": 8, \"column\": 5, \"text\": \"None\"}]', 'label': 'Table', 'text': '', '@search.score': 1.0, '@search.reranker_score': None, '@search.highlights': None, '@search.captions': None}\n",
            "{'id': 'table_6_3', 'table': '[{\"row\": 0, \"column\": 0, \"text\": \"Clause\"}, {\"row\": 0, \"column\": 1, \"text\": \"Description\"}, {\"row\": 0, \"column\": 2, \"text\": \"Effective Date\"}, {\"row\": 0, \"column\": 3, \"text\": \"Expiry Date\"}, {\"row\": 0, \"column\": 4, \"text\": \"Payment Terms\"}, {\"row\": 0, \"column\": 5, \"text\": \"Penalties\"}, {\"row\": 1, \"column\": 0, \"text\": \"Confidentiality\"}, {\"row\": 1, \"column\": 1, \"text\": \"Both parties agree not to disclose confidential information without written consent.\"}, {\"row\": 1, \"column\": 2, \"text\": \"2024-01- 01\"}, {\"row\": 1, \"column\": 3, \"text\": \"2025- 01-01\"}, {\"row\": 1, \"column\": 4, \"text\": \"N/A\"}, {\"row\": 1, \"column\": 5, \"text\": \"Up to $50,000\"}, {\"row\": 2, \"column\": 0, \"text\": \"Termination\"}, {\"row\": 2, \"column\": 1, \"text\": \"Either party may terminate the agreement with 30 days\\' written notice.\"}, {\"row\": 2, \"column\": 2, \"text\": \"2024-01- 01\"}, {\"row\": 2, \"column\": 3, \"text\": \"2025- 01-01\"}, {\"row\": 2, \"column\": 4, \"text\": \"N/A\"}, {\"row\": 2, \"column\": 5, \"text\": \"$10,000 if notice not provided\"}, {\"row\": 3, \"column\": 0, \"text\": \"Payment Schedule\"}, {\"row\": 3, \"column\": 1, \"text\": \"Payments to be made quarterly within 15 days of invoice receipt.\"}, {\"row\": 3, \"column\": 2, \"text\": \"2024-01- 01\"}, {\"row\": 3, \"column\": 3, \"text\": \"2025- 01-01\"}, {\"row\": 3, \"column\": 4, \"text\": \"Net 15 days\"}, {\"row\": 3, \"column\": 5, \"text\": \"1.5% interest on late payments\"}, {\"row\": 4, \"column\": 0, \"text\": \"Intellectual Property\"}, {\"row\": 4, \"column\": 1, \"text\": \"All IP developed under this contract remains the property of the creator.\"}, {\"row\": 4, \"column\": 2, \"text\": \"2024-01- 01\"}, {\"row\": 4, \"column\": 3, \"text\": \"2025- 01-01\"}, {\"row\": 4, \"column\": 4, \"text\": \"N/A\"}, {\"row\": 4, \"column\": 5, \"text\": \"$100,000 for unauthorized use\"}, {\"row\": 5, \"column\": 0, \"text\": \"Limitation of Liability\"}, {\"row\": 5, \"column\": 1, \"text\": \"The liability of each party shall not exceed the total contract value.\"}, {\"row\": 5, \"column\": 2, \"text\": \"2024-01- 01\"}, {\"row\": 5, \"column\": 3, \"text\": \"2025- 01-01\"}, {\"row\": 5, \"column\": 4, \"text\": \"N/A\"}, {\"row\": 5, \"column\": 5, \"text\": \"Limited to contract value\"}, {\"row\": 6, \"column\": 0, \"text\": \"Warranties\"}, {\"row\": 6, \"column\": 1, \"text\": \"The supplier warrants all goods are free from defects for one year from delivery.\"}, {\"row\": 6, \"column\": 2, \"text\": \"2024-01- 01\"}, {\"row\": 6, \"column\": 3, \"text\": \"2025- 01-01\"}, {\"row\": 6, \"column\": 4, \"text\": \"N/A\"}, {\"row\": 6, \"column\": 5, \"text\": \"Replacement or repair of goods\"}, {\"row\": 7, \"column\": 0, \"text\": \"Dispute Resolution\"}, {\"row\": 7, \"column\": 1, \"text\": \"Any disputes shall be resolved through arbitration as per applicable laws.\"}, {\"row\": 7, \"column\": 2, \"text\": \"2024-01- 01\"}, {\"row\": 7, \"column\": 3, \"text\": \"2025- 01-01\"}, {\"row\": 7, \"column\": 4, \"text\": \"N/A\"}, {\"row\": 7, \"column\": 5, \"text\": \"Costs split between both parties\"}, {\"row\": 8, \"column\": 0, \"text\": \"Force Majeure\"}, {\"row\": 8, \"column\": 1, \"text\": \"Neither party is liable for delays due to events beyond their control (e.g., natural disasters).\"}, {\"row\": 8, \"column\": 2, \"text\": \"2024-01- 01\"}, {\"row\": 8, \"column\": 3, \"text\": \"2025- 01-01\"}, {\"row\": 8, \"column\": 4, \"text\": \"N/A\"}, {\"row\": 8, \"column\": 5, \"text\": \"None\"}]', 'label': 'Table', 'text': '', '@search.score': 1.0, '@search.reranker_score': None, '@search.highlights': None, '@search.captions': None}\n",
            "{'id': 'table_7_2', 'table': '[{\"row\": 0, \"column\": 0, \"text\": \"Clause\"}, {\"row\": 0, \"column\": 1, \"text\": \"Description\"}, {\"row\": 0, \"column\": 2, \"text\": \"Effective Date\"}, {\"row\": 0, \"column\": 3, \"text\": \"Expiry Date\"}, {\"row\": 0, \"column\": 4, \"text\": \"Payment Terms\"}, {\"row\": 0, \"column\": 5, \"text\": \"Penalties\"}, {\"row\": 1, \"column\": 0, \"text\": \"Confidentiality\"}, {\"row\": 1, \"column\": 1, \"text\": \"Both parties agree not to disclose confidential information without written consent.\"}, {\"row\": 1, \"column\": 2, \"text\": \"2024-01- 01\"}, {\"row\": 1, \"column\": 3, \"text\": \"2025- 01-01\"}, {\"row\": 1, \"column\": 4, \"text\": \"N/A\"}, {\"row\": 1, \"column\": 5, \"text\": \"Up to $50,000\"}, {\"row\": 2, \"column\": 0, \"text\": \"Termination\"}, {\"row\": 2, \"column\": 1, \"text\": \"Either party may terminate the agreement with 30 days\\' written notice.\"}, {\"row\": 2, \"column\": 2, \"text\": \"2024-01- 01\"}, {\"row\": 2, \"column\": 3, \"text\": \"2025- 01-01\"}, {\"row\": 2, \"column\": 4, \"text\": \"N/A\"}, {\"row\": 2, \"column\": 5, \"text\": \"$10,000 if notice not provided\"}, {\"row\": 3, \"column\": 0, \"text\": \"Payment Schedule\"}, {\"row\": 3, \"column\": 1, \"text\": \"Payments to be made quarterly within 15 days of invoice receipt.\"}, {\"row\": 3, \"column\": 2, \"text\": \"2024-01- 01\"}, {\"row\": 3, \"column\": 3, \"text\": \"2025- 01-01\"}, {\"row\": 3, \"column\": 4, \"text\": \"Net 15 days\"}, {\"row\": 3, \"column\": 5, \"text\": \"1.5% interest on late payments\"}, {\"row\": 4, \"column\": 0, \"text\": \"Intellectual Property\"}, {\"row\": 4, \"column\": 1, \"text\": \"All IP developed under this contract remains the property of the creator.\"}, {\"row\": 4, \"column\": 2, \"text\": \"2024-01- 01\"}, {\"row\": 4, \"column\": 3, \"text\": \"2025- 01-01\"}, {\"row\": 4, \"column\": 4, \"text\": \"N/A\"}, {\"row\": 4, \"column\": 5, \"text\": \"$100,000 for unauthorized use\"}, {\"row\": 5, \"column\": 0, \"text\": \"Limitation of Liability\"}, {\"row\": 5, \"column\": 1, \"text\": \"The liability of each party shall not exceed the total contract value.\"}, {\"row\": 5, \"column\": 2, \"text\": \"2024-01- 01\"}, {\"row\": 5, \"column\": 3, \"text\": \"2025- 01-01\"}, {\"row\": 5, \"column\": 4, \"text\": \"N/A\"}, {\"row\": 5, \"column\": 5, \"text\": \"Limited to contract value\"}, {\"row\": 6, \"column\": 0, \"text\": \"Warranties\"}, {\"row\": 6, \"column\": 1, \"text\": \"The supplier warrants all goods are free from defects for one year from delivery.\"}, {\"row\": 6, \"column\": 2, \"text\": \"2024-01- 01\"}, {\"row\": 6, \"column\": 3, \"text\": \"2025- 01-01\"}, {\"row\": 6, \"column\": 4, \"text\": \"N/A\"}, {\"row\": 6, \"column\": 5, \"text\": \"Replacement or repair of goods\"}, {\"row\": 7, \"column\": 0, \"text\": \"Dispute Resolution\"}, {\"row\": 7, \"column\": 1, \"text\": \"Any disputes shall be resolved through arbitration as per applicable laws.\"}, {\"row\": 7, \"column\": 2, \"text\": \"2024-01- 01\"}, {\"row\": 7, \"column\": 3, \"text\": \"2025- 01-01\"}, {\"row\": 7, \"column\": 4, \"text\": \"N/A\"}, {\"row\": 7, \"column\": 5, \"text\": \"Costs split between both parties\"}, {\"row\": 8, \"column\": 0, \"text\": \"Force Majeure\"}, {\"row\": 8, \"column\": 1, \"text\": \"Neither party is liable for delays due to events beyond their control (e.g., natural disasters).\"}, {\"row\": 8, \"column\": 2, \"text\": \"2024-01- 01\"}, {\"row\": 8, \"column\": 3, \"text\": \"2025- 01-01\"}, {\"row\": 8, \"column\": 4, \"text\": \"N/A\"}, {\"row\": 8, \"column\": 5, \"text\": \"None\"}]', 'label': 'Table', 'text': '', '@search.score': 1.0, '@search.reranker_score': None, '@search.highlights': None, '@search.captions': None}\n",
            "{'id': 'table_8_3', 'table': '[{\"row\": 0, \"column\": 0, \"text\": \"Clause\"}, {\"row\": 0, \"column\": 1, \"text\": \"Description\"}, {\"row\": 0, \"column\": 2, \"text\": \"Effective Date\"}, {\"row\": 0, \"column\": 3, \"text\": \"Expiry Date\"}, {\"row\": 0, \"column\": 4, \"text\": \"Payment Terms\"}, {\"row\": 0, \"column\": 5, \"text\": \"Penalties\"}, {\"row\": 1, \"column\": 0, \"text\": \"Confidentiality\"}, {\"row\": 1, \"column\": 1, \"text\": \"Both parties agree not to disclose confidential information without written consent.\"}, {\"row\": 1, \"column\": 2, \"text\": \"2024-01- 01\"}, {\"row\": 1, \"column\": 3, \"text\": \"2025- 01-01\"}, {\"row\": 1, \"column\": 4, \"text\": \"N/A\"}, {\"row\": 1, \"column\": 5, \"text\": \"Up to $50,000\"}, {\"row\": 2, \"column\": 0, \"text\": \"Termination\"}, {\"row\": 2, \"column\": 1, \"text\": \"Either party may terminate the agreement with 30 days\\' written notice.\"}, {\"row\": 2, \"column\": 2, \"text\": \"2024-01- 01\"}, {\"row\": 2, \"column\": 3, \"text\": \"2025- 01-01\"}, {\"row\": 2, \"column\": 4, \"text\": \"N/A\"}, {\"row\": 2, \"column\": 5, \"text\": \"$10,000 if notice not provided\"}, {\"row\": 3, \"column\": 0, \"text\": \"Payment Schedule\"}, {\"row\": 3, \"column\": 1, \"text\": \"Payments to be made quarterly within 15 days of invoice receipt.\"}, {\"row\": 3, \"column\": 2, \"text\": \"2024-01- 01\"}, {\"row\": 3, \"column\": 3, \"text\": \"2025- 01-01\"}, {\"row\": 3, \"column\": 4, \"text\": \"Net 15 days\"}, {\"row\": 3, \"column\": 5, \"text\": \"1.5% interest on late payments\"}, {\"row\": 4, \"column\": 0, \"text\": \"Intellectual Property\"}, {\"row\": 4, \"column\": 1, \"text\": \"All IP developed under this contract remains the property of the creator.\"}, {\"row\": 4, \"column\": 2, \"text\": \"2024-01- 01\"}, {\"row\": 4, \"column\": 3, \"text\": \"2025- 01-01\"}, {\"row\": 4, \"column\": 4, \"text\": \"N/A\"}, {\"row\": 4, \"column\": 5, \"text\": \"$100,000 for unauthorized use\"}, {\"row\": 5, \"column\": 0, \"text\": \"Limitation of Liability\"}, {\"row\": 5, \"column\": 1, \"text\": \"The liability of each party shall not exceed the total contract value.\"}, {\"row\": 5, \"column\": 2, \"text\": \"2024-01- 01\"}, {\"row\": 5, \"column\": 3, \"text\": \"2025- 01-01\"}, {\"row\": 5, \"column\": 4, \"text\": \"N/A\"}, {\"row\": 5, \"column\": 5, \"text\": \"Limited to contract value\"}, {\"row\": 6, \"column\": 0, \"text\": \"Warranties\"}, {\"row\": 6, \"column\": 1, \"text\": \"The supplier warrants all goods are free from defects for one year from delivery.\"}, {\"row\": 6, \"column\": 2, \"text\": \"2024-01- 01\"}, {\"row\": 6, \"column\": 3, \"text\": \"2025- 01-01\"}, {\"row\": 6, \"column\": 4, \"text\": \"N/A\"}, {\"row\": 6, \"column\": 5, \"text\": \"Replacement or repair of goods\"}, {\"row\": 7, \"column\": 0, \"text\": \"Dispute Resolution\"}, {\"row\": 7, \"column\": 1, \"text\": \"Any disputes shall be resolved through arbitration as per applicable laws.\"}, {\"row\": 7, \"column\": 2, \"text\": \"2024-01- 01\"}, {\"row\": 7, \"column\": 3, \"text\": \"2025- 01-01\"}, {\"row\": 7, \"column\": 4, \"text\": \"N/A\"}, {\"row\": 7, \"column\": 5, \"text\": \"Costs split between both parties\"}, {\"row\": 8, \"column\": 0, \"text\": \"Force Majeure\"}, {\"row\": 8, \"column\": 1, \"text\": \"Neither party is liable for delays due to events beyond their control (e.g., natural disasters).\"}, {\"row\": 8, \"column\": 2, \"text\": \"2024-01- 01\"}, {\"row\": 8, \"column\": 3, \"text\": \"2025- 01-01\"}, {\"row\": 8, \"column\": 4, \"text\": \"N/A\"}, {\"row\": 8, \"column\": 5, \"text\": \"None\"}]', 'label': 'Table', 'text': '', '@search.score': 1.0, '@search.reranker_score': None, '@search.highlights': None, '@search.captions': None}\n",
            "{'id': 'clause-5', 'table': None, 'label': 'Payment Terms', 'text': \"6. Payment Terms The Buyer agrees to settle all invoices within 30 days of receipt. Payments will be made via bank transfer to the Supplier's designated account. In exchange for early payment, the Supplier offers a 2% discount if the invoice is paid within 10 days. This clause incentivizes the Buyer to make early payments while offering a standard 30-day payment period. The early payment discount supports the Supplier's cash flow while providing savings for the Buyer.\", '@search.score': 1.0, '@search.reranker_score': None, '@search.highlights': None, '@search.captions': None}\n"
          ]
        }
      ],
      "source": [
        "# Query all documents in the index\n",
        "def get_all_documents():\n",
        "    results = search_client.search(search_text=\"*\", top=10)  # Use \"*\" to match all documents\n",
        "    for result in results:\n",
        "        print(result)\n",
        "\n",
        "# Call the function to print documents\n",
        "get_all_documents()"
      ]
    },
    {
      "cell_type": "code",
      "execution_count": 43,
      "metadata": {
        "colab": {
          "base_uri": "https://localhost:8080/"
        },
        "id": "FiFP_wW_FNwr",
        "outputId": "31e32151-8694-48b8-dd8a-a28c75841619"
      },
      "outputs": [
        {
          "name": "stdout",
          "output_type": "stream",
          "text": [
            "['8. Late Payment Penalties', \"6. Payment Terms The Buyer agrees to settle all invoices within 30 days of receipt. Payments will be made via bank transfer to the Supplier's designated account. In exchange for early payment, the Supplier offers a 2% discount if the invoice is paid within 10 days. This clause incentivizes the Buyer to make early payments while offering a standard 30-day payment period. The early payment discount supports the Supplier's cash flow while providing savings for the Buyer.\", '7. Early Payment Discounts The Buyer is entitled to a 2% discount on the total invoice amount if full payment is made within 10 days from the invoice issuance date. This discount will apply only to invoices paid via direct bank transfer and does not apply to partial payments. This clause encourages the Buyer to settle invoices promptly, improving cash flow for the Supplier. The direct bank transfer requirement ensures lower processing fees and quicker fund availability.', '', \"2. SLAs/Service Credits The Supplier commits to maintaining a minimum service level, as outlined in the Service Level Agreement (SLA) Schedule of this contract. This includes an uptime percentage of no less than 99.5% monthly. In the event of any service interruptions or downtimes exceeding the allowable limit, the Supplier will provide service credits to the Buyer based on the duration and impact of the downtime. Service credits will be calculated as a percentage of the monthly service fee, with specific percentages detailed in the SLA Schedule. Credits will be applied to the Buyer's next billing cycle. If the Supplier fails to meet the SLA for three consecutive months, the Buyer reserves the right to review the agreement and, if necessary, terminate the contract without penalty. Both parties agree that the Supplier will proactively report service performance at the end of each month, providing transparency and accountability. Clause Description Effective Date Expiry Date Payment Terms Penalties\", \"Termination Either party may terminate the agreement with 30 days' written notice. 2024-01- 01 2025- 01-01 N/A $10,000 if notice not provided Payment Schedule Payments to be made quarterly within 15 days of invoice receipt. 2024-01- 01 2025- 01-01 Net 15 days 1.5% interest on late payments Intellectual Property All IP developed under this contract remains the property of the creator. 2024-01- 01 2025- 01-01 N/A $100,000 for unauthorized use Limitation of Liability The liability of each party shall not exceed the total contract value. 2024-01- 01 2025- 01-01 N/A Limited to contract value Warranties The supplier warrants all goods are free from defects for one year from delivery. 2024-01- 01 2025- 01-01 N/A Replacement or repair of goods Dispute Resolution Any disputes shall be resolved through arbitration as per applicable laws. 2024-01- 01 2025- 01-01 N/A Costs split between both parties Force Majeure Neither party is liable for delays due to events beyond their control (e.g., natural disasters). 2024-01- 01 2025- 01-01 N/A None\", '', '', '', '', '', '', '', '', '', '', '', '', '', '', '', '', '', '', '', '', '', '', '', '', '', '', '', '', '', '', '', '', '', '', '', '', '', '', '', '', '', '', '', '', '', '', '', '', '', '', '', '', '']\n"
          ]
        }
      ],
      "source": [
        "def search_for_clause(clause_title):\n",
        "    results = search_client.search(clause_title)  # Search for a specific clause title\n",
        "    clauses = []\n",
        "    for result in results:\n",
        "        clauses.append(result['text'])\n",
        "    return clauses\n",
        "\n",
        "# Search for a specific clause\n",
        "clause_title = \"Late Payment Penalties\"\n",
        "clauses = search_for_clause(clause_title)\n",
        "print(clauses)"
      ]
    },
    {
      "cell_type": "code",
      "execution_count": 15,
      "metadata": {
        "colab": {
          "base_uri": "https://localhost:8080/"
        },
        "collapsed": true,
        "id": "W1zc7WR8G9CE",
        "outputId": "253ccb49-8b37-4e4b-89e5-ca8251c15eb2"
      },
      "outputs": [
        {
          "name": "stdout",
          "output_type": "stream",
          "text": [
            "Requirement already satisfied: openai in /usr/local/lib/python3.10/dist-packages (1.54.3)\n",
            "Requirement already satisfied: anyio<5,>=3.5.0 in /usr/local/lib/python3.10/dist-packages (from openai) (3.7.1)\n",
            "Requirement already satisfied: distro<2,>=1.7.0 in /usr/local/lib/python3.10/dist-packages (from openai) (1.9.0)\n",
            "Requirement already satisfied: httpx<1,>=0.23.0 in /usr/local/lib/python3.10/dist-packages (from openai) (0.27.2)\n",
            "Requirement already satisfied: jiter<1,>=0.4.0 in /usr/local/lib/python3.10/dist-packages (from openai) (0.7.0)\n",
            "Requirement already satisfied: pydantic<3,>=1.9.0 in /usr/local/lib/python3.10/dist-packages (from openai) (2.9.2)\n",
            "Requirement already satisfied: sniffio in /usr/local/lib/python3.10/dist-packages (from openai) (1.3.1)\n",
            "Requirement already satisfied: tqdm>4 in /usr/local/lib/python3.10/dist-packages (from openai) (4.66.6)\n",
            "Requirement already satisfied: typing-extensions<5,>=4.11 in /usr/local/lib/python3.10/dist-packages (from openai) (4.12.2)\n",
            "Requirement already satisfied: idna>=2.8 in /usr/local/lib/python3.10/dist-packages (from anyio<5,>=3.5.0->openai) (3.10)\n",
            "Requirement already satisfied: exceptiongroup in /usr/local/lib/python3.10/dist-packages (from anyio<5,>=3.5.0->openai) (1.2.2)\n",
            "Requirement already satisfied: certifi in /usr/local/lib/python3.10/dist-packages (from httpx<1,>=0.23.0->openai) (2024.8.30)\n",
            "Requirement already satisfied: httpcore==1.* in /usr/local/lib/python3.10/dist-packages (from httpx<1,>=0.23.0->openai) (1.0.6)\n",
            "Requirement already satisfied: h11<0.15,>=0.13 in /usr/local/lib/python3.10/dist-packages (from httpcore==1.*->httpx<1,>=0.23.0->openai) (0.14.0)\n",
            "Requirement already satisfied: annotated-types>=0.6.0 in /usr/local/lib/python3.10/dist-packages (from pydantic<3,>=1.9.0->openai) (0.7.0)\n",
            "Requirement already satisfied: pydantic-core==2.23.4 in /usr/local/lib/python3.10/dist-packages (from pydantic<3,>=1.9.0->openai) (2.23.4)\n"
          ]
        }
      ],
      "source": [
        "!pip install openai"
      ]
    },
    {
      "cell_type": "code",
      "execution_count": 44,
      "metadata": {
        "id": "HmRYx3LMHBfy"
      },
      "outputs": [],
      "source": [
        "import openai\n",
        "import os"
      ]
    },
    {
      "cell_type": "markdown",
      "metadata": {
        "id": "SiBhxT55kQzz"
      },
      "source": [
        "Create Azure OpenAI resource - GPT-4 deployment"
      ]
    },
    {
      "cell_type": "markdown",
      "metadata": {
        "id": "kx2FzHkFkZuO"
      },
      "source": [
        "Test env - GPT-35 deployment with its own resource"
      ]
    },
    {
      "cell_type": "code",
      "execution_count": 45,
      "metadata": {
        "id": "kzsFEzVQHGwo"
      },
      "outputs": [],
      "source": [
        "from openai import AzureOpenAI\n",
        "client = AzureOpenAI(\n",
        "  api_key=\"\",\n",
        "  api_version = \"2024-02-01\",\n",
        "  azure_endpoint = \"https://-m3f5c4y4-southcentralus.openai.azure.com/\"\n",
        ")\n"
      ]
    },
    {
      "cell_type": "code",
      "execution_count": 46,
      "metadata": {
        "id": "gOREo3CYHJ4-"
      },
      "outputs": [],
      "source": [
        "\n",
        "def summarize_clause(clause_text):\n",
        "    messages = [\n",
        "        {\"role\": \"system\", \"content\": \"You are a helpful assistant specialized in summarizing legal clauses.\"},\n",
        "        {\"role\": \"user\", \"content\": f\"Please summarize the following clause: {clause_text}\"}\n",
        "    ]\n",
        "\n",
        "    response = client.chat.completions.create(\n",
        "        model=\"gpt-35-turbo\",\n",
        "        messages=messages,\n",
        "        max_tokens=150\n",
        "    )\n",
        "    summary = response.choices[0].message.content.strip()\n",
        "    return summary"
      ]
    },
    {
      "cell_type": "code",
      "execution_count": 47,
      "metadata": {
        "id": "8tFGErSw6rst"
      },
      "outputs": [],
      "source": [
        "def generate_summary(clause_title, relevant_clauses):\n",
        "    prompt = f\"Summarize the information about '{clause_title}' using the following references: {relevant_clauses}. If the information doesn't cover the clause title, indicate that it is absent.\"\n",
        "    messages=[\n",
        "            {\"role\": \"system\", \"content\": \"You are a contract summarization assistant.\"},\n",
        "            {\"role\": \"user\", \"content\": prompt}\n",
        "    ]\n",
        "    response = client.chat.completions.create(\n",
        "        model=\"gpt-35-turbo\",\n",
        "        messages=messages,\n",
        "        max_tokens=150\n",
        "    )\n",
        "    summary = response.choices[0].message.content.strip()\n",
        "    return summary\n"
      ]
    },
    {
      "cell_type": "code",
      "execution_count": 48,
      "metadata": {
        "colab": {
          "base_uri": "https://localhost:8080/"
        },
        "id": "lisltpFXNI7g",
        "outputId": "d06ac80a-216d-47f8-d002-fcc1cf99befb"
      },
      "outputs": [
        {
          "name": "stdout",
          "output_type": "stream",
          "text": [
            "Clause: Price Protection\n",
            "Summary: The clause mentions 'Price Protection' and states that the prices mentioned in the agreement will remain fixed for 12 months. After that, the pricing will be reviewed annually based on market indices for comparable goods and services. The price adjustment will be limited to a maximum increase of 3% per year, unless mutually agreed upon. The Buyer has the right to request a formal pricing review in case of significant market fluctuations to ensure continued competitive rates. However, there is no information mentioned in the clause about the Supplier proposing anything.\n",
            "\n",
            "Clause: Termination Provisions\n",
            "Summary: Termination Provisions: Either party may terminate the agreement with 30 days' written notice. A penalty of $10,000 will be imposed if notice is not provided. \n",
            "\n",
            "Payment Schedule: Payments are to be made quarterly within 15 days of invoice receipt. Interest of 1.5% will be charged on late payments. \n",
            "\n",
            "Intellectual Property: All IP developed under this contract remains the property of the creator. No information is provided for the duration of this clause.\n",
            "\n",
            "Limitation of Liability: The liability of each party shall not exceed the total contract value. No information is provided for the duration of this clause. \n",
            "\n",
            "Warranties: The supplier warrants all goods are free from defects for one year from delivery. No information is provided for\n",
            "\n",
            "Clause: Late Payment Penalties\n",
            "Summary: The information about Late Payment Penalties is absent from the references provided.\n",
            "\n",
            "Clause: Invalid - Absent\n",
            "\n",
            "\n"
          ]
        }
      ],
      "source": [
        "# List of clause titles you are looking for\n",
        "'''\n",
        "clause_titles = [\n",
        "    \"Termination Provisions\",\n",
        "    \"Confidentiality\",\n",
        "    \"Indemnification\",\n",
        "    \"Rebates/Volume Discounts\",\n",
        "    \"Payment Terms\",\n",
        "    \"SLAs/Service Credits\",\n",
        "    \"Price Protection\",\n",
        "    \"Forex\",\n",
        "    \"COLA/Inflation Adjustment\",\n",
        "    \"Late Payment Penalties\"\n",
        "]\n",
        "'''\n",
        "clause_titles = [\n",
        "    \"Price Protection\",\n",
        "    \"Termination Provisions\",\n",
        "    \"Late Payment Penalties\",\n",
        "    \"Invalid\"\n",
        "]\n",
        "\n",
        "def generate_report(clause_titles):\n",
        "    report = \"\"\n",
        "    for title in clause_titles:\n",
        "        clauses = search_for_clause(title)\n",
        "        if clauses:\n",
        "            report += f\"Clause: {title}\\n\"\n",
        "            summary = generate_summary(title, clauses)\n",
        "            report += f\"Summary: {summary}\\n\\n\"\n",
        "            '''\n",
        "            for clause in clauses:\n",
        "                summary = summarize_clause(clause)\n",
        "                report += f\"Summary: {summary}\\n\\n\"\n",
        "            '''\n",
        "        else:\n",
        "            report += f\"Clause: {title} - Absent\\n\\n\"\n",
        "    return report\n",
        "\n",
        "# Generate and print the final report\n",
        "final_report = generate_report(clause_titles)\n",
        "print(final_report)\n"
      ]
    },
    {
      "cell_type": "markdown",
      "metadata": {
        "id": "hORvPE4ukh40"
      },
      "source": [
        "In the same azure OpenAI resource with gpt4/35 deployment create test-embedding-ada-002 deployment"
      ]
    },
    {
      "cell_type": "code",
      "execution_count": 49,
      "metadata": {
        "id": "KtGXKKZ_HpFC"
      },
      "outputs": [],
      "source": [
        "from sklearn.metrics.pairwise import cosine_similarity\n",
        "import numpy as np"
      ]
    },
    {
      "cell_type": "code",
      "execution_count": 50,
      "metadata": {
        "id": "0Z9BKJGDC4qz"
      },
      "outputs": [],
      "source": [
        "def generate_embeddings(text):\n",
        "    response = client.embeddings.create(\n",
        "        input=text, model=\"text-embedding-ada-002\"\n",
        "    )\n",
        "    embeddings = [embedding.embedding for embedding in response.data]  # Correct way to access the embedding\n",
        "\n",
        "    return embeddings"
      ]
    },
    {
      "cell_type": "code",
      "execution_count": 51,
      "metadata": {
        "id": "_VzoIdGdF1kA"
      },
      "outputs": [],
      "source": [
        "def retrieve_relevant_clause(question, clause_segments):\n",
        "    # Generate embeddings for the question\n",
        "    question_embedding = generate_embeddings([question])[0]\n",
        "\n",
        "    # Generate embeddings for all clauses\n",
        "    clause_embeddings = generate_embeddings([clause['Text'] for clause in clause_segments])\n",
        "\n",
        "    # Compute cosine similarity between question embedding and clause embeddings\n",
        "    similarities = cosine_similarity([question_embedding], clause_embeddings)\n",
        "\n",
        "    # Find the most relevant clause based on the highest similarity score\n",
        "    most_relevant_idx = np.argmax(similarities)\n",
        "\n",
        "    return clause_segments[most_relevant_idx]\n"
      ]
    },
    {
      "cell_type": "code",
      "execution_count": 52,
      "metadata": {
        "id": "QYdx6QU0F635"
      },
      "outputs": [],
      "source": [
        "\n",
        "# Step 3: Use the retrieved clause to answer the question\n",
        "def answer_question(question, relevant_clause):\n",
        "    prompt = f\"Given the following contract clause, answer the question: '{question}'\\n\\nClause: {relevant_clause['Text']}\\n\\nAnswer:\"\n",
        "    messages=[\n",
        "            {\"role\": \"system\", \"content\": \"You are a legal assistant.\"},\n",
        "            {\"role\": \"user\", \"content\": prompt}\n",
        "        ]\n",
        "    # Call Azure OpenAI API to generate an answer\n",
        "    response = client.chat.completions.create(\n",
        "        model=\"gpt-35-turbo\",\n",
        "        messages=messages,\n",
        "        max_tokens=150\n",
        "    )\n",
        "\n",
        "    return response.choices[0].message.content.strip()\n"
      ]
    },
    {
      "cell_type": "code",
      "execution_count": 62,
      "metadata": {
        "colab": {
          "base_uri": "https://localhost:8080/"
        },
        "id": "_MIPOnI9F-2Z",
        "outputId": "d3f515c1-53e5-483c-94cf-b5b0192a65b5"
      },
      "outputs": [
        {
          "name": "stdout",
          "output_type": "stream",
          "text": [
            "Answer: The clause provides an agreement between both parties not to disclose confidential information without written consent. If either party breaches this confidentiality agreement, there may be penalties in the form of up to $50,000. The specific period for this agreement is between January 1, 2024, and January 1, 2025.\n"
          ]
        }
      ],
      "source": [
        "\n",
        "# Example question about the contract\n",
        "question = \"confidentiality penalties?\"\n",
        "\n",
        "# Retrieve relevant clause\n",
        "relevant_clause = retrieve_relevant_clause(question, clause_segments)\n",
        "\n",
        "# Get the answer for the question\n",
        "answer = answer_question(question, relevant_clause)\n",
        "\n",
        "print(f\"Answer: {answer}\")"
      ]
    }
  ],
  "metadata": {
    "colab": {
      "provenance": []
    },
    "kernelspec": {
      "display_name": "Python 3",
      "name": "python3"
    },
    "language_info": {
      "name": "python"
    }
  },
  "nbformat": 4,
  "nbformat_minor": 0
}
