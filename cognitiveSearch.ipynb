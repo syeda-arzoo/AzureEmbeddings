{
  "cells": [
    {
      "cell_type": "code",
      "execution_count": null,
      "metadata": {
        "colab": {
          "base_uri": "https://localhost:8080/"
        },
        "collapsed": true,
        "id": "UWYCzT0YJP7n",
        "outputId": "dc483283-18ec-4fe3-eba7-b6009cb0831d"
      },
      "outputs": [
        {
          "name": "stdout",
          "output_type": "stream",
          "text": [
            "Collecting azure-ai-formrecognizer\n",
            "  Downloading azure_ai_formrecognizer-3.3.3-py3-none-any.whl.metadata (64 kB)\n",
            "\u001b[?25l     \u001b[90m━━━━━━━━━━━━━━━━━━━━━━━━━━━━━━━━━━━━━━━━\u001b[0m \u001b[32m0.0/64.6 kB\u001b[0m \u001b[31m?\u001b[0m eta \u001b[36m-:--:--\u001b[0m\r\u001b[2K     \u001b[90m━━━━━━━━━━━━━━━━━━━━━━━━━━━━━━━━━━━━━━━━\u001b[0m \u001b[32m64.6/64.6 kB\u001b[0m \u001b[31m2.1 MB/s\u001b[0m eta \u001b[36m0:00:00\u001b[0m\n",
            "\u001b[?25hCollecting azure-search-documents\n",
            "  Downloading azure_search_documents-11.5.2-py3-none-any.whl.metadata (23 kB)\n",
            "Requirement already satisfied: openai in /usr/local/lib/python3.10/dist-packages (1.52.2)\n",
            "Collecting azure-core>=1.23.0 (from azure-ai-formrecognizer)\n",
            "  Downloading azure_core-1.32.0-py3-none-any.whl.metadata (39 kB)\n",
            "Collecting msrest>=0.6.21 (from azure-ai-formrecognizer)\n",
            "  Downloading msrest-0.7.1-py3-none-any.whl.metadata (21 kB)\n",
            "Collecting azure-common>=1.1 (from azure-ai-formrecognizer)\n",
            "  Downloading azure_common-1.1.28-py2.py3-none-any.whl.metadata (5.0 kB)\n",
            "Requirement already satisfied: typing-extensions>=4.0.1 in /usr/local/lib/python3.10/dist-packages (from azure-ai-formrecognizer) (4.12.2)\n",
            "Collecting isodate>=0.6.0 (from azure-search-documents)\n",
            "  Downloading isodate-0.7.2-py3-none-any.whl.metadata (11 kB)\n",
            "Requirement already satisfied: anyio<5,>=3.5.0 in /usr/local/lib/python3.10/dist-packages (from openai) (3.7.1)\n",
            "Requirement already satisfied: distro<2,>=1.7.0 in /usr/local/lib/python3.10/dist-packages (from openai) (1.9.0)\n",
            "Requirement already satisfied: httpx<1,>=0.23.0 in /usr/local/lib/python3.10/dist-packages (from openai) (0.27.2)\n",
            "Requirement already satisfied: jiter<1,>=0.4.0 in /usr/local/lib/python3.10/dist-packages (from openai) (0.6.1)\n",
            "Requirement already satisfied: pydantic<3,>=1.9.0 in /usr/local/lib/python3.10/dist-packages (from openai) (2.9.2)\n",
            "Requirement already satisfied: sniffio in /usr/local/lib/python3.10/dist-packages (from openai) (1.3.1)\n",
            "Requirement already satisfied: tqdm>4 in /usr/local/lib/python3.10/dist-packages (from openai) (4.66.6)\n",
            "Requirement already satisfied: idna>=2.8 in /usr/local/lib/python3.10/dist-packages (from anyio<5,>=3.5.0->openai) (3.10)\n",
            "Requirement already satisfied: exceptiongroup in /usr/local/lib/python3.10/dist-packages (from anyio<5,>=3.5.0->openai) (1.2.2)\n",
            "Requirement already satisfied: requests>=2.21.0 in /usr/local/lib/python3.10/dist-packages (from azure-core>=1.23.0->azure-ai-formrecognizer) (2.32.3)\n",
            "Requirement already satisfied: six>=1.11.0 in /usr/local/lib/python3.10/dist-packages (from azure-core>=1.23.0->azure-ai-formrecognizer) (1.16.0)\n",
            "Requirement already satisfied: certifi in /usr/local/lib/python3.10/dist-packages (from httpx<1,>=0.23.0->openai) (2024.8.30)\n",
            "Requirement already satisfied: httpcore==1.* in /usr/local/lib/python3.10/dist-packages (from httpx<1,>=0.23.0->openai) (1.0.6)\n",
            "Requirement already satisfied: h11<0.15,>=0.13 in /usr/local/lib/python3.10/dist-packages (from httpcore==1.*->httpx<1,>=0.23.0->openai) (0.14.0)\n",
            "Requirement already satisfied: requests-oauthlib>=0.5.0 in /usr/local/lib/python3.10/dist-packages (from msrest>=0.6.21->azure-ai-formrecognizer) (1.3.1)\n",
            "Requirement already satisfied: annotated-types>=0.6.0 in /usr/local/lib/python3.10/dist-packages (from pydantic<3,>=1.9.0->openai) (0.7.0)\n",
            "Requirement already satisfied: pydantic-core==2.23.4 in /usr/local/lib/python3.10/dist-packages (from pydantic<3,>=1.9.0->openai) (2.23.4)\n",
            "Requirement already satisfied: charset-normalizer<4,>=2 in /usr/local/lib/python3.10/dist-packages (from requests>=2.21.0->azure-core>=1.23.0->azure-ai-formrecognizer) (3.4.0)\n",
            "Requirement already satisfied: urllib3<3,>=1.21.1 in /usr/local/lib/python3.10/dist-packages (from requests>=2.21.0->azure-core>=1.23.0->azure-ai-formrecognizer) (2.2.3)\n",
            "Requirement already satisfied: oauthlib>=3.0.0 in /usr/local/lib/python3.10/dist-packages (from requests-oauthlib>=0.5.0->msrest>=0.6.21->azure-ai-formrecognizer) (3.2.2)\n",
            "Downloading azure_ai_formrecognizer-3.3.3-py3-none-any.whl (301 kB)\n",
            "\u001b[2K   \u001b[90m━━━━━━━━━━━━━━━━━━━━━━━━━━━━━━━━━━━━━━━━\u001b[0m \u001b[32m301.4/301.4 kB\u001b[0m \u001b[31m9.7 MB/s\u001b[0m eta \u001b[36m0:00:00\u001b[0m\n",
            "\u001b[?25hDownloading azure_search_documents-11.5.2-py3-none-any.whl (298 kB)\n",
            "\u001b[2K   \u001b[90m━━━━━━━━━━━━━━━━━━━━━━━━━━━━━━━━━━━━━━━━\u001b[0m \u001b[32m298.8/298.8 kB\u001b[0m \u001b[31m13.1 MB/s\u001b[0m eta \u001b[36m0:00:00\u001b[0m\n",
            "\u001b[?25hDownloading azure_common-1.1.28-py2.py3-none-any.whl (14 kB)\n",
            "Downloading azure_core-1.32.0-py3-none-any.whl (198 kB)\n",
            "\u001b[2K   \u001b[90m━━━━━━━━━━━━━━━━━━━━━━━━━━━━━━━━━━━━━━━━\u001b[0m \u001b[32m198.9/198.9 kB\u001b[0m \u001b[31m11.0 MB/s\u001b[0m eta \u001b[36m0:00:00\u001b[0m\n",
            "\u001b[?25hDownloading isodate-0.7.2-py3-none-any.whl (22 kB)\n",
            "Downloading msrest-0.7.1-py3-none-any.whl (85 kB)\n",
            "\u001b[2K   \u001b[90m━━━━━━━━━━━━━━━━━━━━━━━━━━━━━━━━━━━━━━━━\u001b[0m \u001b[32m85.4/85.4 kB\u001b[0m \u001b[31m3.9 MB/s\u001b[0m eta \u001b[36m0:00:00\u001b[0m\n",
            "\u001b[?25hInstalling collected packages: azure-common, isodate, azure-core, msrest, azure-search-documents, azure-ai-formrecognizer\n",
            "Successfully installed azure-ai-formrecognizer-3.3.3 azure-common-1.1.28 azure-core-1.32.0 azure-search-documents-11.5.2 isodate-0.7.2 msrest-0.7.1\n"
          ]
        }
      ],
      "source": [
        "pip install azure-ai-formrecognizer azure-search-documents openai\n"
      ]
    },
    {
      "cell_type": "code",
      "execution_count": null,
      "metadata": {
        "id": "4H2oi2-kJXw4"
      },
      "outputs": [],
      "source": [
        "from azure.ai.formrecognizer import DocumentAnalysisClient\n",
        "from azure.core.credentials import AzureKeyCredential\n",
        "import os"
      ]
    },
    {
      "cell_type": "markdown",
      "metadata": {
        "id": "GMKN-C4ljWzI"
      },
      "source": [
        "Azure AI services | Document intelligence -\n",
        "FormRecognizer resource"
      ]
    },
    {
      "cell_type": "code",
      "execution_count": null,
      "metadata": {
        "id": "xB8tBAIEJZEq"
      },
      "outputs": [],
      "source": [
        "# Set up the Form Recognizer client\n",
        "endpoint = \"https://.cognitiveservices.azure.com/\"\n",
        "api_key = \"\"\n",
        "doc_client = DocumentAnalysisClient(endpoint=endpoint, credential=AzureKeyCredential(api_key))\n"
      ]
    },
    {
      "cell_type": "code",
      "execution_count": null,
      "metadata": {
        "colab": {
          "base_uri": "https://localhost:8080/"
        },
        "id": "k-5z1RR7LFW0",
        "outputId": "4f90f410-dd87-4478-d6d6-4eed1119a499"
      },
      "outputs": [
        {
          "data": {
            "text/plain": [
              "['.config', 'contract.pdf', 'sample_data']"
            ]
          },
          "execution_count": 40,
          "metadata": {},
          "output_type": "execute_result"
        }
      ],
      "source": [
        "import os\n",
        "os.listdir()"
      ]
    },
    {
      "cell_type": "code",
      "execution_count": null,
      "metadata": {
        "id": "EYCoy3C_jLLw"
      },
      "outputs": [],
      "source": [
        "clause_titles = [\"Price Protection\", \"Late Payment Penalties\", \"SLAs/Service Credits\", \"Termination\", \"Confidentiality\", \"Indemnification\", \"Rebates/Volume Discounts\", \"Payment Terms\", \"Forex\", \"COLA/Inflation Adjustment\", \"Early Payment Discounts\", \"Early Payment Discounts\", \"Termination Provisions\", \"Committal/Non-Committal Contracts\"]\n"
      ]
    },
    {
      "cell_type": "code",
      "execution_count": null,
      "metadata": {
        "colab": {
          "base_uri": "https://localhost:8080/"
        },
        "id": "dBslmwEBMlBj",
        "outputId": "925b2a2e-f537-4d6e-eae9-541bf8d01632"
      },
      "outputs": [
        {
          "name": "stdout",
          "output_type": "stream",
          "text": [
            "Label: Rebates/Volume Discounts, Text: 1. Rebates/Volume Discounts The Supplier agrees to provide volume-based discounts to the Buyer, ince...\n",
            "Label: SLAs/Service Credits, Text: 2. SLAs/Service Credits The Supplier commits to maintaining a minimum service level, as outlined in ...\n",
            "Label: Price Protection, Text: 3. Price Protection The prices set forth in this agreement shall remain fixed for the initial 12 mon...\n",
            "Label: Forex, Text: 4. Forex The exchange rate applied to payments under this contract shall be locked at the rate in ef...\n",
            "Label: COLA/Inflation Adjustment, Text: 5. COLA/Inflation Adjustment The contract pricing will be reviewed and adjusted annually based on th...\n",
            "Label: Payment Terms, Text: 6. Payment Terms The Buyer agrees to settle all invoices within 30 days of receipt. Payments will be...\n",
            "Label: Early Payment Discounts, Text: 7. Early Payment Discounts The Buyer is entitled to a 2% discount on the total invoice amount if ful...\n",
            "Label: Late Payment Penalties, Text: 8. Late Payment Penalties The Buyer agrees that any invoice not paid within 30 days of the invoice d...\n",
            "Label: Termination, Text: 9. Termination Provisions Either party may terminate this Agreement for convenience, without penalty...\n",
            "Label: Termination, Text: written notice at least 60 days prior to the intended termination date. During this notice period, b...\n",
            "Label: Termination, Text: and payment commitments. Termination under this clause does not affect any accrued...\n",
            "Label: Termination, Text: rights or obligations prior to the termination date. This variation allows flexibility by giving bot...\n",
            "Label: Committal/Non-Committal Contracts, Text: 10. Committal/Non-Committal Contracts This Agreement is non-committal, meaning that neither party is...\n",
            "Label: Confidentiality, Text: 12. Confidentiality...\n",
            "Label: Confidentiality, Text: Both parties agree to maintain the confidentiality of sensitive information exchanged during the con...\n",
            "Label: Indemnification, Text: 17. Indemnification The supplier agrees to indemnify and hold harmless the buyer from any legal clai...\n"
          ]
        }
      ],
      "source": [
        "def extract_clauses(pdf_path):\n",
        "    with open(pdf_path, \"rb\") as fd:\n",
        "        poller = doc_client.begin_analyze_document(\"prebuilt-layout\", fd)\n",
        "        result = poller.result()\n",
        "\n",
        "    # Extract text content\n",
        "    '''\n",
        "    extracted_text = \"\"\n",
        "    for page in result.pages:\n",
        "        for line in page.lines:\n",
        "            extracted_text += line.content + \"\\n\"\n",
        "    return extracted_text\n",
        "    '''\n",
        "\n",
        "    clause_segments = []\n",
        "    current_label = None\n",
        "    current_text = []\n",
        "\n",
        "    for page in result.pages:\n",
        "        for line in page.lines:\n",
        "            line_text = line.content.strip()\n",
        "\n",
        "            # Check if paragraph text matches any clause title\n",
        "            matched_title = next((title for title in clause_titles if title.lower() in line_text.lower()), None)\n",
        "\n",
        "            if matched_title:\n",
        "                # Save previous clause segment if there's any\n",
        "                if current_label and current_text:\n",
        "                    clause_segments.append({\n",
        "                        \"Label\": current_label,\n",
        "                        \"Text\": \" \".join(current_text)\n",
        "                    })\n",
        "\n",
        "                # Reset for new clause\n",
        "                current_label = matched_title\n",
        "                current_text = [line_text]\n",
        "            else:\n",
        "                # Continue accumulating text for the current clause\n",
        "                current_text.append(line_text)\n",
        "\n",
        "    # Add the final clause to segments if it exists\n",
        "    if current_label and current_text:\n",
        "        clause_segments.append({\n",
        "            \"Label\": current_label,\n",
        "            \"Text\": \" \".join(current_text)\n",
        "        })\n",
        "\n",
        "    return clause_segments\n",
        "\n",
        "# Call the function to process the contract and get clause segments\n",
        "file_path = \"contract.pdf\"\n",
        "clause_segments = extract_clauses(file_path)\n",
        "\n",
        "# Check the output format\n",
        "for clause in clause_segments:\n",
        "    print(f\"Label: {clause['Label']}, Text: {clause['Text'][:100]}...\")  # Display first 100 characters of each clause\n"
      ]
    },
    {
      "cell_type": "code",
      "execution_count": null,
      "metadata": {
        "id": "6UI3eUpXMu4L"
      },
      "outputs": [],
      "source": [
        "from azure.search.documents import SearchClient\n",
        "from azure.core.credentials import AzureKeyCredential\n"
      ]
    },
    {
      "cell_type": "code",
      "execution_count": null,
      "metadata": {
        "id": "WzVb4GPeFJcQ"
      },
      "outputs": [],
      "source": [
        "import re\n",
        "import openai\n",
        "from azure.search.documents import SearchClient\n",
        "from azure.search.documents.indexes import SearchIndexClient\n",
        "from azure.search.documents.indexes.models import SearchIndex, SimpleField, SearchableField\n",
        "\n"
      ]
    },
    {
      "cell_type": "markdown",
      "metadata": {
        "id": "uoc0smTtjqyn"
      },
      "source": [
        "Cognitive Search -> Azure AI services | AI Search - Search Service resouce.\n",
        "Also manually creae an index with required fields"
      ]
    },
    {
      "cell_type": "code",
      "execution_count": null,
      "metadata": {
        "id": "Qrrb9CV7E5my"
      },
      "outputs": [],
      "source": [
        "search_endpoint = \"https://.search.windows.net\"\n",
        "search_api_key = \"\"\n",
        "index_name = \"contind\"\n",
        "search_client = SearchClient(endpoint=search_endpoint, index_name=index_name, credential=AzureKeyCredential(search_api_key))\n"
      ]
    },
    {
      "cell_type": "code",
      "execution_count": null,
      "metadata": {
        "id": "HOXjY_HZft7R"
      },
      "outputs": [],
      "source": [
        "def create_or_update_index(clause_segments):\n",
        "    # Create a simple index for storing clause titles and content\n",
        "    documents = [\n",
        "        {\n",
        "            \"id\": f\"clause-{i}\",  # Unique ID for each clause\n",
        "            \"title\": clause[\"Label\"],\n",
        "            \"text\": clause[\"Text\"]\n",
        "        }\n",
        "        for i, clause in enumerate(clause_segments)\n",
        "    ]\n",
        "    # Upload the document\n",
        "    search_client.upload_documents(documents=documents)\n",
        "\n",
        "# Index the extracted contract text\n",
        "create_or_update_index(clause_segments)"
      ]
    },
    {
      "cell_type": "code",
      "execution_count": null,
      "metadata": {
        "colab": {
          "base_uri": "https://localhost:8080/"
        },
        "id": "rqpkGs_ufyhM",
        "outputId": "9ee0b6f7-f9eb-4dd5-9560-56a286db7863"
      },
      "outputs": [
        {
          "name": "stdout",
          "output_type": "stream",
          "text": [
            "{'title': 'SLAs/Service Credits', 'id': 'clause-1', 'text': \"2. SLAs/Service Credits The Supplier commits to maintaining a minimum service level, as outlined in the Service Level Agreement (SLA) Schedule of this contract. This includes an uptime percentage of no less than 99.5% monthly. In the event of any service interruptions or downtimes exceeding the allowable limit, the Supplier will provide service credits to the Buyer based on the duration and impact of the downtime. Service credits will be calculated as a percentage of the monthly service fee, with specific percentages detailed in the SLA Schedule. Credits will be applied to the Buyer's next billing cycle. If the Supplier fails to meet the SLA for three consecutive months, the Buyer reserves the right to review the agreement and, if necessary, terminate the contract without penalty. Both parties agree that the Supplier will proactively report service performance at the end of each month, providing transparency and accountability.\", '@search.score': 1.0, '@search.reranker_score': None, '@search.highlights': None, '@search.captions': None}\n",
            "{'title': 'COLA/Inflation Adjustment', 'id': 'clause-4', 'text': '5. COLA/Inflation Adjustment The contract pricing will be reviewed and adjusted annually based on the national Consumer Price Index (CPI). A price increase or decrease will be applied proportionally to reflect changes in the CPI over the previous year, with adjustments capped at 5% per year to prevent significant fluctuations. Both parties agree to a yearly review meeting to discuss any economic changes that may impact contract pricing. This adjustment ensures fair alignment with inflation trends while capping excessive price changes.', '@search.score': 1.0, '@search.reranker_score': None, '@search.highlights': None, '@search.captions': None}\n",
            "{'title': 'Payment Terms', 'id': 'clause-5', 'text': \"6. Payment Terms The Buyer agrees to settle all invoices within 30 days of receipt. Payments will be made via bank transfer to the Supplier's designated account. In exchange for early payment, the Supplier offers a 2% discount if the invoice is paid within 10 days. This clause incentivizes the Buyer to make early payments while offering a standard 30-day payment period. The early payment discount supports the Supplier's cash flow while providing savings for the Buyer.\", '@search.score': 1.0, '@search.reranker_score': None, '@search.highlights': None, '@search.captions': None}\n",
            "{'title': 'Early Payment Discounts', 'id': 'clause-6', 'text': '7. Early Payment Discounts The Buyer is entitled to a 2% discount on the total invoice amount if full payment is made within 10 days from the invoice issuance date. This discount will apply only to invoices paid via direct bank transfer and does not apply to partial payments. This clause encourages the Buyer to settle invoices promptly, improving cash flow for the Supplier. The direct bank transfer requirement ensures lower processing fees and quicker fund availability. 8. Late Payment Penalties The Buyer agrees that any invoice not paid within 30 days of the invoice date will incur a penalty of 1.5% interest per month on the outstanding balance. The penalty will be applied monthly until the total balance is settled. The Supplier reserves the right to suspend services if payments are more than 60 days overdue. This penalty structure deters late payments by adding a significant financial consequence that compounds monthly, while also providing the Supplier with the option to suspend services if the issue persists.', '@search.score': 1.0, '@search.reranker_score': None, '@search.highlights': None, '@search.captions': None}\n",
            "{'title': 'Committal/Non-Committal Contracts', 'id': 'clause-11', 'text': \"10. Committal/Non-Committal Contracts This Agreement is non-committal, meaning that neither party is obligated to purchase or sell any specific quantity of goods or services. The agreement serves as a framework for future negotiations but does not impose any binding commitment to enter into specific transactions. Either party may choose to enter into individual purchase orders under the terms set forth in this Agreement, but there is no minimum purchase requirement. The agreement may be terminated by either party with 30 days' notice. This non-committal clause provides flexibility by ensuring that there are no specific purchase obligations while still maintaining a formal framework for negotiations. 11. Force Majeure Neither party shall be held responsible for failure to perform any obligation under the contract due to unforeseen circumstances or events beyond their control, such as natural disasters, war, or government intervention.\", '@search.score': 1.0, '@search.reranker_score': None, '@search.highlights': None, '@search.captions': None}\n",
            "{'title': 'Rebates/Volume Discounts', 'id': 'clause-0', 'text': \"1. Rebates/Volume Discounts The Supplier agrees to provide volume-based discounts to the Buyer, incentivizing higher purchase volumes with proportional rebates. For each calendar quarter, the Supplier will assess the total purchase volume made by the Buyer and apply tiered discounts once certain thresholds are met. Volume thresholds and their associated rebate percentages are detailed in Appendix A of this contract. Should the Buyer's purchases meet or exceed a specified threshold within the quarter, a corresponding rebate will be issued in the form of a credit note, applied to the following quarter's orders. If the Buyer reaches multiple thresholds within the same quarter, the Supplier will apply the highest qualifying rebate for that period. The Buyer is eligible to apply the credit note within six months of issuance, and unused credits beyond this period will be forfeited. Rebates do not apply to items returned or otherwise refunded, and only net purchase volumes (after returns or adjustments) will be eligible for rebate calculations. Both parties agree that adjustments to the rebate structure can be negotiated annually to reflect changing demand and market conditions.\", '@search.score': 1.0, '@search.reranker_score': None, '@search.highlights': None, '@search.captions': None}\n",
            "{'title': 'Termination', 'id': 'clause-9', 'text': 'and payment commitments. Termination under this clause does not affect any accrued', '@search.score': 1.0, '@search.reranker_score': None, '@search.highlights': None, '@search.captions': None}\n",
            "{'title': 'Termination', 'id': 'clause-10', 'text': 'rights or obligations prior to the termination date. This variation allows flexibility by giving both parties a clear and reasonable timeline for ending the contract if business circumstances change, without fault or penalty.', '@search.score': 1.0, '@search.reranker_score': None, '@search.highlights': None, '@search.captions': None}\n",
            "{'title': 'Confidentiality', 'id': 'clause-12', 'text': '12. Confidentiality', '@search.score': 1.0, '@search.reranker_score': None, '@search.highlights': None, '@search.captions': None}\n",
            "{'title': 'Contract Title', 'id': 'contract1', 'text': \"Company A Contract Document\\nContract Title: Supplier Agreement\\nThis Agreement is made and entered into as of [Date], by and between:\\nSupplier Name: [Supplier A]\\nBuyer Name: [Buyer A]\\nContract Duration: [Start Date] to [End Date]\\n1. Rebates/Volume Discounts\\nThe Supplier agrees to provide volume-based discounts to the Buyer, incentivizing higher\\npurchase volumes with proportional rebates. For each calendar quarter, the Supplier will\\nassess the total purchase volume made by the Buyer and apply tiered discounts once certain\\nthresholds are met. Volume thresholds and their associated rebate percentages are detailed\\nin Appendix A of this contract. Should the Buyer's purchases meet or exceed a specified\\nthreshold within the quarter, a corresponding rebate will be issued in the form of a credit\\nnote, applied to the following quarter's orders.\\nIf the Buyer reaches multiple thresholds within the same quarter, the Supplier will apply the\\nhighest qualifying rebate for that period. The Buyer is eligible to apply the credit note within\\nsix months of issuance, and unused credits beyond this period will be forfeited. Rebates do\\nnot apply to items returned or otherwise refunded, and only net purchase volumes (after\\nreturns or adjustments) will be eligible for rebate calculations. Both parties agree that\\nadjustments to the rebate structure can be negotiated annually to reflect changing demand\\nand market conditions.\\n2. SLAs/Service Credits\\nThe Supplier commits to maintaining a minimum service level, as outlined in the Service\\nLevel Agreement (SLA) Schedule of this contract. This includes an uptime percentage of no\\nless than 99.5% monthly. In the event of any service interruptions or downtimes exceeding\\nthe allowable limit, the Supplier will provide service credits to the Buyer based on the\\nduration and impact of the downtime.\\nService credits will be calculated as a percentage of the monthly service fee, with specific\\npercentages detailed in the SLA Schedule. Credits will be applied to the Buyer's next billing\\ncycle. If the Supplier fails to meet the SLA for three consecutive months, the Buyer reserves\\nthe right to review the agreement and, if necessary, terminate the contract without penalty.\\nBoth parties agree that the Supplier will proactively report service performance at the end\\nof each month, providing transparency and accountability.\\n3. Price Protection\\nThe prices set forth in this agreement shall remain fixed for the initial 12 months.\\nThereafter, pricing will be subject to an annual review based on market indices for\\ncomparable goods and services, as determined by a mutually agreed-upon benchmark. Any\\nprice adjustment shall be limited to a maximum increase of 3% per annum unless both\\nparties agree otherwise.\\nIn the event of significant market fluctuations, the Buyer reserves the right to request a\\nformal pricing review, ensuring continued competitive rates. If the Supplier proposes any\\nprice increase exceeding the agreed limit, the Buyer may request a detailed breakdown of\\nthe cost factors justifying the increase. Both parties agree to meet and negotiate in good\\nfaith to resolve any pricing disputes, with the goal of maintaining a fair and stable pricing\\nstructure throughout the contract term.\\n4. Forex\\nThe exchange rate applied to payments under this contract shall be locked at the rate in\\neffect at the time of signing for the first 12 months. An annual review will allow both parties\\nto adjust the rate based on the prevailing market conditions, using the average rate from a\\ntrusted financial institution as a reference.\\nIf the exchange rate fluctuates by more than 5% during the review period, an adjustment\\nwill be applied to reflect this change. This exchange rate lock minimizes currency risk for\\nboth parties and ensures predictable pricing adjustments on an annual basis.\\n5. COLA/Inflation Adjustment\\nThe contract pricing will be reviewed and adjusted annually based on the national\\nConsumer Price Index (CPI). A price increase or decrease will be applied proportionally to\\nreflect changes in the CPI over the previous year, with adjustments capped at 5% per year to\\nprevent significant fluctuations.\\nBoth parties agree to a yearly review meeting to discuss any economic changes that may\\nimpact contract pricing. This adjustment ensures fair alignment with inflation trends while\\ncapping excessive price changes.\\n6. Payment Terms\\nThe Buyer agrees to settle all invoices within 30 days of receipt. Payments will be made via\\nbank transfer to the Supplier's designated account. In exchange for early payment, the\\nSupplier offers a 2% discount if the invoice is paid within 10 days.\\nThis clause incentivizes the Buyer to make early payments while offering a standard 30-day\\npayment period. The early payment discount supports the Supplier's cash flow while\\nproviding savings for the Buyer.\\n7. Early Payment Discounts\\nThe Buyer is entitled to a 2% discount on the total invoice amount if full payment is made\\nwithin 10 days from the invoice issuance date. This discount will apply only to invoices paid\\nvia direct bank transfer and does not apply to partial payments.\\nThis clause encourages the Buyer to settle invoices promptly, improving cash flow for the\\nSupplier. The direct bank transfer requirement ensures lower processing fees and quicker\\nfund availability.\\n8. Late Payment Penalties\\nThe Buyer agrees that any invoice not paid within 30 days of the invoice date will incur a\\npenalty of 1.5% interest per month on the outstanding balance. The penalty will be applied\\nmonthly until the total balance is settled. The Supplier reserves the right to suspend services\\nif payments are more than 60 days overdue.\\nThis penalty structure deters late payments by adding a significant financial consequence\\nthat compounds monthly, while also providing the Supplier with the option to suspend\\nservices if the issue persists.\\n9. Termination Provisions\\nEither party may terminate this Agreement for convenience, without penalty, by providing a\\nwritten notice at least 60 days prior to the intended termination date. During this notice\\nperiod, both parties agree to fulfill all existing obligations, including any outstanding orders\\nand payment commitments. Termination under this clause does not affect any accrued\\nrights or obligations prior to the termination date.\\nThis variation allows flexibility by giving both parties a clear and reasonable timeline for\\nending the contract if business circumstances change, without fault or penalty.\\n10. Committal/Non-Committal Contracts\\nThis Agreement is non-committal, meaning that neither party is obligated to purchase or sell\\nany specific quantity of goods or services. The agreement serves as a framework for future\\nnegotiations but does not impose any binding commitment to enter into specific\\ntransactions. Either party may choose to enter into individual purchase orders under the\\nterms set forth in this Agreement, but there is no minimum purchase requirement. The\\nagreement may be terminated by either party with 30 days' notice.\\nThis non-committal clause provides flexibility by ensuring that there are no specific\\npurchase obligations while still maintaining a formal framework for negotiations.\\n11. Force Majeure\\nNeither party shall be held responsible for failure to perform any obligation under the\\ncontract due to unforeseen circumstances or events beyond their control, such as natural\\ndisasters, war, or government intervention.\\n12. Confidentiality\\nBoth parties agree to maintain the confidentiality of sensitive information exchanged during\\nthe contract and will not disclose it to third parties without prior consent.\\n13. Intellectual Property\\nAny intellectual property created during the contract period, including patents, trademarks,\\nand copyrights, shall remain the exclusive property of the creator, unless otherwise\\nspecified.\\n14. Dispute Resolution\\nIn the event of a dispute, both parties agree to first attempt to resolve the issue through\\nmediation. If mediation fails, arbitration will be used to settle the dispute.\\n15. Governing Law\\nThis contract shall be governed by and construed in accordance with the laws of the state or\\ncountry where the supplier is based.\\n16. Non-Compete\\nThe supplier agrees not to engage in any business that directly competes with the buyer's\\nbusiness within a specified time period and geographical location after the contract ends.\\n17. Indemnification\\nThe supplier agrees to indemnify and hold harmless the buyer from any legal claims or\\nliabilities arising from the supplier's actions, negligence, or failure to fulfill contractual\\nobligations.\\n18. Audit Rights\\nThe buyer has the right to audit the supplier's financial records and operations to ensure\\ncompliance with the terms and conditions of the contract.\\n19. Performance Bonds\\nThe supplier agrees to provide a performance bond as security to ensure the fulfillment of\\nall contractual obligations and the payment of any claims resulting from non-performance.\\n20. Amendment\\nAny amendments or modifications to this contract must be in writing and signed by\\nauthorized representatives of both parties.\\nSignatures:\\nSupplier Representative Name\\nBuyer Representative Name\\nDate:\\n\", '@search.score': 1.0, '@search.reranker_score': None, '@search.highlights': None, '@search.captions': None}\n"
          ]
        }
      ],
      "source": [
        "# Query all documents in the index\n",
        "def get_all_documents():\n",
        "    results = search_client.search(search_text=\"*\", top=10)  # Use \"*\" to match all documents\n",
        "    for result in results:\n",
        "        print(result)\n",
        "\n",
        "# Call the function to print documents\n",
        "get_all_documents()"
      ]
    },
    {
      "cell_type": "code",
      "execution_count": null,
      "metadata": {
        "colab": {
          "base_uri": "https://localhost:8080/"
        },
        "id": "FiFP_wW_FNwr",
        "outputId": "2c0a6b92-1b20-4052-a2ed-ec423f6f1852"
      },
      "outputs": [
        {
          "name": "stdout",
          "output_type": "stream",
          "text": [
            "[\"6. Payment Terms The Buyer agrees to settle all invoices within 30 days of receipt. Payments will be made via bank transfer to the Supplier's designated account. In exchange for early payment, the Supplier offers a 2% discount if the invoice is paid within 10 days. This clause incentivizes the Buyer to make early payments while offering a standard 30-day payment period. The early payment discount supports the Supplier's cash flow while providing savings for the Buyer.\", \"Company A Contract Document\\nContract Title: Supplier Agreement\\nThis Agreement is made and entered into as of [Date], by and between:\\nSupplier Name: [Supplier A]\\nBuyer Name: [Buyer A]\\nContract Duration: [Start Date] to [End Date]\\n1. Rebates/Volume Discounts\\nThe Supplier agrees to provide volume-based discounts to the Buyer, incentivizing higher\\npurchase volumes with proportional rebates. For each calendar quarter, the Supplier will\\nassess the total purchase volume made by the Buyer and apply tiered discounts once certain\\nthresholds are met. Volume thresholds and their associated rebate percentages are detailed\\nin Appendix A of this contract. Should the Buyer's purchases meet or exceed a specified\\nthreshold within the quarter, a corresponding rebate will be issued in the form of a credit\\nnote, applied to the following quarter's orders.\\nIf the Buyer reaches multiple thresholds within the same quarter, the Supplier will apply the\\nhighest qualifying rebate for that period. The Buyer is eligible to apply the credit note within\\nsix months of issuance, and unused credits beyond this period will be forfeited. Rebates do\\nnot apply to items returned or otherwise refunded, and only net purchase volumes (after\\nreturns or adjustments) will be eligible for rebate calculations. Both parties agree that\\nadjustments to the rebate structure can be negotiated annually to reflect changing demand\\nand market conditions.\\n2. SLAs/Service Credits\\nThe Supplier commits to maintaining a minimum service level, as outlined in the Service\\nLevel Agreement (SLA) Schedule of this contract. This includes an uptime percentage of no\\nless than 99.5% monthly. In the event of any service interruptions or downtimes exceeding\\nthe allowable limit, the Supplier will provide service credits to the Buyer based on the\\nduration and impact of the downtime.\\nService credits will be calculated as a percentage of the monthly service fee, with specific\\npercentages detailed in the SLA Schedule. Credits will be applied to the Buyer's next billing\\ncycle. If the Supplier fails to meet the SLA for three consecutive months, the Buyer reserves\\nthe right to review the agreement and, if necessary, terminate the contract without penalty.\\nBoth parties agree that the Supplier will proactively report service performance at the end\\nof each month, providing transparency and accountability.\\n3. Price Protection\\nThe prices set forth in this agreement shall remain fixed for the initial 12 months.\\nThereafter, pricing will be subject to an annual review based on market indices for\\ncomparable goods and services, as determined by a mutually agreed-upon benchmark. Any\\nprice adjustment shall be limited to a maximum increase of 3% per annum unless both\\nparties agree otherwise.\\nIn the event of significant market fluctuations, the Buyer reserves the right to request a\\nformal pricing review, ensuring continued competitive rates. If the Supplier proposes any\\nprice increase exceeding the agreed limit, the Buyer may request a detailed breakdown of\\nthe cost factors justifying the increase. Both parties agree to meet and negotiate in good\\nfaith to resolve any pricing disputes, with the goal of maintaining a fair and stable pricing\\nstructure throughout the contract term.\\n4. Forex\\nThe exchange rate applied to payments under this contract shall be locked at the rate in\\neffect at the time of signing for the first 12 months. An annual review will allow both parties\\nto adjust the rate based on the prevailing market conditions, using the average rate from a\\ntrusted financial institution as a reference.\\nIf the exchange rate fluctuates by more than 5% during the review period, an adjustment\\nwill be applied to reflect this change. This exchange rate lock minimizes currency risk for\\nboth parties and ensures predictable pricing adjustments on an annual basis.\\n5. COLA/Inflation Adjustment\\nThe contract pricing will be reviewed and adjusted annually based on the national\\nConsumer Price Index (CPI). A price increase or decrease will be applied proportionally to\\nreflect changes in the CPI over the previous year, with adjustments capped at 5% per year to\\nprevent significant fluctuations.\\nBoth parties agree to a yearly review meeting to discuss any economic changes that may\\nimpact contract pricing. This adjustment ensures fair alignment with inflation trends while\\ncapping excessive price changes.\\n6. Payment Terms\\nThe Buyer agrees to settle all invoices within 30 days of receipt. Payments will be made via\\nbank transfer to the Supplier's designated account. In exchange for early payment, the\\nSupplier offers a 2% discount if the invoice is paid within 10 days.\\nThis clause incentivizes the Buyer to make early payments while offering a standard 30-day\\npayment period. The early payment discount supports the Supplier's cash flow while\\nproviding savings for the Buyer.\\n7. Early Payment Discounts\\nThe Buyer is entitled to a 2% discount on the total invoice amount if full payment is made\\nwithin 10 days from the invoice issuance date. This discount will apply only to invoices paid\\nvia direct bank transfer and does not apply to partial payments.\\nThis clause encourages the Buyer to settle invoices promptly, improving cash flow for the\\nSupplier. The direct bank transfer requirement ensures lower processing fees and quicker\\nfund availability.\\n8. Late Payment Penalties\\nThe Buyer agrees that any invoice not paid within 30 days of the invoice date will incur a\\npenalty of 1.5% interest per month on the outstanding balance. The penalty will be applied\\nmonthly until the total balance is settled. The Supplier reserves the right to suspend services\\nif payments are more than 60 days overdue.\\nThis penalty structure deters late payments by adding a significant financial consequence\\nthat compounds monthly, while also providing the Supplier with the option to suspend\\nservices if the issue persists.\\n9. Termination Provisions\\nEither party may terminate this Agreement for convenience, without penalty, by providing a\\nwritten notice at least 60 days prior to the intended termination date. During this notice\\nperiod, both parties agree to fulfill all existing obligations, including any outstanding orders\\nand payment commitments. Termination under this clause does not affect any accrued\\nrights or obligations prior to the termination date.\\nThis variation allows flexibility by giving both parties a clear and reasonable timeline for\\nending the contract if business circumstances change, without fault or penalty.\\n10. Committal/Non-Committal Contracts\\nThis Agreement is non-committal, meaning that neither party is obligated to purchase or sell\\nany specific quantity of goods or services. The agreement serves as a framework for future\\nnegotiations but does not impose any binding commitment to enter into specific\\ntransactions. Either party may choose to enter into individual purchase orders under the\\nterms set forth in this Agreement, but there is no minimum purchase requirement. The\\nagreement may be terminated by either party with 30 days' notice.\\nThis non-committal clause provides flexibility by ensuring that there are no specific\\npurchase obligations while still maintaining a formal framework for negotiations.\\n11. Force Majeure\\nNeither party shall be held responsible for failure to perform any obligation under the\\ncontract due to unforeseen circumstances or events beyond their control, such as natural\\ndisasters, war, or government intervention.\\n12. Confidentiality\\nBoth parties agree to maintain the confidentiality of sensitive information exchanged during\\nthe contract and will not disclose it to third parties without prior consent.\\n13. Intellectual Property\\nAny intellectual property created during the contract period, including patents, trademarks,\\nand copyrights, shall remain the exclusive property of the creator, unless otherwise\\nspecified.\\n14. Dispute Resolution\\nIn the event of a dispute, both parties agree to first attempt to resolve the issue through\\nmediation. If mediation fails, arbitration will be used to settle the dispute.\\n15. Governing Law\\nThis contract shall be governed by and construed in accordance with the laws of the state or\\ncountry where the supplier is based.\\n16. Non-Compete\\nThe supplier agrees not to engage in any business that directly competes with the buyer's\\nbusiness within a specified time period and geographical location after the contract ends.\\n17. Indemnification\\nThe supplier agrees to indemnify and hold harmless the buyer from any legal claims or\\nliabilities arising from the supplier's actions, negligence, or failure to fulfill contractual\\nobligations.\\n18. Audit Rights\\nThe buyer has the right to audit the supplier's financial records and operations to ensure\\ncompliance with the terms and conditions of the contract.\\n19. Performance Bonds\\nThe supplier agrees to provide a performance bond as security to ensure the fulfillment of\\nall contractual obligations and the payment of any claims resulting from non-performance.\\n20. Amendment\\nAny amendments or modifications to this contract must be in writing and signed by\\nauthorized representatives of both parties.\\nSignatures:\\nSupplier Representative Name\\nBuyer Representative Name\\nDate:\\n\", 'and payment commitments. Termination under this clause does not affect any accrued', '7. Early Payment Discounts The Buyer is entitled to a 2% discount on the total invoice amount if full payment is made within 10 days from the invoice issuance date. This discount will apply only to invoices paid via direct bank transfer and does not apply to partial payments. This clause encourages the Buyer to settle invoices promptly, improving cash flow for the Supplier. The direct bank transfer requirement ensures lower processing fees and quicker fund availability. 8. Late Payment Penalties The Buyer agrees that any invoice not paid within 30 days of the invoice date will incur a penalty of 1.5% interest per month on the outstanding balance. The penalty will be applied monthly until the total balance is settled. The Supplier reserves the right to suspend services if payments are more than 60 days overdue. This penalty structure deters late payments by adding a significant financial consequence that compounds monthly, while also providing the Supplier with the option to suspend services if the issue persists.', \"17. Indemnification The supplier agrees to indemnify and hold harmless the buyer from any legal claims or liabilities arising from the supplier's actions, negligence, or failure to fulfill contractual obligations. 18. Audit Rights The buyer has the right to audit the supplier's financial records and operations to ensure compliance with the terms and conditions of the contract. 19. Performance Bonds The supplier agrees to provide a performance bond as security to ensure the fulfillment of all contractual obligations and the payment of any claims resulting from non-performance. 20. Amendment Any amendments or modifications to this contract must be in writing and signed by authorized representatives of both parties. Signatures: Supplier Representative Name Buyer Representative Name Date:\", \"10. Committal/Non-Committal Contracts This Agreement is non-committal, meaning that neither party is obligated to purchase or sell any specific quantity of goods or services. The agreement serves as a framework for future negotiations but does not impose any binding commitment to enter into specific transactions. Either party may choose to enter into individual purchase orders under the terms set forth in this Agreement, but there is no minimum purchase requirement. The agreement may be terminated by either party with 30 days' notice. This non-committal clause provides flexibility by ensuring that there are no specific purchase obligations while still maintaining a formal framework for negotiations. 11. Force Majeure Neither party shall be held responsible for failure to perform any obligation under the contract due to unforeseen circumstances or events beyond their control, such as natural disasters, war, or government intervention.\"]\n"
          ]
        }
      ],
      "source": [
        "def search_for_clause(clause_title):\n",
        "    results = search_client.search(clause_title)  # Search for a specific clause title\n",
        "    clauses = []\n",
        "    for result in results:\n",
        "        clauses.append(result['text'])\n",
        "    return clauses\n",
        "\n",
        "# Search for a specific clause\n",
        "clause_title = \"Payment Terms\"\n",
        "clauses = search_for_clause(clause_title)\n",
        "print(clauses)"
      ]
    },
    {
      "cell_type": "code",
      "execution_count": null,
      "metadata": {
        "colab": {
          "base_uri": "https://localhost:8080/"
        },
        "id": "W1zc7WR8G9CE",
        "outputId": "45eeef8c-369a-4d7a-fbc4-0b90f350f1cc"
      },
      "outputs": [
        {
          "name": "stdout",
          "output_type": "stream",
          "text": [
            "Requirement already satisfied: openai in /usr/local/lib/python3.10/dist-packages (1.52.2)\n",
            "Requirement already satisfied: anyio<5,>=3.5.0 in /usr/local/lib/python3.10/dist-packages (from openai) (3.7.1)\n",
            "Requirement already satisfied: distro<2,>=1.7.0 in /usr/local/lib/python3.10/dist-packages (from openai) (1.9.0)\n",
            "Requirement already satisfied: httpx<1,>=0.23.0 in /usr/local/lib/python3.10/dist-packages (from openai) (0.27.2)\n",
            "Requirement already satisfied: jiter<1,>=0.4.0 in /usr/local/lib/python3.10/dist-packages (from openai) (0.6.1)\n",
            "Requirement already satisfied: pydantic<3,>=1.9.0 in /usr/local/lib/python3.10/dist-packages (from openai) (2.9.2)\n",
            "Requirement already satisfied: sniffio in /usr/local/lib/python3.10/dist-packages (from openai) (1.3.1)\n",
            "Requirement already satisfied: tqdm>4 in /usr/local/lib/python3.10/dist-packages (from openai) (4.66.6)\n",
            "Requirement already satisfied: typing-extensions<5,>=4.11 in /usr/local/lib/python3.10/dist-packages (from openai) (4.12.2)\n",
            "Requirement already satisfied: idna>=2.8 in /usr/local/lib/python3.10/dist-packages (from anyio<5,>=3.5.0->openai) (3.10)\n",
            "Requirement already satisfied: exceptiongroup in /usr/local/lib/python3.10/dist-packages (from anyio<5,>=3.5.0->openai) (1.2.2)\n",
            "Requirement already satisfied: certifi in /usr/local/lib/python3.10/dist-packages (from httpx<1,>=0.23.0->openai) (2024.8.30)\n",
            "Requirement already satisfied: httpcore==1.* in /usr/local/lib/python3.10/dist-packages (from httpx<1,>=0.23.0->openai) (1.0.6)\n",
            "Requirement already satisfied: h11<0.15,>=0.13 in /usr/local/lib/python3.10/dist-packages (from httpcore==1.*->httpx<1,>=0.23.0->openai) (0.14.0)\n",
            "Requirement already satisfied: annotated-types>=0.6.0 in /usr/local/lib/python3.10/dist-packages (from pydantic<3,>=1.9.0->openai) (0.7.0)\n",
            "Requirement already satisfied: pydantic-core==2.23.4 in /usr/local/lib/python3.10/dist-packages (from pydantic<3,>=1.9.0->openai) (2.23.4)\n"
          ]
        }
      ],
      "source": [
        "!pip install openai"
      ]
    },
    {
      "cell_type": "code",
      "execution_count": null,
      "metadata": {
        "id": "HmRYx3LMHBfy"
      },
      "outputs": [],
      "source": [
        "import openai\n",
        "import os"
      ]
    },
    {
      "cell_type": "markdown",
      "metadata": {
        "id": "SiBhxT55kQzz"
      },
      "source": [
        "Create Azure OpenAI resource - GPT-4 deployment"
      ]
    },
    {
      "cell_type": "markdown",
      "metadata": {
        "id": "kx2FzHkFkZuO"
      },
      "source": [
        "Test env - GPT-35 deployment with its own resource"
      ]
    },
    {
      "cell_type": "code",
      "execution_count": null,
      "metadata": {
        "id": "kzsFEzVQHGwo"
      },
      "outputs": [],
      "source": [
        "from openai import AzureOpenAI\n",
        "client = AzureOpenAI(\n",
        "  api_key=\"\",\n",
        "  api_version = \"2024-02-01\",\n",
        "  azure_endpoint = \"https://-m3bvvhbw-westeurope.openai.azure.com/\"\n",
        ")\n"
      ]
    },
    {
      "cell_type": "code",
      "execution_count": null,
      "metadata": {
        "id": "gOREo3CYHJ4-"
      },
      "outputs": [],
      "source": [
        "\n",
        "def summarize_clause(clause_text):\n",
        "    messages = [\n",
        "        {\"role\": \"system\", \"content\": \"You are a helpful assistant specialized in summarizing legal clauses.\"},\n",
        "        {\"role\": \"user\", \"content\": f\"Please summarize the following clause: {clause_text}\"}\n",
        "    ]\n",
        "\n",
        "    response = client.chat.completions.create(\n",
        "        model=\"gpt-35-turbo\",\n",
        "        messages=messages,\n",
        "        max_tokens=150\n",
        "    )\n",
        "    summary = response.choices[0].message.content.strip()\n",
        "    return summary"
      ]
    },
    {
      "cell_type": "code",
      "execution_count": null,
      "metadata": {
        "id": "8tFGErSw6rst"
      },
      "outputs": [],
      "source": [
        "def generate_summary(clause_title, relevant_clauses):\n",
        "    prompt = f\"Summarize the information about '{clause_title}' using the following references: {relevant_clauses}. If the information doesn't cover the clause title, indicate that it is absent.\"\n",
        "    messages=[\n",
        "            {\"role\": \"system\", \"content\": \"You are a contract summarization assistant.\"},\n",
        "            {\"role\": \"user\", \"content\": prompt}\n",
        "    ]\n",
        "    response = client.chat.completions.create(\n",
        "        model=\"gpt-35-turbo\",\n",
        "        messages=messages,\n",
        "        max_tokens=150\n",
        "    )\n",
        "    summary = response.choices[0].message.content.strip()\n",
        "    return summary\n"
      ]
    },
    {
      "cell_type": "code",
      "execution_count": null,
      "metadata": {
        "colab": {
          "base_uri": "https://localhost:8080/"
        },
        "id": "lisltpFXNI7g",
        "outputId": "6df6bcf5-0683-425c-97f1-b649bbaaa4aa"
      },
      "outputs": [
        {
          "name": "stdout",
          "output_type": "stream",
          "text": [
            "Clause: Price Protection\n",
            "Summary: The information provided under the reference '3. Price Protection' states that the prices set forth in the agreement will remain fixed for the initial 12 months, and thereafter, pricing will be subject to an annual review based on market indices for comparable goods and services, with any price adjustment limited to a maximum increase of 3% per annum unless agreed otherwise. The clause also allows the buyer to request a formal pricing review in the event of significant market fluctuations and requires the Supplier to provide a detailed breakdown of cost factors justifying any proposed price increase exceeding the agreed limit. Both parties agree to meet and negotiate in good faith to resolve any pricing disputes, with the goal of maintaining a fair and stable pricing structure throughout the contract term. The information given under other\n",
            "\n",
            "Clause: Termination Provisions\n",
            "Summary: The Termination Provisions clause allows either party to end the contract by providing a written notice at least 60 days prior to the intended termination date without penalty, while both parties agree to fulfill all existing obligations, including any outstanding orders and payment commitments. The termination under this clause does not affect any accrued rights or obligations prior to the termination date.\n",
            "\n",
            "Clause: Invalid - Absent\n",
            "\n",
            "\n"
          ]
        }
      ],
      "source": [
        "# List of clause titles you are looking for\n",
        "'''\n",
        "clause_titles = [\n",
        "    \"Termination Provisions\",\n",
        "    \"Confidentiality\",\n",
        "    \"Indemnification\",\n",
        "    \"Rebates/Volume Discounts\",\n",
        "    \"Payment Terms\",\n",
        "    \"SLAs/Service Credits\",\n",
        "    \"Price Protection\",\n",
        "    \"Forex\",\n",
        "    \"COLA/Inflation Adjustment\",\n",
        "    \"Late Payment Penalties\"\n",
        "]\n",
        "'''\n",
        "clause_titles = [\n",
        "    \"Price Protection\",\n",
        "    \"Termination Provisions\",\n",
        "    \"Invalid\"\n",
        "]\n",
        "\n",
        "def generate_report(clause_titles):\n",
        "    report = \"\"\n",
        "    for title in clause_titles:\n",
        "        clauses = search_for_clause(title)\n",
        "        if clauses:\n",
        "            report += f\"Clause: {title}\\n\"\n",
        "            summary = generate_summary(title, clauses)\n",
        "            report += f\"Summary: {summary}\\n\\n\"\n",
        "            '''\n",
        "            for clause in clauses:\n",
        "                summary = summarize_clause(clause)\n",
        "                report += f\"Summary: {summary}\\n\\n\"\n",
        "            '''\n",
        "        else:\n",
        "            report += f\"Clause: {title} - Absent\\n\\n\"\n",
        "    return report\n",
        "\n",
        "# Generate and print the final report\n",
        "final_report = generate_report(clause_titles)\n",
        "print(final_report)\n"
      ]
    },
    {
      "cell_type": "markdown",
      "metadata": {
        "id": "hORvPE4ukh40"
      },
      "source": [
        "In the same azure OpenAI resource with gpt4/35 deployment create test-embedding-ada-002 deployment"
      ]
    },
    {
      "cell_type": "code",
      "execution_count": null,
      "metadata": {
        "id": "KtGXKKZ_HpFC"
      },
      "outputs": [],
      "source": [
        "from sklearn.metrics.pairwise import cosine_similarity\n",
        "import numpy as np"
      ]
    },
    {
      "cell_type": "code",
      "execution_count": null,
      "metadata": {
        "id": "0Z9BKJGDC4qz"
      },
      "outputs": [],
      "source": [
        "def generate_embeddings(text):\n",
        "    response = client.embeddings.create(\n",
        "        input=text, model=\"text-embedding-ada-002\"\n",
        "    )\n",
        "    embeddings = [embedding.embedding for embedding in response.data]  # Correct way to access the embedding\n",
        "\n",
        "    return embeddings"
      ]
    },
    {
      "cell_type": "code",
      "execution_count": null,
      "metadata": {
        "id": "_VzoIdGdF1kA"
      },
      "outputs": [],
      "source": [
        "def retrieve_relevant_clause(question, clause_segments):\n",
        "    # Generate embeddings for the question\n",
        "    question_embedding = generate_embeddings([question])[0]\n",
        "\n",
        "    # Generate embeddings for all clauses\n",
        "    clause_embeddings = generate_embeddings([clause['Text'] for clause in clause_segments])\n",
        "\n",
        "    # Compute cosine similarity between question embedding and clause embeddings\n",
        "    similarities = cosine_similarity([question_embedding], clause_embeddings)\n",
        "\n",
        "    # Find the most relevant clause based on the highest similarity score\n",
        "    most_relevant_idx = np.argmax(similarities)\n",
        "\n",
        "    return clause_segments[most_relevant_idx]\n"
      ]
    },
    {
      "cell_type": "code",
      "execution_count": null,
      "metadata": {
        "id": "QYdx6QU0F635"
      },
      "outputs": [],
      "source": [
        "\n",
        "# Step 3: Use the retrieved clause to answer the question\n",
        "def answer_question(question, relevant_clause):\n",
        "    prompt = f\"Given the following contract clause, answer the question: '{question}'\\n\\nClause: {relevant_clause['Text']}\\n\\nAnswer:\"\n",
        "    messages=[\n",
        "            {\"role\": \"system\", \"content\": \"You are a legal assistant.\"},\n",
        "            {\"role\": \"user\", \"content\": prompt}\n",
        "        ]\n",
        "    # Call Azure OpenAI API to generate an answer\n",
        "    response = client.chat.completions.create(\n",
        "        model=\"gpt-35-turbo\",\n",
        "        messages=messages,\n",
        "        max_tokens=150\n",
        "    )\n",
        "\n",
        "    return response.choices[0].message.content.strip()\n"
      ]
    },
    {
      "cell_type": "code",
      "execution_count": null,
      "metadata": {
        "colab": {
          "base_uri": "https://localhost:8080/"
        },
        "id": "_MIPOnI9F-2Z",
        "outputId": "22e17a94-d92e-4d89-a15a-45e3827be57c"
      },
      "outputs": [
        {
          "name": "stdout",
          "output_type": "stream",
          "text": [
            "Answer: You pay 1.5% interest per month as late penalties.\n"
          ]
        }
      ],
      "source": [
        "\n",
        "# Example question about the contract\n",
        "question = \"What percent interest do I pay for late penalties?\"\n",
        "\n",
        "# Retrieve relevant clause\n",
        "relevant_clause = retrieve_relevant_clause(question, clause_segments)\n",
        "\n",
        "# Get the answer for the question\n",
        "answer = answer_question(question, relevant_clause)\n",
        "\n",
        "print(f\"Answer: {answer}\")"
      ]
    }
  ],
  "metadata": {
    "colab": {
      "provenance": []
    },
    "kernelspec": {
      "display_name": "Python 3",
      "name": "python3"
    },
    "language_info": {
      "name": "python"
    }
  },
  "nbformat": 4,
  "nbformat_minor": 0
}
